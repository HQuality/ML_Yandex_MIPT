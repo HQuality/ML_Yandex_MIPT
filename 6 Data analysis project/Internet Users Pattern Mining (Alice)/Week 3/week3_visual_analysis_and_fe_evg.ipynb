{
 "cells": [
  {
   "cell_type": "markdown",
   "metadata": {},
   "source": [
    "<center>\n",
    "<img src=\"https://habrastorage.org/web/677/8e1/337/6778e1337c3d4b159d7e99df94227cb2.jpg\"/>\n",
    "## Специализация \"Машинное обучение и анализ данных\"\n",
    "<center>Автор материала: программист-исследователь Mail.Ru Group, старший преподаватель Факультета Компьютерных Наук ВШЭ [Юрий Кашницкий](https://yorko.github.io/)"
   ]
  },
  {
   "cell_type": "markdown",
   "metadata": {},
   "source": [
    "# <center>  Capstone проект №1 <br> Идентификация пользователей по посещенным веб-страницам\n",
    "<img src='http://i.istockimg.com/file_thumbview_approve/21546327/5/stock-illustration-21546327-identification-de-l-utilisateur.jpg'>\n",
    "\n",
    "# <center>Неделя 3. Визуальный анализ данных и построение признаков\n",
    "\n",
    "На 3 неделе мы займемся визуальным анализом данных и построением признаков. Сначала мы вместе построим и проанализируем несколько признаков, потом Вы сможете сами придумать и описать различные признаки. \n",
    "\n",
    "**План 3 недели:**\n",
    " - Часть 1. Построение признаков\n",
    " - Часть 2. Визуальный анализ данных\n",
    " - Часть 3. Дальнейшее построение признаков\n",
    " - Часть 4. Проверка построенных признаков\n",
    "\n",
    "**В этой части проекта Вам могут быть полезны видеозаписи следующих лекций курса \"Поиск структуры в данных\":**\n",
    "   - [Задача визуализации](https://www.coursera.org/learn/unsupervised-learning/lecture/hlvlT/zadacha-vizualizatsii)\n",
    "   - [Визуализация данных в sklearn](https://www.coursera.org/learn/unsupervised-learning/lecture/ityMo/vizualizatsiia-dannykh-v-sklearn)\n",
    "   \n",
    "**Также в задании будет использоваться библиотека Seaborn (ее можно дополнительно установить командой *pip install seaborn*), будет полезно обращаться к документациям [Matplotlib](http://matplotlib.org/users/) и [Seaborn](http://seaborn.pydata.org/), а также к примерам визуализации, описанным на StackOverflow.**\n",
    "\n"
   ]
  },
  {
   "cell_type": "markdown",
   "metadata": {},
   "source": [
    "### Задание\n",
    "1. Заполните код в этой тетрадке \n",
    "2. Если вы проходите специализацию Яндеса и МФТИ, пошлите тетрадку в соответствующем Peer Review. <br> Если вы проходите курс ODS, выберите ответы в [веб-форме](https://docs.google.com/forms/d/1EbjK7-hF-Gepi6RH-K5I2XeiYGRoY0LNDx03QmLu9Xo). "
   ]
  },
  {
   "cell_type": "markdown",
   "metadata": {},
   "source": [
    "## Часть 1. Построение признаков"
   ]
  },
  {
   "cell_type": "code",
   "execution_count": 2,
   "metadata": {},
   "outputs": [],
   "source": [
    "from glob import glob\n",
    "import os\n",
    "import pickle\n",
    "#pip install tqdm\n",
    "from tqdm import tqdm_notebook\n",
    "import numpy as np\n",
    "import pandas as pd\n",
    "from scipy.sparse import csr_matrix, coo_matrix\n",
    "import glob\n",
    "import csv\n",
    "import datetime\n",
    "import time\n",
    "from matplotlib import pyplot as plt\n",
    "import seaborn as sns"
   ]
  },
  {
   "cell_type": "code",
   "execution_count": 3,
   "metadata": {},
   "outputs": [],
   "source": [
    "# Поменяйте на свой путь к данным\n",
    "PATH_TO_DATA = '../capstone_user_identification'"
   ]
  },
  {
   "cell_type": "markdown",
   "metadata": {},
   "source": [
    "**Создайте на основе функций *prepare_train_set* и *prepare_sparse_train_set_window*  новую – *prepare_train_set_with_fe*, (от \"feature engineering\"), создайте следующие признаки:**\n",
    "- `session_timespan` – продолжительность сессии (разница между максимальным и минимальным временем посещения сайтов в сессии, в секундах)\n",
    "- `#unique_sites` – число уникальных сайтов в сессии \n",
    "- `start_hour` – час начала сессии (то есть час в записи минимального timestamp среди десяти)\n",
    "- `day_of_week` – день недели (то есть день недели в записи минимального timestamp среди десяти)\n",
    "\n",
    "Функция должна возвращать новый DataFrame (как возвращала функция *prepare_train_set*), только признаков должно быть на 4 больше. Порядок, в котором добавляются признаки: *site1*, ... *site10*, *session_timespan*, *#unique_sites*, *start_hour*, *day_of_week* и *user_id* (это видно и чуть ниже по тому, как функция вызывается)."
   ]
  },
  {
   "cell_type": "code",
   "execution_count": 4,
   "metadata": {},
   "outputs": [],
   "source": [
    "def file_to_sites(f):\n",
    "    with open(f,'r') as f_open:\n",
    "        cin = csv.DictReader(f_open,fieldnames=['timestamp','site'])\n",
    "        next(cin, None)\n",
    "        sites_data = [row for row in cin]\n",
    "        times = [datetime.datetime.strptime(v['timestamp'], '%Y-%m-%d %H:%M:%S') for v in sites_data]\n",
    "        sites = [v['site'] for v in sites_data]\n",
    "        return sites, times\n",
    "\n",
    "def append_new_features(session, session_times, user_id, session_length):\n",
    "    unique_sites = np.unique(session)\n",
    "    num_unique_sites = len(unique_sites)\n",
    "    if 0 in unique_sites:\n",
    "        num_unique_sites -= 1  \n",
    "    start_time = np.min(session_times)\n",
    "    finish_time = np.max(session_times)\n",
    "    time_span = int(time.mktime(finish_time.timetuple()) - time.mktime(start_time.timetuple()))\n",
    "\n",
    "    session.append(time_span)\n",
    "    session.append(num_unique_sites)\n",
    "    session.append(start_time.hour)\n",
    "    session.append(start_time.weekday())\n",
    "    session.append(user_id)  \n",
    "    return session\n",
    "\n",
    "def prepare_train_set_with_fe(path_to_csv_files, site_freq_path, feature_names,\n",
    "                                    session_length=10, window_size=10):\n",
    "    path = path_to_csv_files + '/*csv'\n",
    "    files = glob.glob(path)\n",
    "    with open(site_freq_path,'rb') as site_freq_file:\n",
    "        site_freq = pickle.load(site_freq_file)\n",
    "    columns = ['site' + str(x + 1) for x in range(session_length)]\n",
    "    columns +=  ['session_timespan','#unique_sites','start_hour','day_of_week','user_id']\n",
    "    sessions_list = []\n",
    "    id = 1\n",
    "    for file_name in files:\n",
    "            user_id = int(file_name[-8:-4])\n",
    "            sites,times = file_to_sites(file_name)\n",
    "            session = []\n",
    "            for i in range(len(sites)):\n",
    "                site = sites[i]\n",
    "                site_id = site_freq[site][0]\n",
    "                session.append(site_id)\n",
    "                if len(session) == session_length:\n",
    "                    session_times = times[i - session_length + 1 : i + 1]\n",
    "                    session = append_new_features(session,session_times,user_id,session_length)\n",
    "                    sessions_list.append(session)\n",
    "                    session = []\n",
    "            if len(session) != 0:\n",
    "                session_times = times[i - len(session) + 1 : i + 1]\n",
    "                session += [0] * (session_length - len(session))\n",
    "                session = append_new_features(session,session_times,user_id,session_length)\n",
    "                sessions_list.append(session)\n",
    "                session = []\n",
    "    sessions = pd.DataFrame(sessions_list, columns = columns)\n",
    "    return sessions"
   ]
  },
  {
   "cell_type": "markdown",
   "metadata": {},
   "source": [
    "**Проверим функцию на игрушечном примере.**"
   ]
  },
  {
   "cell_type": "code",
   "execution_count": 4,
   "metadata": {},
   "outputs": [],
   "source": [
    "feature_names = ['site' + str(i) for i in range(1,11)] + \\\n",
    "                ['time_diff' + str(j) for j in range(1,10)] + \\\n",
    "                ['session_timespan', '#unique_sites', 'start_hour', \n",
    "                 'day_of_week', 'target']\n",
    "train_data_toy  = prepare_train_set_with_fe(os.path.join(PATH_TO_DATA, \n",
    "                                                         '3users'), \n",
    "                  site_freq_path=os.path.join(PATH_TO_DATA, \n",
    "                                              'site_freq_3users.pkl'),\n",
    "                  feature_names=feature_names, session_length=10)"
   ]
  },
  {
   "cell_type": "code",
   "execution_count": 5,
   "metadata": {},
   "outputs": [
    {
     "data": {
      "text/html": [
       "<div>\n",
       "<style scoped>\n",
       "    .dataframe tbody tr th:only-of-type {\n",
       "        vertical-align: middle;\n",
       "    }\n",
       "\n",
       "    .dataframe tbody tr th {\n",
       "        vertical-align: top;\n",
       "    }\n",
       "\n",
       "    .dataframe thead th {\n",
       "        text-align: right;\n",
       "    }\n",
       "</style>\n",
       "<table border=\"1\" class=\"dataframe\">\n",
       "  <thead>\n",
       "    <tr style=\"text-align: right;\">\n",
       "      <th></th>\n",
       "      <th>site1</th>\n",
       "      <th>site2</th>\n",
       "      <th>site3</th>\n",
       "      <th>site4</th>\n",
       "      <th>site5</th>\n",
       "      <th>site6</th>\n",
       "      <th>site7</th>\n",
       "      <th>site8</th>\n",
       "      <th>site9</th>\n",
       "      <th>site10</th>\n",
       "      <th>session_timespan</th>\n",
       "      <th>#unique_sites</th>\n",
       "      <th>start_hour</th>\n",
       "      <th>day_of_week</th>\n",
       "      <th>user_id</th>\n",
       "    </tr>\n",
       "  </thead>\n",
       "  <tbody>\n",
       "    <tr>\n",
       "      <th>0</th>\n",
       "      <td>1</td>\n",
       "      <td>2</td>\n",
       "      <td>2</td>\n",
       "      <td>3</td>\n",
       "      <td>2</td>\n",
       "      <td>4</td>\n",
       "      <td>5</td>\n",
       "      <td>6</td>\n",
       "      <td>7</td>\n",
       "      <td>8</td>\n",
       "      <td>7998</td>\n",
       "      <td>8</td>\n",
       "      <td>9</td>\n",
       "      <td>4</td>\n",
       "      <td>1</td>\n",
       "    </tr>\n",
       "    <tr>\n",
       "      <th>1</th>\n",
       "      <td>1</td>\n",
       "      <td>4</td>\n",
       "      <td>4</td>\n",
       "      <td>4</td>\n",
       "      <td>0</td>\n",
       "      <td>0</td>\n",
       "      <td>0</td>\n",
       "      <td>0</td>\n",
       "      <td>0</td>\n",
       "      <td>0</td>\n",
       "      <td>60</td>\n",
       "      <td>2</td>\n",
       "      <td>12</td>\n",
       "      <td>4</td>\n",
       "      <td>1</td>\n",
       "    </tr>\n",
       "    <tr>\n",
       "      <th>2</th>\n",
       "      <td>1</td>\n",
       "      <td>2</td>\n",
       "      <td>9</td>\n",
       "      <td>9</td>\n",
       "      <td>2</td>\n",
       "      <td>0</td>\n",
       "      <td>0</td>\n",
       "      <td>0</td>\n",
       "      <td>0</td>\n",
       "      <td>0</td>\n",
       "      <td>7935</td>\n",
       "      <td>3</td>\n",
       "      <td>9</td>\n",
       "      <td>4</td>\n",
       "      <td>2</td>\n",
       "    </tr>\n",
       "    <tr>\n",
       "      <th>3</th>\n",
       "      <td>10</td>\n",
       "      <td>4</td>\n",
       "      <td>2</td>\n",
       "      <td>4</td>\n",
       "      <td>2</td>\n",
       "      <td>4</td>\n",
       "      <td>4</td>\n",
       "      <td>6</td>\n",
       "      <td>11</td>\n",
       "      <td>10</td>\n",
       "      <td>7998</td>\n",
       "      <td>5</td>\n",
       "      <td>9</td>\n",
       "      <td>4</td>\n",
       "      <td>3</td>\n",
       "    </tr>\n",
       "    <tr>\n",
       "      <th>4</th>\n",
       "      <td>10</td>\n",
       "      <td>4</td>\n",
       "      <td>2</td>\n",
       "      <td>0</td>\n",
       "      <td>0</td>\n",
       "      <td>0</td>\n",
       "      <td>0</td>\n",
       "      <td>0</td>\n",
       "      <td>0</td>\n",
       "      <td>0</td>\n",
       "      <td>1471</td>\n",
       "      <td>3</td>\n",
       "      <td>12</td>\n",
       "      <td>4</td>\n",
       "      <td>3</td>\n",
       "    </tr>\n",
       "  </tbody>\n",
       "</table>\n",
       "</div>"
      ],
      "text/plain": [
       "   site1  site2  site3  site4  site5  site6  site7  site8  site9  site10  \\\n",
       "0      1      2      2      3      2      4      5      6      7       8   \n",
       "1      1      4      4      4      0      0      0      0      0       0   \n",
       "2      1      2      9      9      2      0      0      0      0       0   \n",
       "3     10      4      2      4      2      4      4      6     11      10   \n",
       "4     10      4      2      0      0      0      0      0      0       0   \n",
       "\n",
       "   session_timespan  #unique_sites  start_hour  day_of_week  user_id  \n",
       "0              7998              8           9            4        1  \n",
       "1                60              2          12            4        1  \n",
       "2              7935              3           9            4        2  \n",
       "3              7998              5           9            4        3  \n",
       "4              1471              3          12            4        3  "
      ]
     },
     "execution_count": 5,
     "metadata": {},
     "output_type": "execute_result"
    }
   ],
   "source": [
    "train_data_toy"
   ]
  },
  {
   "cell_type": "markdown",
   "metadata": {},
   "source": [
    "**Примените функцию *prepare_train_set_with_fe* к данным по 10 пользователям, укажите *session_length*=10.**"
   ]
  },
  {
   "cell_type": "code",
   "execution_count": 7,
   "metadata": {},
   "outputs": [
    {
     "name": "stdout",
     "output_type": "stream",
     "text": [
      "Wall time: 7.15 s\n"
     ]
    }
   ],
   "source": [
    "%%time\n",
    "train_data_10users = prepare_train_set_with_fe(os.path.join(PATH_TO_DATA, \n",
    "                                                         '10users'), \n",
    "                  site_freq_path=os.path.join(PATH_TO_DATA, \n",
    "                                              'site_freq_10users.pkl'),\n",
    "                  feature_names=feature_names, session_length=10)"
   ]
  },
  {
   "cell_type": "code",
   "execution_count": 8,
   "metadata": {},
   "outputs": [
    {
     "data": {
      "text/html": [
       "<div>\n",
       "<style scoped>\n",
       "    .dataframe tbody tr th:only-of-type {\n",
       "        vertical-align: middle;\n",
       "    }\n",
       "\n",
       "    .dataframe tbody tr th {\n",
       "        vertical-align: top;\n",
       "    }\n",
       "\n",
       "    .dataframe thead th {\n",
       "        text-align: right;\n",
       "    }\n",
       "</style>\n",
       "<table border=\"1\" class=\"dataframe\">\n",
       "  <thead>\n",
       "    <tr style=\"text-align: right;\">\n",
       "      <th></th>\n",
       "      <th>site1</th>\n",
       "      <th>site2</th>\n",
       "      <th>site3</th>\n",
       "      <th>site4</th>\n",
       "      <th>site5</th>\n",
       "      <th>site6</th>\n",
       "      <th>site7</th>\n",
       "      <th>site8</th>\n",
       "      <th>site9</th>\n",
       "      <th>site10</th>\n",
       "      <th>session_timespan</th>\n",
       "      <th>#unique_sites</th>\n",
       "      <th>start_hour</th>\n",
       "      <th>day_of_week</th>\n",
       "      <th>user_id</th>\n",
       "    </tr>\n",
       "  </thead>\n",
       "  <tbody>\n",
       "    <tr>\n",
       "      <th>0</th>\n",
       "      <td>1</td>\n",
       "      <td>2</td>\n",
       "      <td>3</td>\n",
       "      <td>4</td>\n",
       "      <td>3</td>\n",
       "      <td>3</td>\n",
       "      <td>4</td>\n",
       "      <td>3</td>\n",
       "      <td>5</td>\n",
       "      <td>3</td>\n",
       "      <td>33</td>\n",
       "      <td>5</td>\n",
       "      <td>8</td>\n",
       "      <td>4</td>\n",
       "      <td>31</td>\n",
       "    </tr>\n",
       "    <tr>\n",
       "      <th>1</th>\n",
       "      <td>6</td>\n",
       "      <td>7</td>\n",
       "      <td>8</td>\n",
       "      <td>9</td>\n",
       "      <td>3</td>\n",
       "      <td>10</td>\n",
       "      <td>11</td>\n",
       "      <td>12</td>\n",
       "      <td>13</td>\n",
       "      <td>14</td>\n",
       "      <td>284</td>\n",
       "      <td>10</td>\n",
       "      <td>8</td>\n",
       "      <td>4</td>\n",
       "      <td>31</td>\n",
       "    </tr>\n",
       "    <tr>\n",
       "      <th>2</th>\n",
       "      <td>14</td>\n",
       "      <td>4</td>\n",
       "      <td>14</td>\n",
       "      <td>14</td>\n",
       "      <td>15</td>\n",
       "      <td>16</td>\n",
       "      <td>6</td>\n",
       "      <td>17</td>\n",
       "      <td>18</td>\n",
       "      <td>14</td>\n",
       "      <td>258</td>\n",
       "      <td>7</td>\n",
       "      <td>8</td>\n",
       "      <td>4</td>\n",
       "      <td>31</td>\n",
       "    </tr>\n",
       "    <tr>\n",
       "      <th>3</th>\n",
       "      <td>19</td>\n",
       "      <td>20</td>\n",
       "      <td>19</td>\n",
       "      <td>14</td>\n",
       "      <td>14</td>\n",
       "      <td>14</td>\n",
       "      <td>14</td>\n",
       "      <td>21</td>\n",
       "      <td>22</td>\n",
       "      <td>23</td>\n",
       "      <td>30</td>\n",
       "      <td>6</td>\n",
       "      <td>8</td>\n",
       "      <td>4</td>\n",
       "      <td>31</td>\n",
       "    </tr>\n",
       "    <tr>\n",
       "      <th>4</th>\n",
       "      <td>24</td>\n",
       "      <td>14</td>\n",
       "      <td>15</td>\n",
       "      <td>25</td>\n",
       "      <td>26</td>\n",
       "      <td>27</td>\n",
       "      <td>28</td>\n",
       "      <td>29</td>\n",
       "      <td>30</td>\n",
       "      <td>29</td>\n",
       "      <td>6</td>\n",
       "      <td>9</td>\n",
       "      <td>8</td>\n",
       "      <td>4</td>\n",
       "      <td>31</td>\n",
       "    </tr>\n",
       "  </tbody>\n",
       "</table>\n",
       "</div>"
      ],
      "text/plain": [
       "   site1  site2  site3  site4  site5  site6  site7  site8  site9  site10  \\\n",
       "0      1      2      3      4      3      3      4      3      5       3   \n",
       "1      6      7      8      9      3     10     11     12     13      14   \n",
       "2     14      4     14     14     15     16      6     17     18      14   \n",
       "3     19     20     19     14     14     14     14     21     22      23   \n",
       "4     24     14     15     25     26     27     28     29     30      29   \n",
       "\n",
       "   session_timespan  #unique_sites  start_hour  day_of_week  user_id  \n",
       "0                33              5           8            4       31  \n",
       "1               284             10           8            4       31  \n",
       "2               258              7           8            4       31  \n",
       "3                30              6           8            4       31  \n",
       "4                 6              9           8            4       31  "
      ]
     },
     "execution_count": 8,
     "metadata": {},
     "output_type": "execute_result"
    }
   ],
   "source": [
    "train_data_10users.head()"
   ]
  },
  {
   "cell_type": "markdown",
   "metadata": {},
   "source": [
    "**Примените функцию *prepare_train_set_with_fe* к данным по 150 пользователям, укажите *session_length*=10.**"
   ]
  },
  {
   "cell_type": "code",
   "execution_count": 9,
   "metadata": {},
   "outputs": [
    {
     "name": "stdout",
     "output_type": "stream",
     "text": [
      "Wall time: 1min 19s\n"
     ]
    }
   ],
   "source": [
    "%%time\n",
    "train_data_150users = prepare_train_set_with_fe(os.path.join(PATH_TO_DATA, \n",
    "                                                         '150users'), \n",
    "                  site_freq_path=os.path.join(PATH_TO_DATA, \n",
    "                                              'site_freq_150users.pkl'),\n",
    "                  feature_names=feature_names, session_length=10)"
   ]
  },
  {
   "cell_type": "markdown",
   "metadata": {},
   "source": [
    "**Сохраните в pickle-файлы признаки *session_timespan*, *#unique_sites*, *start_hour* и *day_of_week* для 10 и 150 пользователей.**"
   ]
  },
  {
   "cell_type": "code",
   "execution_count": 10,
   "metadata": {},
   "outputs": [],
   "source": [
    "new_features_10users = train_data_10users[['session_timespan','#unique_sites','start_hour','day_of_week']]\n",
    "new_features_150users = train_data_150users[['session_timespan','#unique_sites','start_hour','day_of_week']]"
   ]
  },
  {
   "cell_type": "code",
   "execution_count": 11,
   "metadata": {},
   "outputs": [],
   "source": [
    "with open(os.path.join(PATH_TO_DATA, \n",
    "                       'new_features_10users.pkl'), 'wb') as new_features_10users_pkl:\n",
    "    pickle.dump(new_features_10users, new_features_10users_pkl)\n",
    "with open(os.path.join(PATH_TO_DATA, \n",
    "                       'new_features_150users.pkl'), 'wb') as new_features_150users_pkl:\n",
    "    pickle.dump(new_features_150users, new_features_150users_pkl)"
   ]
  },
  {
   "cell_type": "markdown",
   "metadata": {},
   "source": [
    "**<font color='red'>Вопрос 1. </font> Выведите медианную продолжительность сессии (*session_timespan*) для сессий 10 пользователей.**"
   ]
  },
  {
   "cell_type": "code",
   "execution_count": 12,
   "metadata": {},
   "outputs": [
    {
     "data": {
      "text/plain": [
       "37.0"
      ]
     },
     "execution_count": 12,
     "metadata": {},
     "output_type": "execute_result"
    }
   ],
   "source": [
    "train_data_10users['session_timespan'].median()"
   ]
  },
  {
   "cell_type": "markdown",
   "metadata": {},
   "source": [
    "**<font color='red'>Вопрос 2. </font> Выведите медианный день недели, в который началась сессия, для сессий 10 пользователей.**"
   ]
  },
  {
   "cell_type": "code",
   "execution_count": 13,
   "metadata": {},
   "outputs": [
    {
     "data": {
      "text/plain": [
       "2.0"
      ]
     },
     "execution_count": 13,
     "metadata": {},
     "output_type": "execute_result"
    }
   ],
   "source": [
    "train_data_10users['day_of_week'].median()"
   ]
  },
  {
   "cell_type": "markdown",
   "metadata": {},
   "source": [
    "**<font color='red'>Вопрос 3. </font>Выведите медианный час начала сессии для сессий 150 пользователей.**"
   ]
  },
  {
   "cell_type": "code",
   "execution_count": 14,
   "metadata": {},
   "outputs": [
    {
     "data": {
      "text/plain": [
       "13.0"
      ]
     },
     "execution_count": 14,
     "metadata": {},
     "output_type": "execute_result"
    }
   ],
   "source": [
    "train_data_150users['start_hour'].median() "
   ]
  },
  {
   "cell_type": "markdown",
   "metadata": {},
   "source": [
    "**<font color='red'>Вопрос 4. </font>Выведите медианное значение числа уникальных сайтов в сессиях 150 пользователей.**"
   ]
  },
  {
   "cell_type": "code",
   "execution_count": 15,
   "metadata": {},
   "outputs": [
    {
     "data": {
      "text/plain": [
       "7.0"
      ]
     },
     "execution_count": 15,
     "metadata": {},
     "output_type": "execute_result"
    }
   ],
   "source": [
    "train_data_150users['#unique_sites'].median() "
   ]
  },
  {
   "cell_type": "markdown",
   "metadata": {},
   "source": [
    "## Часть 2. Визуальный анализ данных"
   ]
  },
  {
   "cell_type": "markdown",
   "metadata": {},
   "source": [
    "**Забавы ради, потехи для дадим пользователям имена и ассоциируем с ними цвета.**"
   ]
  },
  {
   "cell_type": "code",
   "execution_count": 16,
   "metadata": {},
   "outputs": [],
   "source": [
    "id_name_dict = {128: 'Mary-Kate', 39: 'Ashley', 207: 'Lindsey', 127: 'Naomi', 237: 'Avril',\n",
    "               33: 'Bob', 50: 'Bill', 31: 'John', 100: 'Dick', 241: 'Ed'}\n",
    "train_data_10users['user_id'] = train_data_10users['user_id'].map(id_name_dict)"
   ]
  },
  {
   "cell_type": "code",
   "execution_count": 17,
   "metadata": {},
   "outputs": [],
   "source": [
    "color_dic = {'Mary-Kate': 'pink', 'Ashley': 'darkviolet', 'Lindsey':'blueviolet', \n",
    "             'Naomi': 'hotpink', 'Avril': 'orchid', \n",
    "             'Bob': 'firebrick', 'Bill': 'gold', 'John': 'forestgreen', \n",
    "             'Dick': 'slategrey', 'Ed':'brown'}"
   ]
  },
  {
   "cell_type": "markdown",
   "metadata": {},
   "source": [
    "**1. Постройте гистограмму распределения длины сессии в секундах (*session_timespan*). Ограничьте по *x* значением 200 (иначе слишком тяжелый хвост). Сделайте гистограмму цвета *darkviolet*, подпишите оси по-русски.**"
   ]
  },
  {
   "cell_type": "code",
   "execution_count": 18,
   "metadata": {},
   "outputs": [
    {
     "data": {
      "image/png": "[encoded data removed]",
      "text/plain": [
       "<Figure size 432x288 with 1 Axes>"
      ]
     },
     "metadata": {
      "needs_background": "light"
     },
     "output_type": "display_data"
    }
   ],
   "source": [
    "#ax = train_data_10users['session_timespan'].plot(kind='hist', color='darkviolet', bins=200)\n",
    "#ax.set_xlim((0,200000))\n",
    "indices = train_data_10users['session_timespan'] < 200\n",
    "ax = train_data_10users['session_timespan'][indices].plot(kind='hist', color='darkviolet')\n",
    "ax.set_xlabel(u'Длина сессии')\n",
    "ax.set_ylabel(u'Частота');"
   ]
  },
  {
   "cell_type": "markdown",
   "metadata": {},
   "source": [
    "**2. Постройте гистограмму распределения числа уникальных сайтов в сессии (*#unique_sites*). Сделайте гистограмму цвета *aqua*, подпишите оси по-русски.**"
   ]
  },
  {
   "cell_type": "code",
   "execution_count": 19,
   "metadata": {},
   "outputs": [
    {
     "data": {
      "image/png": "[encoded data removed]",
      "text/plain": [
       "<Figure size 432x288 with 1 Axes>"
      ]
     },
     "metadata": {
      "needs_background": "light"
     },
     "output_type": "display_data"
    }
   ],
   "source": [
    "ax = train_data_10users['#unique_sites'].plot(kind='hist', color='aqua')\n",
    "ax.set_xlabel(u'Число уникальных сайтов')\n",
    "ax.set_ylabel(u'Частота');"
   ]
  },
  {
   "cell_type": "markdown",
   "metadata": {},
   "source": [
    "**3. Постройте гистограммы распределения числа уникальных сайтов в сессии (*#unique_sites*) для каждого из 10 пользователей по отдельности. Используйте *subplots*, чтоб разместить все 10 картинок на одной большой. Пометьте легендой каждую картинку, на легенде должно быть написано имя пользователя. Для каждого пользователя раскрасьте гистограмму его/ее цветом (*color_dic*). Подпишите оси по-русски в каждой из 10 гистограмм.**"
   ]
  },
  {
   "cell_type": "code",
   "execution_count": 20,
   "metadata": {},
   "outputs": [
    {
     "name": "stderr",
     "output_type": "stream",
     "text": [
      "C:\\Users\\emorozov\\AppData\\Local\\Continuum\\anaconda2\\lib\\site-packages\\ipykernel_launcher.py:6: FutureWarning: pd.groupby() is deprecated and will be removed; Please use the Series.groupby() or DataFrame.groupby() methods\n",
      "  \n"
     ]
    },
    {
     "data": {
      "image/png": "[encoded data removed]",
      "text/plain": [
       "<Figure size 1152x720 with 12 Axes>"
      ]
     },
     "metadata": {
      "needs_background": "light"
     },
     "output_type": "display_data"
    }
   ],
   "source": [
    "fig, axes = plt.subplots(nrows=3, ncols=4, figsize=(16, 10))\n",
    "\n",
    "# как вариант, можно и по-другому\n",
    "row = 0\n",
    "col = 0\n",
    "for idx, (user, sub_df) in  enumerate(pd.groupby(train_data_10users, 'user_id')): \n",
    "    axes[row,col].hist(sub_df['#unique_sites'],color=color_dic[user])\n",
    "    axes[row,col].legend([user],title='User')\n",
    "    axes[row,col].set_xlabel(u'Число уникальных сайтов')\n",
    "    axes[row,col].set_ylabel(u'Частота');\n",
    "    col += 1\n",
    "    if col == 4:\n",
    "        row += 1\n",
    "        col = 0"
   ]
  },
  {
   "cell_type": "markdown",
   "metadata": {},
   "source": [
    "**4. Постройте гистограмму распределения часа начала сессии (*start_hour*). Сделайте гистограмму цвета *darkgreen*, подпишите оси по-русски.**"
   ]
  },
  {
   "cell_type": "code",
   "execution_count": 21,
   "metadata": {},
   "outputs": [
    {
     "data": {
      "image/png": "[encoded data removed]",
      "text/plain": [
       "<Figure size 432x288 with 1 Axes>"
      ]
     },
     "metadata": {
      "needs_background": "light"
     },
     "output_type": "display_data"
    }
   ],
   "source": [
    "ax = train_data_10users['start_hour'].plot(kind='hist', color='darkgreen')\n",
    "ax.set_xlabel(u'Число уникальных сайтов')\n",
    "ax.set_ylabel(u'Частота');"
   ]
  },
  {
   "cell_type": "markdown",
   "metadata": {},
   "source": [
    "**5. Постройте гистограммы распределения часа начала сессии (*start_hour*) для каждого из 10 пользователей по отдельности. Используйте *subplots*, чтоб разместить все 10 картинок на одной большой. Пометьте легендой каждую картинку, на легенде должно быть написано имя пользователя. Для каждого пользователя раскрасьте гистограмму его/ее цветом (*color_dic*). Подпишите оси по-русски в каждой из 10 гистограмм.**"
   ]
  },
  {
   "cell_type": "code",
   "execution_count": 22,
   "metadata": {},
   "outputs": [
    {
     "name": "stderr",
     "output_type": "stream",
     "text": [
      "C:\\Users\\emorozov\\AppData\\Local\\Continuum\\anaconda2\\lib\\site-packages\\ipykernel_launcher.py:8: FutureWarning: pd.groupby() is deprecated and will be removed; Please use the Series.groupby() or DataFrame.groupby() methods\n",
      "  \n"
     ]
    },
    {
     "data": {
      "image/png": "[encoded data removed]",
      "text/plain": [
       "<Figure size 1152x720 with 12 Axes>"
      ]
     },
     "metadata": {
      "needs_background": "light"
     },
     "output_type": "display_data"
    }
   ],
   "source": [
    "fig, axes = plt.subplots(nrows=3, ncols=4, figsize=(16, 10))\n",
    "\n",
    "row = 0\n",
    "col = 0\n",
    "# как вариант, можно и по-другому\n",
    "\n",
    "colors = ['Blue','Red','Green','Black','Violet','Pink','Orange','Yellow','Brown','Aqua']\n",
    "for idx, (user, sub_df) in  enumerate(pd.groupby(train_data_10users, 'user_id')): \n",
    "        axes[row,col].hist(sub_df['start_hour'],color=color_dic[user])\n",
    "        axes[row,col].legend([user],title='User')\n",
    "        axes[row,col].set_xlabel(u'Час начала')\n",
    "        axes[row,col].set_ylabel(u'Частота');\n",
    "        col += 1\n",
    "        if col == 4:\n",
    "            row += 1\n",
    "            col = 0"
   ]
  },
  {
   "cell_type": "markdown",
   "metadata": {},
   "source": [
    "**6. Постройте гистограмму распределения дня недели, в который началась сессия (*day_of_week*). Сделайте гистограмму цвета *sienna*, подпишите оси по-русски.**"
   ]
  },
  {
   "cell_type": "code",
   "execution_count": 23,
   "metadata": {},
   "outputs": [
    {
     "data": {
      "image/png": "[encoded data removed]",
      "text/plain": [
       "<Figure size 432x288 with 1 Axes>"
      ]
     },
     "metadata": {
      "needs_background": "light"
     },
     "output_type": "display_data"
    }
   ],
   "source": [
    "ax = train_data_10users['day_of_week'].plot(kind='hist', color='darkgreen')\n",
    "ax.set_xlabel(u'День недели')\n",
    "ax.set_ylabel(u'Частота');"
   ]
  },
  {
   "cell_type": "markdown",
   "metadata": {},
   "source": [
    "**7. Постройте гистограммы распределения дня недели, в который началась сессия (*day_of_week*) для каждого из 10 пользователей по отдельности. Используйте *subplots*, чтоб разместить все 10 картинок на одной большой. Измените метки по оси *X* на ['Пн', 'Вт', 'Ср', 'Чт', 'Пт', 'Сб', 'Вс'] – метод *set_xticklabels*. Пометьте легендой каждую картинку, на легенде должно быть написано имя пользователя. Для каждого пользователя раскрасьте гистограмму его/ее цветом (*color_dic*). Подпишите по-русски название каждой из 10 гистограмм.**"
   ]
  },
  {
   "cell_type": "code",
   "execution_count": 24,
   "metadata": {},
   "outputs": [
    {
     "name": "stderr",
     "output_type": "stream",
     "text": [
      "C:\\Users\\emorozov\\AppData\\Local\\Continuum\\anaconda2\\lib\\site-packages\\ipykernel_launcher.py:8: FutureWarning: pd.groupby() is deprecated and will be removed; Please use the Series.groupby() or DataFrame.groupby() methods\n",
      "  \n"
     ]
    },
    {
     "data": {
      "image/png": "[encoded data removed]",
      "text/plain": [
       "<Figure size 1152x720 with 12 Axes>"
      ]
     },
     "metadata": {
      "needs_background": "light"
     },
     "output_type": "display_data"
    }
   ],
   "source": [
    "fig, axes = plt.subplots(nrows=3, ncols=4, figsize=(16, 10))\n",
    "\n",
    "row = 0\n",
    "col = 0\n",
    "# как вариант, можно и по-другому\n",
    "\n",
    "colors = ['Blue','Red','Green','Black','Violet','Pink','Orange','Yellow','Brown','Aqua']\n",
    "for idx, (user, sub_df) in  enumerate(pd.groupby(train_data_10users, 'user_id')): \n",
    "        axes[row,col].hist(sub_df['day_of_week'],color=color_dic[user])\n",
    "        axes[row,col].legend([user],title='User')\n",
    "        axes[row,col].set_xlabel(u'День недели')\n",
    "        axes[row,col].set_ylabel(u'Частота');\n",
    "        axes[row,col].set_xticklabels([u'Пн',u'Вт',u'Ср',u'Чт',u'Пт',u'Сб',u'Вс'])\n",
    "        col += 1\n",
    "        if col == 4:\n",
    "            row += 1\n",
    "            col = 0"
   ]
  },
  {
   "cell_type": "markdown",
   "metadata": {},
   "source": [
    "**8. Сделайте выводы про каждого пользователя по построенным графикам.**"
   ]
  },
  {
   "cell_type": "markdown",
   "metadata": {},
   "source": [
    "По числу уникальных сайтов можно визуально заметить следующие особенности:\n",
    "У Ashley, Dick, Mary-Kate, Bill имеется вид в виде сессий с 1-2 уникальными сайтами. При этом в остальном распределение Dick и Mary-Kate похоже на остальных пользователей. Все остальные пользователи имеют примерно одинаковый вид распределений с некоторым пиком и постепенно уменьшающимися хвостами.\n",
    "\n",
    "По часу начала получаются довольно разные распределения. У всех пользователей есть несколько пиковых часов.\n",
    "\n",
    "По дням недели также распределения разные. При этом у Bob-а есть 3 примерно равных выраженных пика. У Bill-а и Lindsey в течение недели активность снижается. У John за небольшим исключением \n"
   ]
  },
  {
   "cell_type": "markdown",
   "metadata": {},
   "source": [
    "**Загрузите сохраненный ранее в pickle-файл частотный словарь сайтов для 10 пользователей. **"
   ]
  },
  {
   "cell_type": "code",
   "execution_count": 25,
   "metadata": {},
   "outputs": [],
   "source": [
    "with open(os.path.join(PATH_TO_DATA, 'site_freq_10users_opt.pkl'),'rb') as site_freq_file:\n",
    "    site_freq_10users = pickle.load(site_freq_file)"
   ]
  },
  {
   "cell_type": "code",
   "execution_count": 26,
   "metadata": {},
   "outputs": [
    {
     "name": "stdout",
     "output_type": "stream",
     "text": [
      "s.youtube.com\n"
     ]
    }
   ],
   "source": [
    "descending_items = sorted(site_freq_10users.items(), key=lambda s: s[1][1], reverse=True)\n",
    "print descending_items[0][0]"
   ]
  },
  {
   "cell_type": "markdown",
   "metadata": {},
   "source": [
    "**Определите топ-10 самых посещаемых сайтов (*top10_sites*) и соответствующие кол-ва посещений (*top10_freqs*).**"
   ]
  },
  {
   "cell_type": "code",
   "execution_count": 27,
   "metadata": {},
   "outputs": [],
   "source": [
    "top10_freqs = [x[1][1] for x in descending_items[:10]]\n",
    "top10_sites = [x[0] for x in descending_items[:10]]"
   ]
  },
  {
   "cell_type": "markdown",
   "metadata": {},
   "source": [
    "**9. Нарисуйте *seaborn barplot*, показывающий частоты посещений топ-10 сайтов. Сделайте подписи сайтов вертикальными, иначе они сливаются (*xticks*).**"
   ]
  },
  {
   "cell_type": "code",
   "execution_count": 28,
   "metadata": {},
   "outputs": [
    {
     "data": {
      "image/png": "[encoded data removed]",
      "text/plain": [
       "<Figure size 432x288 with 1 Axes>"
      ]
     },
     "metadata": {
      "needs_background": "light"
     },
     "output_type": "display_data"
    }
   ],
   "source": [
    "ax = sns.barplot(top10_sites, top10_freqs)\n",
    "ax.set_xticklabels(top10_sites, rotation=90);"
   ]
  },
  {
   "cell_type": "markdown",
   "metadata": {},
   "source": [
    "## Часть 3. Дальнейшее построение признаков"
   ]
  },
  {
   "cell_type": "markdown",
   "metadata": {},
   "source": [
    "Это задание творческое, тут надо придумать, как еще учесть время посещения веб-страниц и прочие признаки. \n",
    "\n",
    "На следующей неделе мы будем использовать \"мешок\" сайтов  для классификации сессий по принадлежности разным пользователям, а эти новые признаки, которые Вы сейчас создадите, потом добавим и посмотрим, улучшается ли модель. Поэтому можно их создать в виде отдельных матриц и сохранить их также отдельно.  \n",
    "\n",
    "В этой части задания Вы можете построить и визуально исследовать самые разные признаки (ничто фантазию не ограничивает):\n",
    "- год, месяц и день начала сессии\n",
    "- час начала сессии (с учетом года, месяца и дня)\n",
    "- время суток\n",
    "- среднее время пребывания на сайте, посчитать можно, скажем, для топ-30 популярных сайтов\n",
    "- индикаторы посещения популярных сайтов (скажем, тоже для топ-30 популярных сайтов)\n",
    "- частота посещения Facebook\n",
    "- ..."
   ]
  },
  {
   "cell_type": "markdown",
   "metadata": {},
   "source": [
    "**Напишите функцию для создания новых признаков и примените ее к исходным данным – каталогам с 10 и 150 файлами. Сделайте это только для набора данных, полученного с параметрами *session_length=10* и *window_size=10*. Сериализуйте полученные матрицы с помощью pickle. Функция может возвращать как только новые признаки, так и старые с новыми. При этом сигнатура функции может быть другой – тут уже свобода выбора.**"
   ]
  },
  {
   "cell_type": "markdown",
   "metadata": {},
   "source": [
    "Будем добавлять признаки: средняя популярность посещенных сайтов в сессии; частота посещения социальных сетей; частота посещения поисковых сайтов."
   ]
  },
  {
   "cell_type": "code",
   "execution_count": 29,
   "metadata": {},
   "outputs": [],
   "source": [
    "def site_freq_to_id_name_freq(site_freq_path):\n",
    "    with open(site_freq_path,'rb') as site_freq_file:\n",
    "        site_freq = pickle.load(site_freq_file)\n",
    "    res = {}\n",
    "    for key in site_freq:\n",
    "        res[site_freq[key][0]] = (key,site_freq[key][1])\n",
    "    return res"
   ]
  },
  {
   "cell_type": "code",
   "execution_count": 30,
   "metadata": {},
   "outputs": [],
   "source": [
    "id_name_freq_toy = site_freq_to_id_name_freq(os.path.join(PATH_TO_DATA, \n",
    "                                              'site_freq_3users.pkl'))"
   ]
  },
  {
   "cell_type": "code",
   "execution_count": 54,
   "metadata": {},
   "outputs": [],
   "source": [
    "social_networks = frozenset(['ar-ar.facebook.com',\n",
    "'connect.facebook.net',\n",
    "'facebook.com',\n",
    "'facebook.fr',\n",
    "'fr-fr.facebook.com',\n",
    "'fr.facebook.com',\n",
    "'l.facebook.com',\n",
    "'login.vk.com',\n",
    "'m.facebook.com',\n",
    "'static-0.facebook.com',\n",
    "'vk.com',\n",
    "'www.facebook.com',\n",
    "'www.facebook.fr'])\n",
    "search_engines = frozenset(['google.com',\n",
    "'google.com.pe',\n",
    "'google.fr',\n",
    "'google.ru',\n",
    "'ipv4.google.com',\n",
    "'m.google.com',\n",
    "'mt.google.com',\n",
    "'translate.google.ru',\n",
    "'www.google.be',\n",
    "'www.google.bi',\n",
    "'www.google.bj',\n",
    "'www.google.ca',\n",
    "'www.google.cd',\n",
    "'www.google.ch',\n",
    "'www.google.cn',\n",
    "'www.google.co.in',\n",
    "'www.google.co.ma',\n",
    "'www.google.co.ma',\n",
    "'www.google.co.uk',\n",
    "'www.google.com',\n",
    "'www.google.com',\n",
    "'www.google.com.br',\n",
    "'www.google.com.cn',\n",
    "'www.google.com.hk',\n",
    "'www.google.com.pe',\n",
    "'www.google.com.pe',\n",
    "'www.google.de',\n",
    "'www.google.de',\n",
    "'www.google.dj',\n",
    "'www.google.dz',\n",
    "'www.google.es',\n",
    "'www.google.fr',\n",
    "'www.google.fr',\n",
    "'www.google.hk',\n",
    "'www.google.hk.cn',\n",
    "'www.google.ie',\n",
    "'www.google.ru',\n",
    "'www.google.sn',\n",
    "'www.yandex.ru',\n",
    "'yandex.ru',\n",
    "'yandex.st',\n",
    "'yandex.st'])"
   ]
  },
  {
   "cell_type": "code",
   "execution_count": 32,
   "metadata": {},
   "outputs": [
    {
     "data": {
      "text/plain": [
       "array([ 5, 15])"
      ]
     },
     "execution_count": 32,
     "metadata": {},
     "output_type": "execute_result"
    }
   ],
   "source": [
    "np.array(train_data_toy.shape)"
   ]
  },
  {
   "cell_type": "code",
   "execution_count": 42,
   "metadata": {},
   "outputs": [],
   "source": [
    "def feature_engineering(data, site_freq_path, social_networks,search_engines,session_length=10):\n",
    "    id_to_name_freq = site_freq_to_id_name_freq(site_freq_path)\n",
    "    freq_column = []\n",
    "    search_engines_column = []\n",
    "    social_networks_column = []\n",
    "    for row in data.values:\n",
    "        freq = 0\n",
    "        search_engines_sites = 0\n",
    "        social_network_sites = 0\n",
    "        curr_session_length = session_length\n",
    "        for i in range(session_length):\n",
    "            if row[i] == 0:\n",
    "                curr_session_length = i\n",
    "                break\n",
    "            freq += id_to_name_freq[row[i]][1]\n",
    "            site_name = id_to_name_freq[row[i]][0]\n",
    "            if site_name in social_networks:\n",
    "                social_network_sites += 1\n",
    "            if site_name in search_engines:\n",
    "                search_engines_sites += 1\n",
    "        mean_freq = freq / float(curr_session_length)\n",
    "        freq_column.append(mean_freq)\n",
    "        search_engines_column.append(search_engines_sites)\n",
    "        social_networks_column.append(social_network_sites)\n",
    "    new_data = data\n",
    "    new_data['mean frequency'] = freq_column\n",
    "    new_data['search engines'] = search_engines_column\n",
    "    new_data['social_network_sites'] = social_networks_column\n",
    "    return new_data"
   ]
  },
  {
   "cell_type": "code",
   "execution_count": 44,
   "metadata": {},
   "outputs": [
    {
     "data": {
      "text/html": [
       "<div>\n",
       "<style scoped>\n",
       "    .dataframe tbody tr th:only-of-type {\n",
       "        vertical-align: middle;\n",
       "    }\n",
       "\n",
       "    .dataframe tbody tr th {\n",
       "        vertical-align: top;\n",
       "    }\n",
       "\n",
       "    .dataframe thead th {\n",
       "        text-align: right;\n",
       "    }\n",
       "</style>\n",
       "<table border=\"1\" class=\"dataframe\">\n",
       "  <thead>\n",
       "    <tr style=\"text-align: right;\">\n",
       "      <th></th>\n",
       "      <th>site1</th>\n",
       "      <th>site2</th>\n",
       "      <th>site3</th>\n",
       "      <th>site4</th>\n",
       "      <th>site5</th>\n",
       "      <th>site6</th>\n",
       "      <th>site7</th>\n",
       "      <th>site8</th>\n",
       "      <th>site9</th>\n",
       "      <th>site10</th>\n",
       "      <th>session_timespan</th>\n",
       "      <th>#unique_sites</th>\n",
       "      <th>start_hour</th>\n",
       "      <th>day_of_week</th>\n",
       "      <th>user_id</th>\n",
       "      <th>mean frequency</th>\n",
       "      <th>search engines</th>\n",
       "      <th>social_network_sites</th>\n",
       "    </tr>\n",
       "  </thead>\n",
       "  <tbody>\n",
       "    <tr>\n",
       "      <th>0</th>\n",
       "      <td>1</td>\n",
       "      <td>2</td>\n",
       "      <td>2</td>\n",
       "      <td>3</td>\n",
       "      <td>2</td>\n",
       "      <td>4</td>\n",
       "      <td>5</td>\n",
       "      <td>6</td>\n",
       "      <td>7</td>\n",
       "      <td>8</td>\n",
       "      <td>7998</td>\n",
       "      <td>8</td>\n",
       "      <td>9</td>\n",
       "      <td>4</td>\n",
       "      <td>1</td>\n",
       "      <td>4.200000</td>\n",
       "      <td>1</td>\n",
       "      <td>1</td>\n",
       "    </tr>\n",
       "    <tr>\n",
       "      <th>1</th>\n",
       "      <td>1</td>\n",
       "      <td>4</td>\n",
       "      <td>4</td>\n",
       "      <td>4</td>\n",
       "      <td>0</td>\n",
       "      <td>0</td>\n",
       "      <td>0</td>\n",
       "      <td>0</td>\n",
       "      <td>0</td>\n",
       "      <td>0</td>\n",
       "      <td>60</td>\n",
       "      <td>2</td>\n",
       "      <td>12</td>\n",
       "      <td>4</td>\n",
       "      <td>1</td>\n",
       "      <td>7.500000</td>\n",
       "      <td>3</td>\n",
       "      <td>1</td>\n",
       "    </tr>\n",
       "    <tr>\n",
       "      <th>2</th>\n",
       "      <td>1</td>\n",
       "      <td>2</td>\n",
       "      <td>9</td>\n",
       "      <td>9</td>\n",
       "      <td>2</td>\n",
       "      <td>0</td>\n",
       "      <td>0</td>\n",
       "      <td>0</td>\n",
       "      <td>0</td>\n",
       "      <td>0</td>\n",
       "      <td>7935</td>\n",
       "      <td>3</td>\n",
       "      <td>9</td>\n",
       "      <td>4</td>\n",
       "      <td>2</td>\n",
       "      <td>4.600000</td>\n",
       "      <td>0</td>\n",
       "      <td>1</td>\n",
       "    </tr>\n",
       "    <tr>\n",
       "      <th>3</th>\n",
       "      <td>10</td>\n",
       "      <td>4</td>\n",
       "      <td>2</td>\n",
       "      <td>4</td>\n",
       "      <td>2</td>\n",
       "      <td>4</td>\n",
       "      <td>4</td>\n",
       "      <td>6</td>\n",
       "      <td>11</td>\n",
       "      <td>10</td>\n",
       "      <td>7998</td>\n",
       "      <td>5</td>\n",
       "      <td>9</td>\n",
       "      <td>4</td>\n",
       "      <td>3</td>\n",
       "      <td>6.100000</td>\n",
       "      <td>5</td>\n",
       "      <td>0</td>\n",
       "    </tr>\n",
       "    <tr>\n",
       "      <th>4</th>\n",
       "      <td>10</td>\n",
       "      <td>4</td>\n",
       "      <td>2</td>\n",
       "      <td>0</td>\n",
       "      <td>0</td>\n",
       "      <td>0</td>\n",
       "      <td>0</td>\n",
       "      <td>0</td>\n",
       "      <td>0</td>\n",
       "      <td>0</td>\n",
       "      <td>1471</td>\n",
       "      <td>3</td>\n",
       "      <td>12</td>\n",
       "      <td>4</td>\n",
       "      <td>3</td>\n",
       "      <td>6.666667</td>\n",
       "      <td>1</td>\n",
       "      <td>0</td>\n",
       "    </tr>\n",
       "  </tbody>\n",
       "</table>\n",
       "</div>"
      ],
      "text/plain": [
       "   site1  site2  site3  site4  site5  site6  site7  site8  site9  site10  \\\n",
       "0      1      2      2      3      2      4      5      6      7       8   \n",
       "1      1      4      4      4      0      0      0      0      0       0   \n",
       "2      1      2      9      9      2      0      0      0      0       0   \n",
       "3     10      4      2      4      2      4      4      6     11      10   \n",
       "4     10      4      2      0      0      0      0      0      0       0   \n",
       "\n",
       "   session_timespan  #unique_sites  start_hour  day_of_week  user_id  \\\n",
       "0              7998              8           9            4        1   \n",
       "1                60              2          12            4        1   \n",
       "2              7935              3           9            4        2   \n",
       "3              7998              5           9            4        3   \n",
       "4              1471              3          12            4        3   \n",
       "\n",
       "   mean frequency  search engines  social_network_sites  \n",
       "0        4.200000               1                     1  \n",
       "1        7.500000               3                     1  \n",
       "2        4.600000               0                     1  \n",
       "3        6.100000               5                     0  \n",
       "4        6.666667               1                     0  "
      ]
     },
     "execution_count": 44,
     "metadata": {},
     "output_type": "execute_result"
    }
   ],
   "source": [
    "feature_engineering(train_data_toy,os.path.join(PATH_TO_DATA,'site_freq_3users.pkl'), social_networks,search_engines)"
   ]
  },
  {
   "cell_type": "code",
   "execution_count": 52,
   "metadata": {},
   "outputs": [],
   "source": [
    "with open(os.path.join(PATH_TO_DATA,'site_freq_150users.pkl'),'rb') as site_freq_file:\n",
    "    site_freq = pickle.load(site_freq_file)"
   ]
  },
  {
   "cell_type": "code",
   "execution_count": 53,
   "metadata": {},
   "outputs": [
    {
     "name": "stdout",
     "output_type": "stream",
     "text": [
      "scholar.google.fr\n",
      "badge.facebook.com\n",
      "q95.queuev4.vk.com\n",
      "www.google.sn\n",
      "82.docs.google.com\n",
      "5.drive.google.com\n",
      "yandex.st\n",
      "29.docs.google.com\n",
      "m.google.com\n",
      "cs417327.vk.com\n",
      "42.docs.google.com\n",
      "bks7.books.google.com\n",
      "accounts.google.bj\n",
      "93.docs.google.com\n",
      "66.docs.google.com\n",
      "lh3.google.fr\n",
      "google.ru\n",
      "maps.google.es\n",
      "chart.apis.google.com\n",
      "fr.facebook.com\n",
      "52.docs.google.com\n",
      "maps.google.com\n",
      "www.google.com.cn\n",
      "r2---sn-gxo5uxg-jqbe.c.pack.google.com\n",
      "im56v4.vk.com\n",
      "74.docs.google.com\n",
      "92.docs.google.com\n",
      "1.drive.google.com\n",
      "picasaweb.google.com\n",
      "www.google.co.uk\n",
      "scholar.google.com\n",
      "otvety.google.ru\n",
      "www.google.dj\n",
      "www.google.de\n",
      "34.docs.google.com\n",
      "accounts.google.ru\n",
      "4.drive.google.com\n",
      "talkgadget.google.com\n",
      "80.docs.google.com\n",
      "maps-api-ssl.google.com\n",
      "bks9.books.google.fr\n",
      "plusone.google.com\n",
      "99.docs.google.com\n",
      "vk.com\n",
      "27.docs.google.com\n",
      "labs.google.com\n",
      "41.docs.google.com\n",
      "browse.unblock-facebookproxy.com\n",
      "bks7.books.google.fr\n",
      "45.docs.google.com\n",
      "98.docs.google.com\n",
      "khms3.google.com\n",
      "mw2.google.com\n",
      "bks8.books.google.com\n",
      "mts3.google.com\n",
      "adwords.google.com\n",
      "77.docs.google.com\n",
      "im24v4.vk.com\n",
      "news.google.fr\n",
      "ww.google.fr\n",
      "accounts.google.bi\n",
      "apis.google.com\n",
      "cbks2.google.com\n",
      "encrypted-tbn0.google.com\n",
      "books.google.fr\n",
      "static.ak.facebook.com\n",
      "bks4.books.google.com\n",
      "8.drive.google.com\n",
      "60.docs.google.com\n",
      "mts2.google.com\n",
      "images.google.fr\n",
      "streamiz-vk.com\n",
      "39.docs.google.com\n",
      "google.com.pe\n",
      "3.talkgadget.google.com\n",
      "r4---sn-gxo5uxg-jqbe.c.pack.google.com\n",
      "mts1.google.com\n",
      "clients6.google.com\n",
      "cbks0.google.com\n",
      "lh5.google.com\n",
      "61.docs.google.com\n",
      "www.google.ie\n",
      "translate.google.ru\n",
      "13.docs.google.com\n",
      "0.talkgadget.google.com\n",
      "www.drive.google.com\n",
      "mt3.google.com\n",
      "accounts.google.cd\n",
      "developers.google.com\n",
      "m.facebook.com\n",
      "toolbar.google.com\n",
      "24.docs.google.com\n",
      "accounts.google.com.pe\n",
      "clients1.google.ru\n",
      "www.yandex.ru\n",
      "sandbox.google.com\n",
      "bks1.books.google.fr\n",
      "9.drive.google.com\n",
      "1.talkgadget.google.com\n",
      "50.docs.google.com\n",
      "cloud.google.com\n",
      "88.docs.google.com\n",
      "7.talkgadget.google.com\n",
      "bks5.books.google.fr\n",
      "23.docs.google.com\n",
      "www.google.bi\n",
      "www.google.bj\n",
      "www.google.be\n",
      "mt.google.com\n",
      "apps.facebook.com\n",
      "chatenabled.mail.google.com\n",
      "b.mail.google.com\n",
      "cs421521.vk.com\n",
      "support.google.com\n",
      "47.docs.google.com\n",
      "9.docs.google.com\n",
      "36.docs.google.com\n",
      "facebook.com\n",
      "www.google.es\n",
      "bks6.books.google.fr\n",
      "r3---sn-gxo5uxg-jqbe.c.pack.google.com\n",
      "mw1.google.com\n",
      "bks8.books.google.fr\n",
      "images.google.com\n",
      "bks1.books.google.com\n",
      "sb-ssl.google.com\n",
      "bks3.books.google.com\n",
      "www.google.ru\n",
      "21.docs.google.com\n",
      "facebook-web-clients.appspot.com\n",
      "khms1.google.com\n",
      "img-fotki.yandex.ru\n",
      "2.docs.google.com\n",
      "11.docs.google.com\n",
      "17.docs.google.com\n",
      "65.docs.google.com\n",
      "avatars-fast.yandex.net\n",
      "script.google.com\n",
      "calendar.google.com\n",
      "11.drive.google.com\n",
      "facebook.madmoo.com\n",
      "7.drive.google.com\n",
      "accounts.google.dj\n",
      "accounts.google.dz\n",
      "www.earth.google.com\n",
      "gg.google.com\n",
      "video.google.com\n",
      "checkout.google.com\n",
      "bks0.books.google.com\n",
      "57.docs.google.com\n",
      "71.docs.google.com\n",
      "85.docs.google.com\n",
      "89.docs.google.com\n",
      "toolbarqueries.clients.google.com\n",
      "cbks1.google.com\n",
      "cs6045.vk.com\n",
      "ar-ar.facebook.com\n",
      "security.google.com\n",
      "accounts.google.sn\n",
      "clients2.google.com\n",
      "70.docs.google.com\n",
      "plus.url.google.com\n",
      "adwords.google.fr\n",
      "31.docs.google.com\n",
      "26.docs.google.com\n",
      "4.docs.google.com\n",
      "38.docs.google.com\n",
      "96.docs.google.com\n",
      "59.docs.google.com\n",
      "khms0.google.com\n",
      "google.fr\n",
      "63.docs.google.com\n",
      "picasaweb.google.fr\n",
      "58.docs.google.com\n",
      "www.google.hk.cn\n",
      "www.facebook.com\n",
      "login.vk.com\n",
      "ditu.google.cn\n",
      "0.drive.google.com\n",
      "75.docs.google.com\n",
      "0.docs.google.com\n",
      "12.docs.google.com\n",
      "78.docs.google.com\n",
      "4.talkgadget.google.com\n",
      "95.docs.google.com\n",
      "earth.google.com\n",
      "mts0.google.com\n",
      "connect.facebook.net\n",
      "67.docs.google.com\n",
      "site.yandex.net\n",
      "promenadenocturne.withgoogle.com\n",
      "q79.queuev4.vk.com\n",
      "15.docs.google.com\n",
      "lh4.google.com\n",
      "facebook.fr\n",
      "bks6.books.google.com\n",
      "im59v4.vk.com\n",
      "14.docs.google.com\n",
      "developers.facebook.com\n",
      "clients1.google.com.pe\n",
      "groups.google.com\n",
      "5.talkgadget.google.com\n",
      "clients4.google.com\n",
      "pki.google.com\n",
      "51.docs.google.com\n",
      "tools.google.com\n",
      "im65v4.vk.com\n",
      "6.talkgadget.google.com\n",
      "bks2.books.google.com\n",
      "www.google.hk\n",
      "inputtools.google.com\n",
      "docs.google.com\n",
      "s-static.ak.facebook.com\n",
      "news.google.com\n",
      "api.facebook.com\n",
      "www.google.co.in\n",
      "37.docs.google.com\n",
      "drive.google.com\n",
      "khmdb.google.com\n",
      "play.google.com\n",
      "feedproxy.google.com\n",
      "plus.google.com\n",
      "clients3.google.com\n",
      "profiles.google.com\n",
      "yandex.ru\n",
      "safebrowsing.google.com\n",
      "favicon.yandex.net\n",
      "54.docs.google.com\n",
      "48.docs.google.com\n",
      "2.talkgadget.google.com\n",
      "wallet.google.com\n",
      "code.google.com\n",
      "bks0.books.google.fr\n",
      "www.google.co.ma\n",
      "facebookcomment.moderatus.netino.com\n",
      "translate.google.cn\n",
      "cs616920.vk.com\n",
      "72.docs.google.com\n",
      "id.google.com\n",
      "accounts.google.fr\n",
      "bks5.books.google.com\n",
      "2.drive.google.com\n",
      "www.google.com.br\n",
      "www.facebook.fr\n",
      "google.ezakus.net\n",
      "safebrowsing-cache.google.com\n",
      "id.google.fr\n",
      "32.docs.google.com\n",
      "22.docs.google.com\n",
      "10.docs.google.com\n",
      "clients1.google.com\n",
      "static.ak.connect.facebook.com\n",
      "55.docs.google.com\n",
      "sites.google.com\n",
      "44.docs.google.com\n",
      "www.google.com\n",
      "90.docs.google.com\n",
      "facebook.computing.net\n",
      "im36v4.vk.com\n",
      "18.docs.google.com\n",
      "8.docs.google.com\n",
      "research.google.com\n",
      "cs320831.vk.com\n",
      "hangouts.google.com\n",
      "10.drive.google.com\n",
      "46.docs.google.com\n",
      "mapsengine.google.com\n",
      "mt0.google.com\n",
      "translate.google.com\n",
      "doc.google.com\n",
      "static-0.facebook.com\n",
      "83.docs.google.com\n",
      "safebrowsing.clients.google.com\n",
      "bks2.books.google.fr\n",
      "www.google.dz\n",
      "87.docs.google.com\n",
      "lh3.google.com\n",
      "khms0.google.fr\n",
      "code.facebook.com\n",
      "69.docs.google.com\n",
      "accounts.google.com\n",
      "53.docs.google.com\n",
      "fr-fr.facebook.com\n",
      "clients5.google.com\n",
      "84.docs.google.com\n",
      "translate.google.fr\n",
      "khms1.google.fr\n",
      "cache.pack.google.com\n",
      "73.docs.google.com\n",
      "www.google.fr\n",
      "64.docs.google.com\n",
      "mt2.google.com\n",
      "3.drive.google.com\n",
      "3.docs.google.com\n",
      "clients1.google.fr\n",
      "graph.facebook.com\n",
      "accounts.google.co.ma\n",
      "google.com\n",
      "feedburner.google.com\n",
      "35.docs.google.com\n",
      "5.docs.google.com\n",
      "developer.google.com\n",
      "6.drive.google.com\n",
      "l.facebook.com\n",
      "api-read.facebook.com\n",
      "www.google.com.pe\n",
      "mt1.google.com\n",
      "ipv4.google.com\n",
      "chrome.google.com\n",
      "bks3.books.google.fr\n",
      "7.docs.google.com\n",
      "1.docs.google.com\n",
      "mail.google.com\n",
      "30.docs.google.com\n",
      "awaps.yandex.ru\n",
      "62.docs.google.com\n",
      "dl-ssl.google.com\n",
      "books.google.com\n",
      "www.frasesparafacebook.info\n",
      "cbks3.google.com\n",
      "facebook.pangaea.nl\n",
      "www.google.com.hk\n",
      "toolbar.google.fr\n",
      "79.docs.google.com\n",
      "dl.google.com\n",
      "kh.google.com\n",
      "im55v4.vk.com\n",
      "toolbarqueries.google.com\n",
      "www.google.cn\n",
      "www.google.ch\n",
      "www.google.cd\n",
      "www.google.ca\n",
      "lh6.google.com\n",
      "bks4.books.google.fr\n",
      "cs412523.vk.com\n",
      "97.docs.google.com\n",
      "gg.google.fr\n",
      "6.docs.google.com\n",
      "b.s-static.ak.facebook.com\n",
      "bks9.books.google.com\n",
      "accounts.google.co.uk\n",
      "maps.google.fr\n",
      "encrypted.google.com\n",
      "khms2.google.com\n",
      "history.google.com\n",
      "linkhelp.clients.google.com\n",
      "knol.google.com\n",
      "cs425319.vk.com\n",
      "91.docs.google.com\n",
      "81.docs.google.com\n"
     ]
    }
   ],
   "source": [
    "for key in site_freq.keys():\n",
    "    if str(key).find('vk.com') != -1 or str(key).find('facebook') != -1 or str(key).find('yandex') != -1 or str(key).find('google.') != -1:\n",
    "        print key"
   ]
  },
  {
   "cell_type": "code",
   "execution_count": 55,
   "metadata": {},
   "outputs": [],
   "source": [
    "new_features_10users = feature_engineering(train_data_10users,os.path.join(PATH_TO_DATA,'site_freq_10users.pkl'), social_networks,search_engines)"
   ]
  },
  {
   "cell_type": "code",
   "execution_count": 56,
   "metadata": {},
   "outputs": [],
   "source": [
    "new_features_150users = feature_engineering(train_data_150users,os.path.join(PATH_TO_DATA,'site_freq_150users.pkl'), social_networks,search_engines)"
   ]
  },
  {
   "cell_type": "markdown",
   "metadata": {},
   "source": [
    "**10. Постройте картинки для новых признаков, поисследуйте их, прокомментируйте результаты.**"
   ]
  },
  {
   "cell_type": "code",
   "execution_count": 57,
   "metadata": {},
   "outputs": [
    {
     "data": {
      "text/html": [
       "<div>\n",
       "<style scoped>\n",
       "    .dataframe tbody tr th:only-of-type {\n",
       "        vertical-align: middle;\n",
       "    }\n",
       "\n",
       "    .dataframe tbody tr th {\n",
       "        vertical-align: top;\n",
       "    }\n",
       "\n",
       "    .dataframe thead th {\n",
       "        text-align: right;\n",
       "    }\n",
       "</style>\n",
       "<table border=\"1\" class=\"dataframe\">\n",
       "  <thead>\n",
       "    <tr style=\"text-align: right;\">\n",
       "      <th></th>\n",
       "      <th>site1</th>\n",
       "      <th>site2</th>\n",
       "      <th>site3</th>\n",
       "      <th>site4</th>\n",
       "      <th>site5</th>\n",
       "      <th>site6</th>\n",
       "      <th>site7</th>\n",
       "      <th>site8</th>\n",
       "      <th>site9</th>\n",
       "      <th>site10</th>\n",
       "      <th>session_timespan</th>\n",
       "      <th>#unique_sites</th>\n",
       "      <th>start_hour</th>\n",
       "      <th>day_of_week</th>\n",
       "      <th>user_id</th>\n",
       "      <th>mean frequency</th>\n",
       "      <th>search engines</th>\n",
       "      <th>social_network_sites</th>\n",
       "    </tr>\n",
       "  </thead>\n",
       "  <tbody>\n",
       "    <tr>\n",
       "      <th>0</th>\n",
       "      <td>1</td>\n",
       "      <td>2</td>\n",
       "      <td>3</td>\n",
       "      <td>4</td>\n",
       "      <td>3</td>\n",
       "      <td>3</td>\n",
       "      <td>4</td>\n",
       "      <td>3</td>\n",
       "      <td>5</td>\n",
       "      <td>3</td>\n",
       "      <td>33</td>\n",
       "      <td>5</td>\n",
       "      <td>8</td>\n",
       "      <td>4</td>\n",
       "      <td>John</td>\n",
       "      <td>1167.2</td>\n",
       "      <td>2</td>\n",
       "      <td>0</td>\n",
       "    </tr>\n",
       "    <tr>\n",
       "      <th>1</th>\n",
       "      <td>6</td>\n",
       "      <td>7</td>\n",
       "      <td>8</td>\n",
       "      <td>9</td>\n",
       "      <td>3</td>\n",
       "      <td>10</td>\n",
       "      <td>11</td>\n",
       "      <td>12</td>\n",
       "      <td>13</td>\n",
       "      <td>14</td>\n",
       "      <td>284</td>\n",
       "      <td>10</td>\n",
       "      <td>8</td>\n",
       "      <td>4</td>\n",
       "      <td>John</td>\n",
       "      <td>155.6</td>\n",
       "      <td>0</td>\n",
       "      <td>0</td>\n",
       "    </tr>\n",
       "    <tr>\n",
       "      <th>2</th>\n",
       "      <td>14</td>\n",
       "      <td>4</td>\n",
       "      <td>14</td>\n",
       "      <td>14</td>\n",
       "      <td>15</td>\n",
       "      <td>16</td>\n",
       "      <td>6</td>\n",
       "      <td>17</td>\n",
       "      <td>18</td>\n",
       "      <td>14</td>\n",
       "      <td>258</td>\n",
       "      <td>7</td>\n",
       "      <td>8</td>\n",
       "      <td>4</td>\n",
       "      <td>John</td>\n",
       "      <td>1132.9</td>\n",
       "      <td>1</td>\n",
       "      <td>1</td>\n",
       "    </tr>\n",
       "    <tr>\n",
       "      <th>3</th>\n",
       "      <td>19</td>\n",
       "      <td>20</td>\n",
       "      <td>19</td>\n",
       "      <td>14</td>\n",
       "      <td>14</td>\n",
       "      <td>14</td>\n",
       "      <td>14</td>\n",
       "      <td>21</td>\n",
       "      <td>22</td>\n",
       "      <td>23</td>\n",
       "      <td>30</td>\n",
       "      <td>6</td>\n",
       "      <td>8</td>\n",
       "      <td>4</td>\n",
       "      <td>John</td>\n",
       "      <td>188.8</td>\n",
       "      <td>0</td>\n",
       "      <td>0</td>\n",
       "    </tr>\n",
       "    <tr>\n",
       "      <th>4</th>\n",
       "      <td>24</td>\n",
       "      <td>14</td>\n",
       "      <td>15</td>\n",
       "      <td>25</td>\n",
       "      <td>26</td>\n",
       "      <td>27</td>\n",
       "      <td>28</td>\n",
       "      <td>29</td>\n",
       "      <td>30</td>\n",
       "      <td>29</td>\n",
       "      <td>6</td>\n",
       "      <td>9</td>\n",
       "      <td>8</td>\n",
       "      <td>4</td>\n",
       "      <td>John</td>\n",
       "      <td>475.7</td>\n",
       "      <td>0</td>\n",
       "      <td>1</td>\n",
       "    </tr>\n",
       "  </tbody>\n",
       "</table>\n",
       "</div>"
      ],
      "text/plain": [
       "   site1  site2  site3  site4  site5  site6  site7  site8  site9  site10  \\\n",
       "0      1      2      3      4      3      3      4      3      5       3   \n",
       "1      6      7      8      9      3     10     11     12     13      14   \n",
       "2     14      4     14     14     15     16      6     17     18      14   \n",
       "3     19     20     19     14     14     14     14     21     22      23   \n",
       "4     24     14     15     25     26     27     28     29     30      29   \n",
       "\n",
       "   session_timespan  #unique_sites  start_hour  day_of_week user_id  \\\n",
       "0                33              5           8            4    John   \n",
       "1               284             10           8            4    John   \n",
       "2               258              7           8            4    John   \n",
       "3                30              6           8            4    John   \n",
       "4                 6              9           8            4    John   \n",
       "\n",
       "   mean frequency  search engines  social_network_sites  \n",
       "0          1167.2               2                     0  \n",
       "1           155.6               0                     0  \n",
       "2          1132.9               1                     1  \n",
       "3           188.8               0                     0  \n",
       "4           475.7               0                     1  "
      ]
     },
     "execution_count": 57,
     "metadata": {},
     "output_type": "execute_result"
    }
   ],
   "source": [
    "new_features_10users.head()"
   ]
  },
  {
   "cell_type": "code",
   "execution_count": 61,
   "metadata": {},
   "outputs": [
    {
     "name": "stderr",
     "output_type": "stream",
     "text": [
      "C:\\Users\\emorozov\\AppData\\Local\\Continuum\\anaconda2\\lib\\site-packages\\ipykernel_launcher.py:6: FutureWarning: pd.groupby() is deprecated and will be removed; Please use the Series.groupby() or DataFrame.groupby() methods\n",
      "  \n"
     ]
    },
    {
     "data": {
      "image/png": "[encoded data removed]",
      "text/plain": [
       "<Figure size 1152x720 with 12 Axes>"
      ]
     },
     "metadata": {
      "needs_background": "light"
     },
     "output_type": "display_data"
    }
   ],
   "source": [
    "fig, axes = plt.subplots(nrows=3, ncols=4, figsize=(16, 10))\n",
    "\n",
    "# как вариант, можно и по-другому\n",
    "row = 0\n",
    "col = 0\n",
    "for idx, (user, sub_df) in  enumerate(pd.groupby(train_data_10users, 'user_id')): \n",
    "    axes[row,col].hist(sub_df['mean frequency'],color=color_dic[user])\n",
    "    axes[row,col].legend([user],title='User')\n",
    "    axes[row,col].set_xlabel(u'Средняя популярность сайтов в сессии')\n",
    "    axes[row,col].set_ylabel(u'Частота');\n",
    "    col += 1\n",
    "    if col == 4:\n",
    "        row += 1\n",
    "        col = 0"
   ]
  },
  {
   "cell_type": "code",
   "execution_count": 63,
   "metadata": {},
   "outputs": [
    {
     "name": "stderr",
     "output_type": "stream",
     "text": [
      "C:\\Users\\emorozov\\AppData\\Local\\Continuum\\anaconda2\\lib\\site-packages\\ipykernel_launcher.py:6: FutureWarning: pd.groupby() is deprecated and will be removed; Please use the Series.groupby() or DataFrame.groupby() methods\n",
      "  \n"
     ]
    },
    {
     "data": {
      "image/png": "[encoded data removed]",
      "text/plain": [
       "<Figure size 1152x720 with 12 Axes>"
      ]
     },
     "metadata": {
      "needs_background": "light"
     },
     "output_type": "display_data"
    }
   ],
   "source": [
    "fig, axes = plt.subplots(nrows=3, ncols=4, figsize=(16, 10))\n",
    "\n",
    "# как вариант, можно и по-другому\n",
    "row = 0\n",
    "col = 0\n",
    "for idx, (user, sub_df) in  enumerate(pd.groupby(train_data_10users, 'user_id')): \n",
    "    axes[row,col].hist(sub_df['search engines'],color=color_dic[user])\n",
    "    axes[row,col].legend([user],title='User')\n",
    "    axes[row,col].set_xlabel(u'Пользование поисковыми сайтами')\n",
    "    axes[row,col].set_ylabel(u'Частота');\n",
    "    col += 1\n",
    "    if col == 4:\n",
    "        row += 1\n",
    "        col = 0"
   ]
  },
  {
   "cell_type": "code",
   "execution_count": 64,
   "metadata": {},
   "outputs": [
    {
     "name": "stderr",
     "output_type": "stream",
     "text": [
      "C:\\Users\\emorozov\\AppData\\Local\\Continuum\\anaconda2\\lib\\site-packages\\ipykernel_launcher.py:6: FutureWarning: pd.groupby() is deprecated and will be removed; Please use the Series.groupby() or DataFrame.groupby() methods\n",
      "  \n"
     ]
    },
    {
     "data": {
      "image/png": "[encoded data removed]",
      "text/plain": [
       "<Figure size 1152x720 with 12 Axes>"
      ]
     },
     "metadata": {
      "needs_background": "light"
     },
     "output_type": "display_data"
    }
   ],
   "source": [
    "fig, axes = plt.subplots(nrows=3, ncols=4, figsize=(16, 10))\n",
    "\n",
    "# как вариант, можно и по-другому\n",
    "row = 0\n",
    "col = 0\n",
    "for idx, (user, sub_df) in  enumerate(pd.groupby(train_data_10users, 'user_id')): \n",
    "    axes[row,col].hist(sub_df['social_network_sites'],color=color_dic[user])\n",
    "    axes[row,col].legend([user],title='User')\n",
    "    axes[row,col].set_xlabel(u'Пользование социальными сетями')\n",
    "    axes[row,col].set_ylabel(u'Частота');\n",
    "    col += 1\n",
    "    if col == 4:\n",
    "        row += 1\n",
    "        col = 0"
   ]
  },
  {
   "cell_type": "markdown",
   "metadata": {},
   "source": [
    "**В конце сохраните в pickle-файлы только те признаки, которые, как Вы предполагаете, помогут идентифицировать пользователя более точно. Это касается и признаков, которые мы вместе создали в начале (*session_timespan, #unique_sites, start_hour, day_of_week*), и Ваших собственных. Можно создать все эти признаки не только для сессий из 10 сайтов, но и для других сочетаний параметров *session_length* и *window_size*.**"
   ]
  },
  {
   "cell_type": "code",
   "execution_count": 66,
   "metadata": {},
   "outputs": [],
   "source": [
    "selected_features_10users = new_features_10users[['session_timespan','#unique_sites','start_hour','day_of_week','user_id',\n",
    "                                                 'mean frequency','search engines']]\n",
    "selected_features_150users = new_features_150users[['session_timespan','#unique_sites','start_hour','day_of_week','user_id',\n",
    "                                                 'mean frequency','search engines']]"
   ]
  },
  {
   "cell_type": "code",
   "execution_count": 67,
   "metadata": {},
   "outputs": [],
   "source": [
    "with open(os.path.join(PATH_TO_DATA, \n",
    "                       'selected_features_10users.pkl'), 'wb') as selected_features_10users_pkl:\n",
    "    pickle.dump(selected_features_10users, selected_features_10users_pkl, \n",
    "                protocol=2)\n",
    "with open(os.path.join(PATH_TO_DATA, \n",
    "                       'selected_features_150users.pkl'), 'wb') as selected_features_150users_pkl:\n",
    "    pickle.dump(selected_features_150users, selected_features_150users_pkl, \n",
    "                protocol=2)"
   ]
  },
  {
   "cell_type": "markdown",
   "metadata": {},
   "source": [
    "### Критерии оценки работы (только для Peer Review в специализации):\n",
    "- Верно ли отображена гистограмма session_timespan из п. 1? (max. 3 балла)\n",
    "- Верно ли отображена гистограмма #unique_sites из п. 2? (max. 3 балла)\n",
    "- Верно ли отображены гистограммы #unique_sites по каждому пользователю из п. 3? (max. 6 баллов)\n",
    "- Верно ли отображена гистограмма start_hour из п. 4? (max. 3 балла)\n",
    "- Верно ли отображены гистограммы start_hour по каждому пользователю из п. 5? (max. 6 баллов)\n",
    "- Верно ли отображена гистограмма day_of_week из п. 6? (max. 3 балла)\n",
    "- Верно ли отображены гистограммы day_of_week по каждому пользователю из п. 7? (max. 6 баллов)\n",
    "- Насколько сделанные выводы в п. 8 соответствуют построенным картинкам? (max. 6 баллов)\n",
    "- Верно ли отображен barplot для 10 популярных сайтов из п. 9? (max. 6 баллов)\n",
    "- Правильно ли посчитана медианная продолжительность сессий в п. 10? (max. 3 балла)\n",
    "- Правильно ли посчитан медианный день недели начала сессии в п. 11? (max. 3 балла)\n",
    "- Правильно ли посчитан медианный час начала сессии в п. 12? (max. 3 балла)\n",
    "- Правильно ли посчитано медианное значение числа уникальных сайтов в сессиях 150 пользователей п. 13? (max. 3 балла)\n",
    "- Есть ли оригинальные построенные признаки и картинки к ним? Оцените также и качество картинок. (max. 8 баллов)"
   ]
  },
  {
   "cell_type": "markdown",
   "metadata": {},
   "source": [
    "## Пути улучшения\n",
    "Что еще можно добавить по 3 части проекта:\n",
    "- IPython-widgets, интерактив и анимация (стоящие статьи по этому ремеслу – [раз](https://habrahabr.ru/post/308162/) и  [два](https://habrahabr.ru/company/ods/blog/323210/))\n",
    "- можно попробовать изобразить исходные данные в некотором пространстве, например, Word2Vec, потом выделить главные компоненты или t-SNE  (только пользуйтесь эффективными реализациями типа [Multicore-TSNE](https://github.com/DmitryUlyanov/Multicore-TSNE), не Sklearn) и раскрасить по целевому классу. Но нет гарантий, что получится что-то значимо отличающееся от каши\n",
    "\n",
    "На следующей неделе мы наконец приступим к обучению моделей классификации. "
   ]
  }
 ],
 "metadata": {
  "anaconda-cloud": {},
  "kernelspec": {
   "display_name": "Python 3",
   "language": "python",
   "name": "python3"
  },
  "language_info": {
   "codemirror_mode": {
    "name": "ipython",
    "version": 3
   },
   "file_extension": ".py",
   "mimetype": "text/x-python",
   "name": "python",
   "nbconvert_exporter": "python",
   "pygments_lexer": "ipython3",
   "version": "3.7.1"
  }
 },
 "nbformat": 4,
 "nbformat_minor": 1
}
