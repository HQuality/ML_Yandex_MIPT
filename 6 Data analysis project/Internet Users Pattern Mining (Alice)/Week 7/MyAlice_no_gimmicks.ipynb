{
 "cells": [
  {
   "cell_type": "code",
   "execution_count": 1,
   "metadata": {},
   "outputs": [],
   "source": [
    "import pandas as pd\n",
    "import numpy as np\n",
    "%matplotlib inline\n",
    "import matplotlib.pyplot as plt\n",
    "import seaborn as sns\n",
    "import warnings\n",
    "warnings.filterwarnings('ignore')\n",
    "import pickle\n",
    "from scipy.sparse import csr_matrix\n",
    "from scipy.sparse import hstack\n",
    "from sklearn.preprocessing import StandardScaler\n",
    "from sklearn.metrics import roc_auc_score\n",
    "from sklearn.linear_model import LogisticRegression, LogisticRegressionCV\n",
    "from sklearn.linear_model import SGDClassifier\n",
    "from sklearn.preprocessing import LabelEncoder\n",
    "from sklearn.metrics import roc_curve, auc\n",
    "import scipy as sp\n",
    "import eli5\n",
    "from sklearn.preprocessing import OneHotEncoder\n",
    "from sklearn.model_selection import GridSearchCV, StratifiedKFold, train_test_split, TimeSeriesSplit, cross_val_score\n",
    "from sklearn.feature_extraction.text import TfidfVectorizer, TfidfTransformer, CountVectorizer"
   ]
  },
  {
   "cell_type": "code",
   "execution_count": 2,
   "metadata": {},
   "outputs": [],
   "source": [
    "def make_sparse_data(data):\n",
    "    '''\n",
    "    Makes sparse matrix\n",
    "    '''\n",
    "    n = data.shape[1]\n",
    "    X = data.values\n",
    "    flatten_X = X.flatten()\n",
    "    new_X = ([1]*flatten_X.shape[0], flatten_X, range(0, flatten_X.shape[0]+10, 10))\n",
    "    X_sparse = csr_matrix(new_X)[:, 1:]\n",
    "    return X_sparse\n",
    "\n",
    "def get_sites_dict_(data):\n",
    "    '''\n",
    "    Gets dataframe with site names (10 columns) as input.\n",
    "    Returns a dictionary of sites ordered by frequency.\n",
    "    '''\n",
    "    m, n = data.shape #num of rows and columns\n",
    "    data = pd.DataFrame(data.values.reshape(m*n, 1), columns=['site']) #transform to 1 column\n",
    "    freq = data.site.value_counts().reset_index()\n",
    "    key_value_df = pd.DataFrame() #contains a pair of site-frequency\n",
    "    key_value_df['site'] = freq['index']\n",
    "    key_value_df['count'] = freq['site']\n",
    "    key_value_df.sort_values(by='count', inplace=True, ascending=False) \n",
    "    sites_dict = {} \n",
    "    sites_dict['Unknown'] = 0\n",
    "    for i in np.arange(key_value_df.shape[0]):\n",
    "        if key_value_df.iloc[i,0]!='Unknown':\n",
    "            sites_dict[key_value_df.iloc[i,0]] = i+1\n",
    "    return sites_dict\n",
    "\n",
    "def inverse_dict(sites_dict):\n",
    "    '''\n",
    "    Gets a key-value dictionary. \n",
    "    Returns the dictionary by swapping the key and value.\n",
    "    '''\n",
    "    code_sites_dict = {}\n",
    "    sites = list(sites_dict.items())\n",
    "    for site in sites:\n",
    "        code_sites_dict[site[1]] = site[0]\n",
    "    return code_sites_dict\n",
    "\n",
    "def write_to_submission_file(predicted_labels, out_file,\n",
    "                             target='target', index_label=\"session_id\"):\n",
    "    predicted_df = pd.DataFrame(predicted_labels,\n",
    "                                index = np.arange(1, predicted_labels.shape[0] + 1),\n",
    "                                columns=[target])\n",
    "    predicted_df.to_csv(out_file, index_label=index_label)"
   ]
  },
  {
   "cell_type": "code",
   "execution_count": 3,
   "metadata": {},
   "outputs": [],
   "source": [
    "train_df = pd.read_csv('../train_sessions.csv', index_col='session_id')\n",
    "test_df = pd.read_csv('../test_sessions.csv', index_col='session_id')\n",
    "train_df = train_df.sort_values(by='time1')"
   ]
  },
  {
   "cell_type": "code",
   "execution_count": 4,
   "metadata": {
    "scrolled": true
   },
   "outputs": [
    {
     "name": "stdout",
     "output_type": "stream",
     "text": [
      "<class 'pandas.core.frame.DataFrame'>\n",
      "Int64Index: 253561 entries, 21669 to 204762\n",
      "Data columns (total 21 columns):\n",
      "site1     253561 non-null int64\n",
      "time1     253561 non-null object\n",
      "site2     250098 non-null float64\n",
      "time2     250098 non-null object\n",
      "site3     246919 non-null float64\n",
      "time3     246919 non-null object\n",
      "site4     244321 non-null float64\n",
      "time4     244321 non-null object\n",
      "site5     241829 non-null float64\n",
      "time5     241829 non-null object\n",
      "site6     239495 non-null float64\n",
      "time6     239495 non-null object\n",
      "site7     237297 non-null float64\n",
      "time7     237297 non-null object\n",
      "site8     235224 non-null float64\n",
      "time8     235224 non-null object\n",
      "site9     233084 non-null float64\n",
      "time9     233084 non-null object\n",
      "site10    231052 non-null float64\n",
      "time10    231052 non-null object\n",
      "target    253561 non-null int64\n",
      "dtypes: float64(9), int64(2), object(10)\n",
      "memory usage: 42.6+ MB\n"
     ]
    }
   ],
   "source": [
    "train_df.info()"
   ]
  },
  {
   "cell_type": "code",
   "execution_count": 5,
   "metadata": {},
   "outputs": [],
   "source": [
    "sites = ['site%s' % i for i in range(1,11)]\n",
    "times = ['time%s' % i for i in range(1, 11)]\n",
    "train_df[times] = train_df[times].apply(pd.to_datetime)\n",
    "test_df[times] = test_df[times].apply(pd.to_datetime)"
   ]
  },
  {
   "cell_type": "code",
   "execution_count": 6,
   "metadata": {},
   "outputs": [],
   "source": [
    "train_df[sites] = train_df[sites].fillna(0).astype('int')\n",
    "test_df[sites] = test_df[sites].fillna(0).astype('int')"
   ]
  },
  {
   "cell_type": "code",
   "execution_count": 7,
   "metadata": {},
   "outputs": [
    {
     "data": {
      "text/html": [
       "<div>\n",
       "<style scoped>\n",
       "    .dataframe tbody tr th:only-of-type {\n",
       "        vertical-align: middle;\n",
       "    }\n",
       "\n",
       "    .dataframe tbody tr th {\n",
       "        vertical-align: top;\n",
       "    }\n",
       "\n",
       "    .dataframe thead th {\n",
       "        text-align: right;\n",
       "    }\n",
       "</style>\n",
       "<table border=\"1\" class=\"dataframe\">\n",
       "  <thead>\n",
       "    <tr style=\"text-align: right;\">\n",
       "      <th></th>\n",
       "      <th>site1</th>\n",
       "      <th>time1</th>\n",
       "      <th>site2</th>\n",
       "      <th>time2</th>\n",
       "      <th>site3</th>\n",
       "      <th>time3</th>\n",
       "      <th>site4</th>\n",
       "      <th>time4</th>\n",
       "      <th>site5</th>\n",
       "      <th>time5</th>\n",
       "      <th>...</th>\n",
       "      <th>time6</th>\n",
       "      <th>site7</th>\n",
       "      <th>time7</th>\n",
       "      <th>site8</th>\n",
       "      <th>time8</th>\n",
       "      <th>site9</th>\n",
       "      <th>time9</th>\n",
       "      <th>site10</th>\n",
       "      <th>time10</th>\n",
       "      <th>target</th>\n",
       "    </tr>\n",
       "    <tr>\n",
       "      <th>session_id</th>\n",
       "      <th></th>\n",
       "      <th></th>\n",
       "      <th></th>\n",
       "      <th></th>\n",
       "      <th></th>\n",
       "      <th></th>\n",
       "      <th></th>\n",
       "      <th></th>\n",
       "      <th></th>\n",
       "      <th></th>\n",
       "      <th></th>\n",
       "      <th></th>\n",
       "      <th></th>\n",
       "      <th></th>\n",
       "      <th></th>\n",
       "      <th></th>\n",
       "      <th></th>\n",
       "      <th></th>\n",
       "      <th></th>\n",
       "      <th></th>\n",
       "      <th></th>\n",
       "    </tr>\n",
       "  </thead>\n",
       "  <tbody>\n",
       "    <tr>\n",
       "      <th>21669</th>\n",
       "      <td>56</td>\n",
       "      <td>2013-01-12 08:05:57</td>\n",
       "      <td>55</td>\n",
       "      <td>2013-01-12 08:05:57</td>\n",
       "      <td>0</td>\n",
       "      <td>NaT</td>\n",
       "      <td>0</td>\n",
       "      <td>NaT</td>\n",
       "      <td>0</td>\n",
       "      <td>NaT</td>\n",
       "      <td>...</td>\n",
       "      <td>NaT</td>\n",
       "      <td>0</td>\n",
       "      <td>NaT</td>\n",
       "      <td>0</td>\n",
       "      <td>NaT</td>\n",
       "      <td>0</td>\n",
       "      <td>NaT</td>\n",
       "      <td>0</td>\n",
       "      <td>NaT</td>\n",
       "      <td>0</td>\n",
       "    </tr>\n",
       "    <tr>\n",
       "      <th>54843</th>\n",
       "      <td>56</td>\n",
       "      <td>2013-01-12 08:37:23</td>\n",
       "      <td>55</td>\n",
       "      <td>2013-01-12 08:37:23</td>\n",
       "      <td>56</td>\n",
       "      <td>2013-01-12 09:07:07</td>\n",
       "      <td>55</td>\n",
       "      <td>2013-01-12 09:07:09</td>\n",
       "      <td>0</td>\n",
       "      <td>NaT</td>\n",
       "      <td>...</td>\n",
       "      <td>NaT</td>\n",
       "      <td>0</td>\n",
       "      <td>NaT</td>\n",
       "      <td>0</td>\n",
       "      <td>NaT</td>\n",
       "      <td>0</td>\n",
       "      <td>NaT</td>\n",
       "      <td>0</td>\n",
       "      <td>NaT</td>\n",
       "      <td>0</td>\n",
       "    </tr>\n",
       "    <tr>\n",
       "      <th>77292</th>\n",
       "      <td>946</td>\n",
       "      <td>2013-01-12 08:50:13</td>\n",
       "      <td>946</td>\n",
       "      <td>2013-01-12 08:50:14</td>\n",
       "      <td>951</td>\n",
       "      <td>2013-01-12 08:50:15</td>\n",
       "      <td>946</td>\n",
       "      <td>2013-01-12 08:50:15</td>\n",
       "      <td>946</td>\n",
       "      <td>2013-01-12 08:50:16</td>\n",
       "      <td>...</td>\n",
       "      <td>2013-01-12 08:50:16</td>\n",
       "      <td>948</td>\n",
       "      <td>2013-01-12 08:50:16</td>\n",
       "      <td>784</td>\n",
       "      <td>2013-01-12 08:50:16</td>\n",
       "      <td>949</td>\n",
       "      <td>2013-01-12 08:50:17</td>\n",
       "      <td>946</td>\n",
       "      <td>2013-01-12 08:50:17</td>\n",
       "      <td>0</td>\n",
       "    </tr>\n",
       "    <tr>\n",
       "      <th>114021</th>\n",
       "      <td>945</td>\n",
       "      <td>2013-01-12 08:50:17</td>\n",
       "      <td>948</td>\n",
       "      <td>2013-01-12 08:50:17</td>\n",
       "      <td>949</td>\n",
       "      <td>2013-01-12 08:50:18</td>\n",
       "      <td>948</td>\n",
       "      <td>2013-01-12 08:50:18</td>\n",
       "      <td>945</td>\n",
       "      <td>2013-01-12 08:50:18</td>\n",
       "      <td>...</td>\n",
       "      <td>2013-01-12 08:50:18</td>\n",
       "      <td>947</td>\n",
       "      <td>2013-01-12 08:50:19</td>\n",
       "      <td>945</td>\n",
       "      <td>2013-01-12 08:50:19</td>\n",
       "      <td>946</td>\n",
       "      <td>2013-01-12 08:50:19</td>\n",
       "      <td>946</td>\n",
       "      <td>2013-01-12 08:50:20</td>\n",
       "      <td>0</td>\n",
       "    </tr>\n",
       "    <tr>\n",
       "      <th>146670</th>\n",
       "      <td>947</td>\n",
       "      <td>2013-01-12 08:50:20</td>\n",
       "      <td>950</td>\n",
       "      <td>2013-01-12 08:50:20</td>\n",
       "      <td>948</td>\n",
       "      <td>2013-01-12 08:50:20</td>\n",
       "      <td>947</td>\n",
       "      <td>2013-01-12 08:50:21</td>\n",
       "      <td>950</td>\n",
       "      <td>2013-01-12 08:50:21</td>\n",
       "      <td>...</td>\n",
       "      <td>2013-01-12 08:50:21</td>\n",
       "      <td>946</td>\n",
       "      <td>2013-01-12 08:50:21</td>\n",
       "      <td>951</td>\n",
       "      <td>2013-01-12 08:50:22</td>\n",
       "      <td>946</td>\n",
       "      <td>2013-01-12 08:50:22</td>\n",
       "      <td>947</td>\n",
       "      <td>2013-01-12 08:50:22</td>\n",
       "      <td>0</td>\n",
       "    </tr>\n",
       "  </tbody>\n",
       "</table>\n",
       "<p>5 rows × 21 columns</p>\n",
       "</div>"
      ],
      "text/plain": [
       "            site1               time1  site2               time2  site3  \\\n",
       "session_id                                                                \n",
       "21669          56 2013-01-12 08:05:57     55 2013-01-12 08:05:57      0   \n",
       "54843          56 2013-01-12 08:37:23     55 2013-01-12 08:37:23     56   \n",
       "77292         946 2013-01-12 08:50:13    946 2013-01-12 08:50:14    951   \n",
       "114021        945 2013-01-12 08:50:17    948 2013-01-12 08:50:17    949   \n",
       "146670        947 2013-01-12 08:50:20    950 2013-01-12 08:50:20    948   \n",
       "\n",
       "                         time3  site4               time4  site5  \\\n",
       "session_id                                                         \n",
       "21669                      NaT      0                 NaT      0   \n",
       "54843      2013-01-12 09:07:07     55 2013-01-12 09:07:09      0   \n",
       "77292      2013-01-12 08:50:15    946 2013-01-12 08:50:15    946   \n",
       "114021     2013-01-12 08:50:18    948 2013-01-12 08:50:18    945   \n",
       "146670     2013-01-12 08:50:20    947 2013-01-12 08:50:21    950   \n",
       "\n",
       "                         time5  ...                 time6 site7  \\\n",
       "session_id                      ...                               \n",
       "21669                      NaT  ...                   NaT     0   \n",
       "54843                      NaT  ...                   NaT     0   \n",
       "77292      2013-01-12 08:50:16  ...   2013-01-12 08:50:16   948   \n",
       "114021     2013-01-12 08:50:18  ...   2013-01-12 08:50:18   947   \n",
       "146670     2013-01-12 08:50:21  ...   2013-01-12 08:50:21   946   \n",
       "\n",
       "                         time7 site8               time8 site9  \\\n",
       "session_id                                                       \n",
       "21669                      NaT     0                 NaT     0   \n",
       "54843                      NaT     0                 NaT     0   \n",
       "77292      2013-01-12 08:50:16   784 2013-01-12 08:50:16   949   \n",
       "114021     2013-01-12 08:50:19   945 2013-01-12 08:50:19   946   \n",
       "146670     2013-01-12 08:50:21   951 2013-01-12 08:50:22   946   \n",
       "\n",
       "                         time9 site10              time10 target  \n",
       "session_id                                                        \n",
       "21669                      NaT      0                 NaT      0  \n",
       "54843                      NaT      0                 NaT      0  \n",
       "77292      2013-01-12 08:50:17    946 2013-01-12 08:50:17      0  \n",
       "114021     2013-01-12 08:50:19    946 2013-01-12 08:50:20      0  \n",
       "146670     2013-01-12 08:50:22    947 2013-01-12 08:50:22      0  \n",
       "\n",
       "[5 rows x 21 columns]"
      ]
     },
     "execution_count": 7,
     "metadata": {},
     "output_type": "execute_result"
    }
   ],
   "source": [
    "train_df.head(5)"
   ]
  },
  {
   "cell_type": "code",
   "execution_count": 8,
   "metadata": {},
   "outputs": [],
   "source": [
    "with open(r\"../site_dic.pkl\", \"rb\") as input_file:\n",
    "    site_dict = pickle.load(input_file)\n",
    "site_dict['Unknown'] = 0"
   ]
  },
  {
   "cell_type": "code",
   "execution_count": 9,
   "metadata": {},
   "outputs": [],
   "source": [
    "import re"
   ]
  },
  {
   "cell_type": "code",
   "execution_count": 10,
   "metadata": {},
   "outputs": [
    {
     "ename": "NameError",
     "evalue": "name 'train_test_df_sites' is not defined",
     "output_type": "error",
     "traceback": [
      "\u001b[0;31m---------------------------------------------------------------------------\u001b[0m",
      "\u001b[0;31mNameError\u001b[0m                                 Traceback (most recent call last)",
      "\u001b[0;32m<ipython-input-10-5aa96e44bfc1>\u001b[0m in \u001b[0;36m<module>\u001b[0;34m\u001b[0m\n\u001b[0;32m----> 1\u001b[0;31m \u001b[0mgeneral_df\u001b[0m \u001b[0;34m=\u001b[0m \u001b[0mpd\u001b[0m\u001b[0;34m.\u001b[0m\u001b[0mconcat\u001b[0m\u001b[0;34m(\u001b[0m\u001b[0;34m[\u001b[0m\u001b[0mtrain_test_df_sites\u001b[0m\u001b[0;34m,\u001b[0m \u001b[0mtrain_test_df_times\u001b[0m\u001b[0;34m]\u001b[0m\u001b[0;34m,\u001b[0m \u001b[0maxis\u001b[0m\u001b[0;34m=\u001b[0m\u001b[0;36m1\u001b[0m\u001b[0;34m)\u001b[0m \u001b[0;31m#main df\u001b[0m\u001b[0;34m\u001b[0m\u001b[0;34m\u001b[0m\u001b[0m\n\u001b[0m\u001b[1;32m      2\u001b[0m \u001b[0;34m\u001b[0m\u001b[0m\n\u001b[1;32m      3\u001b[0m \u001b[0mgeneral_sites\u001b[0m \u001b[0;34m=\u001b[0m \u001b[0mgeneral_df\u001b[0m\u001b[0;34m[\u001b[0m\u001b[0msites\u001b[0m\u001b[0;34m]\u001b[0m\u001b[0;34m.\u001b[0m\u001b[0mapply\u001b[0m\u001b[0;34m(\u001b[0m\u001b[0;32mlambda\u001b[0m \u001b[0mts\u001b[0m\u001b[0;34m:\u001b[0m \u001b[0mts\u001b[0m\u001b[0;34m.\u001b[0m\u001b[0mmap\u001b[0m\u001b[0;34m(\u001b[0m\u001b[0minverse_dict\u001b[0m\u001b[0;34m(\u001b[0m\u001b[0msite_dict\u001b[0m\u001b[0;34m)\u001b[0m\u001b[0;34m)\u001b[0m\u001b[0;34m)\u001b[0m \u001b[0;31m#instead of numbers the names of sites\u001b[0m\u001b[0;34m\u001b[0m\u001b[0;34m\u001b[0m\u001b[0m\n\u001b[1;32m      4\u001b[0m \u001b[0mgeneral_sites\u001b[0m \u001b[0;34m=\u001b[0m \u001b[0mgeneral_sites\u001b[0m\u001b[0;34m.\u001b[0m\u001b[0mapplymap\u001b[0m\u001b[0;34m(\u001b[0m\u001b[0;32mlambda\u001b[0m \u001b[0msite\u001b[0m\u001b[0;34m:\u001b[0m \u001b[0mre\u001b[0m\u001b[0;34m.\u001b[0m\u001b[0msub\u001b[0m\u001b[0;34m(\u001b[0m\u001b[0;34m\"^\\S*?\\.*?www\\S*?\\.\"\u001b[0m\u001b[0;34m,\u001b[0m \u001b[0;34m''\u001b[0m\u001b[0;34m,\u001b[0m \u001b[0msite\u001b[0m\u001b[0;34m)\u001b[0m\u001b[0;34m)\u001b[0m\u001b[0;34m\u001b[0m\u001b[0;34m\u001b[0m\u001b[0m\n\u001b[1;32m      5\u001b[0m \u001b[0;34m\u001b[0m\u001b[0m\n",
      "\u001b[0;31mNameError\u001b[0m: name 'train_test_df_sites' is not defined"
     ]
    }
   ],
   "source": [
    "general_df = pd.concat([train_test_df_sites, train_test_df_times], axis=1) #main df\n",
    "\n",
    "general_sites = general_df[sites].apply(lambda ts: ts.map(inverse_dict(site_dict))) #instead of numbers the names of sites\n",
    "general_sites = general_sites.applymap(lambda site: re.sub(\"^\\S*?\\.*?www\\S*?\\.\", '', site)) \n",
    "\n",
    "new_site_dict = get_sites_dict_(general_sites)\n",
    "\n",
    "#on a thousand unique sites became less.\n",
    "print(len(list(site_dict.keys())), len(list(new_site_dict.keys())))\n",
    "general_sites.head()"
   ]
  },
  {
   "cell_type": "code",
   "execution_count": 160,
   "metadata": {},
   "outputs": [],
   "source": [
    "general_df[sites] = general_sites.apply(lambda ts: ts.map(new_site_dict)) #new coding\n",
    "general_sites_sparse = make_sparse_data(general_df[sites]) #make the first half of the sparse matrix (sites)."
   ]
  },
  {
   "cell_type": "code",
   "execution_count": 11,
   "metadata": {},
   "outputs": [
    {
     "name": "stdout",
     "output_type": "stream",
     "text": [
      "Websites total: 48371\n"
     ]
    },
    {
     "data": {
      "text/html": [
       "<div>\n",
       "<style scoped>\n",
       "    .dataframe tbody tr th:only-of-type {\n",
       "        vertical-align: middle;\n",
       "    }\n",
       "\n",
       "    .dataframe tbody tr th {\n",
       "        vertical-align: top;\n",
       "    }\n",
       "\n",
       "    .dataframe thead th {\n",
       "        text-align: right;\n",
       "    }\n",
       "</style>\n",
       "<table border=\"1\" class=\"dataframe\">\n",
       "  <thead>\n",
       "    <tr style=\"text-align: right;\">\n",
       "      <th></th>\n",
       "      <th>site</th>\n",
       "    </tr>\n",
       "  </thead>\n",
       "  <tbody>\n",
       "    <tr>\n",
       "      <th>25075</th>\n",
       "      <td>www.abmecatronique.com</td>\n",
       "    </tr>\n",
       "    <tr>\n",
       "      <th>13997</th>\n",
       "      <td>groups.live.com</td>\n",
       "    </tr>\n",
       "    <tr>\n",
       "      <th>42436</th>\n",
       "      <td>majeureliguefootball.wordpress.com</td>\n",
       "    </tr>\n",
       "    <tr>\n",
       "      <th>30911</th>\n",
       "      <td>cdt46.media.tourinsoft.eu</td>\n",
       "    </tr>\n",
       "    <tr>\n",
       "      <th>8104</th>\n",
       "      <td>www.hdwallpapers.eu</td>\n",
       "    </tr>\n",
       "  </tbody>\n",
       "</table>\n",
       "</div>"
      ],
      "text/plain": [
       "                                     site\n",
       "25075              www.abmecatronique.com\n",
       "13997                     groups.live.com\n",
       "42436  majeureliguefootball.wordpress.com\n",
       "30911           cdt46.media.tourinsoft.eu\n",
       "8104                  www.hdwallpapers.eu"
      ]
     },
     "execution_count": 11,
     "metadata": {},
     "output_type": "execute_result"
    }
   ],
   "source": [
    "with open(r\"../site_dic.pkl\", \"rb\") as input_file:\n",
    "    site_dict = pickle.load(input_file)\n",
    "\n",
    "sites_dict = pd.DataFrame(list(site_dict.keys()), index=list(site_dict.values()), columns=['site'])\n",
    "print(u'Websites total:', sites_dict.shape[0])\n",
    "sites_dict.head()"
   ]
  },
  {
   "cell_type": "code",
   "execution_count": 12,
   "metadata": {},
   "outputs": [],
   "source": [
    "sites_dict = sites_dict.applymap(lambda site: re.sub(\"^\\S*?\\.*?www\\S*?\\.\", '', site)) "
   ]
  },
  {
   "cell_type": "code",
   "execution_count": 14,
   "metadata": {},
   "outputs": [],
   "source": [
    "y_train = train_df['target']\n",
    "df = pd.concat([train_df.drop('target', axis=1), test_df])\n",
    "full_sites = df[sites]\n",
    "idx_split = train_df.shape[0]"
   ]
  },
  {
   "cell_type": "code",
   "execution_count": 15,
   "metadata": {},
   "outputs": [
    {
     "data": {
      "text/plain": [
       "array([  56,   55,    0, ..., 1098, 1098, 1098])"
      ]
     },
     "execution_count": 15,
     "metadata": {},
     "output_type": "execute_result"
    }
   ],
   "source": [
    "sites_flatten = full_sites.values.flatten()\n",
    "sites_flatten"
   ]
  },
  {
   "cell_type": "code",
   "execution_count": 16,
   "metadata": {},
   "outputs": [],
   "source": [
    "full_sites_sparse = sp.sparse.csr_matrix(([1]*sites_flatten.shape[0], \n",
    "                                          sites_flatten, \n",
    "                                          range(0, sites_flatten.shape[0] + full_sites.shape[1],full_sites.shape[1])))[:, 1:]"
   ]
  },
  {
   "cell_type": "code",
   "execution_count": 17,
   "metadata": {},
   "outputs": [],
   "source": [
    "# Select the training set from the united dataframe (where we have the answers)\n",
    "X_train = full_sites_sparse[:idx_split, :]\n",
    "X_test = full_sites_sparse[idx_split:, :]"
   ]
  },
  {
   "cell_type": "code",
   "execution_count": 18,
   "metadata": {},
   "outputs": [],
   "source": [
    "#v_params = {'stop_words':[[' ','  ',','], None],\n",
    "#            'ngram_range': [(1, 3), (1, 4), (1, 5)],\n",
    "#            'max_features': [50000, 100000, 200000],\n",
    "#            'max_df': [0.5, 0.7, 0.9]}"
   ]
  },
  {
   "cell_type": "code",
   "execution_count": 19,
   "metadata": {},
   "outputs": [],
   "source": [
    "v = TfidfVectorizer(stop_words=[' ','  ',','], ngram_range=(1, 6), max_features=200000, max_df=0.5)"
   ]
  },
  {
   "cell_type": "code",
   "execution_count": 78,
   "metadata": {},
   "outputs": [
    {
     "ename": "IndentationError",
     "evalue": "unexpected indent (<ipython-input-78-328ee7c963c7>, line 2)",
     "output_type": "error",
     "traceback": [
      "\u001b[0;36m  File \u001b[0;32m\"<ipython-input-78-328ee7c963c7>\"\u001b[0;36m, line \u001b[0;32m2\u001b[0m\n\u001b[0;31m    'max_features': 50000,\u001b[0m\n\u001b[0m    ^\u001b[0m\n\u001b[0;31mIndentationError\u001b[0m\u001b[0;31m:\u001b[0m unexpected indent\n"
     ]
    }
   ],
   "source": [
    "#vectorizer_params={'ngram_range': (1, 5), \n",
    "                    'max_features': 50000,\n",
    "                    'tokenizer': lambda s: s.split(),\n",
    "                    'max_df':0.5}"
   ]
  },
  {
   "cell_type": "code",
   "execution_count": 18,
   "metadata": {},
   "outputs": [],
   "source": [
    "#v=TfidfVectorizer(**vectorizer_params)"
   ]
  },
  {
   "cell_type": "code",
   "execution_count": 20,
   "metadata": {},
   "outputs": [
    {
     "data": {
      "text/plain": [
       "['[56 55  0  0  0  0  0  0  0  0]',\n",
       " '[56 55 56 55  0  0  0  0  0  0]',\n",
       " '[946 946 951 946 946 945 948 784 949 946]',\n",
       " '[945 948 949 948 945 946 947 945 946 946]',\n",
       " '[947 950 948 947 950 952 946 951 946 947]',\n",
       " '[952 947 953 946 947 946 953 955 946 947]',\n",
       " '[ 953  947  946  953  955  947  953  946  953 1033]',\n",
       " '[946 947 954 953 946 954 946 956 957 956]',\n",
       " '[946 956 946 946 955 954 946 946 946 948]',\n",
       " '[948 946 948 784  49  53 812 982  52  52]',\n",
       " '[ 52  52  52 747 747 747  23 747 568  23]',\n",
       " '[ 513 1116  747   23  747  747   29   49   52   21]',\n",
       " '[4222 3358 4222 3356 4222 3870   21 3870 3358   21]',\n",
       " '[38667   181    23   181 38667    23   182   181 38667    55]',\n",
       " '[ 56  55 679 676 814  22  39 815 752  50]',\n",
       " '[ 570   23   21 3356   48  222  570  513 1379   21]',\n",
       " '[820 820 980  49  56  55  49 784 222  50]',\n",
       " '[48 56 55 55  0  0  0  0  0  0]',\n",
       " '[5898 5898 5794   21 5794 5794   21  182   23  181]',\n",
       " '[2570 2570   21   21 1102 1102   23  570  707   21]',\n",
       " '[  22   39 1102   21 1102 1102 1102   21  177  175]',\n",
       " '[177 178 175  48  21  22 176 175 177  55]',\n",
       " '[  56   55  570  570 1038  847   22  774  570    0]',\n",
       " '[56 55  0  0  0  0  0  0  0  0]',\n",
       " '[  56   55   55 1038   52   53   21 4277   21 4277]',\n",
       " '[4277  342  733  733  733  733  733   23  733  733]',\n",
       " '[  733    49 17232    50    48    52    23    21   989    38]',\n",
       " '[ 753  532 1020  989 1021 1021   48  990  544   22]',\n",
       " '[  733   733   733   733   733   733 17232   989 17232    21]',\n",
       " '[38668   733   733   733   733   733   568    21  1126    52]',\n",
       " '[1127 1127 4279 1126   21  733  733  733  733  733]',\n",
       " '[55 56  0  0  0  0  0  0  0  0]',\n",
       " '[733 733 733 733 733 733  22  39  38 570]',\n",
       " '[733 733 733 177 733 733 733 733 733 733]',\n",
       " '[ 733  733  733  733  733  707   21   50 6803 6803]',\n",
       " '[6803 6803   21   55   56   55  570  733  733  733]',\n",
       " '[ 570  570 1102   75   76   21   52   75  881   75]',\n",
       " '[56 55  0  0  0  0  0  0  0  0]',\n",
       " '[ 77  76  75  80 881  76  76  80  80  80]',\n",
       " '[784 948 959 948 959 948 959 948 959 948]',\n",
       " '[ 80  80  80  80  80  80 881  80  80  80]',\n",
       " '[   50    50   753 12386 12385    23 12387  4220 38669 38669]',\n",
       " '[ 22  21 570 570  55  56 570  21  21  38]',\n",
       " '[959 948 959 948 948 959 959 948 959 948]',\n",
       " '[948 959 948 959   0   0   0   0   0   0]',\n",
       " '[ 242   21  242   21 5898  242   23 5898  242  182]',\n",
       " '[242 812 951 947 946 952 945 949 951 953]',\n",
       " '[950 948  21 570 951 947 950 947 953 945]',\n",
       " '[56 55 56 55  0  0  0  0  0  0]',\n",
       " '[ 952  946  949  948 4087 4087   53   52   52 4087]',\n",
       " '[  21 4087  513  350  350 4085 1103 1007 1007 1104]',\n",
       " '[1106 1007 1104 1105 1104 1007 4086   23  570   21]',\n",
       " '[1007 1104 1007 1106 1007 1104 1104 1007 1105   56]',\n",
       " '[ 820  820  980   49 1037  812   53   52   52   52]',\n",
       " '[ 55  56  21  21  52  39 812  23 814  22]',\n",
       " '[676 679 815 570   0   0   0   0   0   0]',\n",
       " '[ 55 570 812   0   0   0   0   0   0   0]',\n",
       " '[848 848   0   0   0   0   0   0   0   0]',\n",
       " '[  52   53   52   52   21   21 4222 3358 4222 3356]',\n",
       " '[3358   22  570   21   23   56   55   55 3356  784]',\n",
       " '[ 820  820  980  784  784   49 5474 5472   52   53]',\n",
       " '[303  52 303 812  21  52  52  57  21  52]',\n",
       " '[ 66 348  48 222  56  55   0   0   0   0]',\n",
       " '[222  56  55  55  55 676 679  23  21 812]',\n",
       " '[676  23 679  39 815  22 814 570   0   0]',\n",
       " '[ 23 167  66  63   0   0   0   0   0   0]',\n",
       " '[2412 2412    0    0    0    0    0    0    0    0]',\n",
       " '[1547 1547  848  848  848    0    0    0    0    0]',\n",
       " '[56 55  0  0  0  0  0  0  0  0]',\n",
       " '[848   0   0   0   0   0   0   0   0   0]',\n",
       " '[784   0   0   0   0   0   0   0   0   0]',\n",
       " '[784  23  52  53  52  52  52  52  52  23]',\n",
       " '[  2   3  46  47 205  48   3   3  47   3]',\n",
       " '[   47    50    50    10     8     4  2630     6 37107  2630]',\n",
       " '[12 14 14 14 13 56 55 55  7 18]',\n",
       " '[   7   14  784 2630    6    6   13   14 2630    6]',\n",
       " '[ 21  52  52  52 678 812  21 676  39 679]',\n",
       " '[ 55  56 570  55  22  23 616 677 617 677]',\n",
       " '[56 55  0  0  0  0  0  0  0  0]',\n",
       " '[570 616 677 616 775 677 570 616  55  56]',\n",
       " '[ 951  947  952  947  952  950  956  946 1033  947]',\n",
       " '[953 947 953 955 946 945 946 953 947 953]',\n",
       " '[948 946 947 949 957 945 948 945 947 953]',\n",
       " '[951 946 945 948 953 957 946 955 953 946]',\n",
       " '[946 958 946 946 946 946 946 946 946 946]',\n",
       " '[946 951 946 951 946 946 946 946 946 946]',\n",
       " '[948 784 948 948  53  52  52  21 989  38]',\n",
       " '[  56   55    6   13   14 2630    6  950  947  953]',\n",
       " '[848   0   0   0   0   0   0   0   0   0]',\n",
       " '[952 951 947 953 950 947 953 956 949 946]',\n",
       " '[ 947  948  953  945  956  946  946  947 1033  945]',\n",
       " '[953 958 955 948 957 953 947 945 946 947]',\n",
       " '[ 946  945 1033  946  958  958  946 1033  955  946]',\n",
       " '[948 946 948 948 222  56  55   0   0   0]',\n",
       " '[  21  753  532  989 1020 1021   48 1020  544  568]',\n",
       " '[ 55 677 570 616 776 570 677 616 570  49]',\n",
       " '[989  56  55  55  23 707  22  21  52 989]',\n",
       " '[56 55  0  0  0  0  0  0  0  0]',\n",
       " '[  21 1021 1020  989  532   29  989   48  990  568]',\n",
       " '[  21  989  989  532 1020 1021   49   50   48  568]',\n",
       " '[ 568 4208 4208 4208  733  733  733  733  733  733]',\n",
       " '[ 733  733  733  733 4208 4208  733  733  733 4208]',\n",
       " '[6090 6091 6090 5503 6090 5503 6090 5503 6090 5503]',\n",
       " '[  46 6090   50  753 6090  753 6090   49 6090  570]',\n",
       " '[6090 5505 6092 5507   21 6090   56   55  677  570]',\n",
       " '[820 820 980  45  66  67  70  68  69  71]',\n",
       " '[   69    70    67    71    23  6548 33487     3     3     8]',\n",
       " '[   8    3    3    4    6 8123   14 8123    8    6]',\n",
       " '[    7 39278    10  8123     7    12  8123    18    18  2169]',\n",
       " '[   6 4534 4394   18 4534   18   18 4534   11   18]',\n",
       " '[ 55  56 733 733 733 733 733 733 733 733]',\n",
       " '[6090  784  570  952  949  949  958  946  951  947]',\n",
       " '[3331  784   18   63   63   66   11   18 4534 2634]',\n",
       " '[39278   784   979     0     0     0     0     0     0     0]',\n",
       " '[733 733 733 733 733 733 733 733 733 733]',\n",
       " '[56 55 56 55  0  0  0  0  0  0]',\n",
       " '[ 733  733  733  733  733  733  733  989  989 1021]',\n",
       " '[946 945 945 948 946 951 947 947 950 945]',\n",
       " '[946 955 953 948 953 948 947 946 956 945]',\n",
       " '[ 945  946  947  953 1033  957  947  946  953  953]',\n",
       " '[947 946 955 946 953 953 946 946 948 946]',\n",
       " '[948 946 946 946 946 946 946 946 946 946]',\n",
       " '[946 946 946 948 948 570 950 947 946 949]',\n",
       " '[56 55 55  0  0  0  0  0  0  0]',\n",
       " '[  21 4087   50  543   52 4592 4087 4594 4087 4208]',\n",
       " '[   21 24083   658   367   655   803   661   660    52   117]',\n",
       " '[   23 24084   666    32   666   658    23    35   661   658]',\n",
       " '[951 948 947 951 945 952 953 677  56  55]',\n",
       " '[   23   666    52    23 24084    38   666    52   666    52]',\n",
       " '[ 23 803 803  33  45  29 707  38  21 666]',\n",
       " '[  22  617   39  819   23   52   53   52   21 1007]',\n",
       " '[ 55 570  52  53  52  27  31  21  26  31]',\n",
       " '[ 58  58  59 848   0   0   0   0   0   0]',\n",
       " '[1104 1106 1007 1104 1007 1105 1007 1104 1007 1105]',\n",
       " '[1106 1104  948   49  948 1007 1104 1007 1106 1105]',\n",
       " '[1104 1007   75   76 1007 1104 1007 1105  948   55]',\n",
       " '[ 56  55 167 167  69 167  66  67  70  68]',\n",
       " '[ 71 359  69  70  67 167  71   3 384 167]',\n",
       " '[1007 1104  167 1007 1104 1007 1104 1106 1007 1104]',\n",
       " '[1105   38 1007 1104  948 1106 1007 1104 1105  948]',\n",
       " '[4456  948 4456  948   23   22   21  948  784  784]',\n",
       " '[52 34 31 26 35 36 32 31 29 30]',\n",
       " '[ 46  37  29  45  33  27 570  21  38 959]',\n",
       " '[  63   66  959 1007  959  959 4456  947  952  953]',\n",
       " '[ 947  951 1033  950  946  947  953  950  945  946]',\n",
       " '[ 947  953 1033  948  953  949  945  948  946  947]',\n",
       " '[947 953 945 946 947 946 953 945 954 947]',\n",
       " '[946 946 947 946 948 946 946 946 946 946]',\n",
       " '[946 946 946 946 946 948 946 948 946 946]',\n",
       " '[946 946  66  67  69  70  71  71  69   3]',\n",
       " '[6093   21   21  181 1016  181   23 1016 1016  181]',\n",
       " '[182  29 197 196 616 570 677  21 570 616]',\n",
       " '[820 820 980  49  52 197 196  53  52  49]',\n",
       " '[  56   55   55   46   50   47    6   13   14 2630]',\n",
       " '[  29 1104   55   56    0    0    0    0    0    0]',\n",
       " '[959  56  55  55 570 570 677 959 570   0]',\n",
       " '[   6   47    6   13   14 2630   56   55   55    6]',\n",
       " '[56 55 55 56 55  0  0  0  0  0]',\n",
       " '[21 22 23 22 21 23 63  0  0  0]',\n",
       " '[45 63 68 66 70 67 69 67 69 70]',\n",
       " '[ 71  70 167  21  21  22  23  39 676  22]',\n",
       " '[784 784   0   0   0   0   0   0   0   0]',\n",
       " '[679  21  23 812 676 679  22  21 814  21]',\n",
       " '[ 39 812  23 570 814  22 815 812 812  39]',\n",
       " '[815 570  22 812 784  63  66 570  22 812]',\n",
       " '[167 167  67  66 359 167  71  68  70  69]',\n",
       " '[ 67  70   3 384 167 167 812  39 812  23]',\n",
       " '[ 39 812  22  23 812  23  22 676  22 679]',\n",
       " '[679 812  39 814 676 570  23 812 815 814]',\n",
       " '[570  22 815 812 570 812  23  21 812 676]',\n",
       " '[ 39 679  23  66  63   0   0   0   0   0]',\n",
       " '[677  55  56  55 570 570 677 570   0   0]',\n",
       " '[55 56  0  0  0  0  0  0  0  0]',\n",
       " '[820 820 980  49 784  55  56  52  53  21]',\n",
       " '[4088 4088 4087  784  947  946  945  947  946  948]',\n",
       " '[ 55  56  55 570 570 570 677  56  55  55]',\n",
       " '[ 21 188   3  47  46  47 205  48   3  48]',\n",
       " '[ 8 47  3  3 47 50 50  3 10 15]',\n",
       " '[   8    4   14    6  249   14 4181  249   14   12]',\n",
       " '[56 55 56 55 55  0  0  0  0  0]',\n",
       " '[4182  249 4183   23   22   21    3   65  249  268]',\n",
       " '[271 167 270 269 167  30 271 273 269   7]',\n",
       " '[249  50  49  30 790  32 268  29  35   3]',\n",
       " '[792 790 791  46 791 792  46 793 268   8]',\n",
       " '[ 272   33   29 4184   16 4185  274  790  162 4185]',\n",
       " '[4184 1998  167  272 4185  269 1998  793  269   30]',\n",
       " '[ 792   35  131  202  222   37  796   29   33 4184]',\n",
       " '[  35  272  167 4184 1998 1914 1915 1914   11   64]',\n",
       " '[162  37  30  33  45  29  29  50  50 792]',\n",
       " '[ 790   29  790  793  790   29   29 4184 1998 4184]',\n",
       " '[272 269  35 793  48  37  33  29  29  29]',\n",
       " '[268  29 270 271 790  30 273 268 792  29]',\n",
       " '[ 35   3  37 794 272  29  33   3 274  29]',\n",
       " '[   3    3    3 4186   48  197    3   10    8   15]',\n",
       " '[  15 4187 4187   48  222   52   48  796    4    6]',\n",
       " '[  65  249   12 4188  249   14   14  249   18    7]',\n",
       " '[  11   16  249   38  784 3346  979   65   14  249]',\n",
       " '[3346 1922   23 4189   21  639 4189   52   52   23]',\n",
       " '[950 945 947 950 948 945 953 946 953 946]',\n",
       " '[947 949 945 947 946 953 951 945 952 953]',\n",
       " '[946 947 946 947 953 957 946 947 953 955]',\n",
       " '[ 958  946  953  946  946 1033  954  957  955  956]',\n",
       " '[948 948 948 948 784 949 947 948 947 953]',\n",
       " '[ 45  21  21  22  23  21  23  22  21 733]',\n",
       " '[951 948 947 953 952 950 946 957 950 953]',\n",
       " '[947 947 957 953 945 946 954 945 948 953]',\n",
       " '[947 957 946 953 945 946 955 946 954 945]',\n",
       " '[ 955  958  946 1033  946 1033  955  946  946  946]',\n",
       " '[946 946 946 946 948 946 948 946 946 946]',\n",
       " '[946 946 946 946 946 784 784  56  55   2]',\n",
       " '[733 733  63  21 306 305 306 306  21  21]',\n",
       " '[  29   23   21   22   39  249 1922   14   56   55]',\n",
       " '[66 67 71 70 70 68 69 67 70 71]',\n",
       " '[167  66  63 570 570 570  55  56   0   0]',\n",
       " '[820 820 980  66  67  71  70  68  69  67]',\n",
       " '[ 70  71 167  63  66 784   0   0   0   0]',\n",
       " '[  55 1922   23   21  249 1922   14   21   23   38]',\n",
       " '[  3  46  47  47   3  48 205   3   3  47]',\n",
       " '[    3    47    50    50    10     8     4  2630 37107     6]',\n",
       " '[2630 2630   14   12   13   14 2630    7    7 2630]',\n",
       " '[   6   56   55   55    6   13   18   14 2630 7206]',\n",
       " '[ 21 733 733 733 733 733 733 733 733 733]',\n",
       " '[733 733 733 733  76  77  75  75  76  23]',\n",
       " '[77 23 77 21 75 77 75 52 52 23]',\n",
       " '[ 75  77  76  22  75  75  77 881  75  76]',\n",
       " '[  80   76   75  881   75   76  881   80   22 1057]',\n",
       " '[1057   77 1057 1057   76   77  881   80  881   80]',\n",
       " '[881  77 881  80 881  77 881  80 881 881]',\n",
       " '[ 80  80 881  80 881 881 881  80 881  80]',\n",
       " '[881 881  80  77  80  80  80  80  80  80]',\n",
       " '[ 80 881 881 881  80  80 881 881 881  76]',\n",
       " '[881  80  80 881 881 881  80 881  80  80]',\n",
       " '[881 881 881  80  80 881 881 881 881  80]',\n",
       " '[ 80 881 881 881  80 881 881 881  80  80]',\n",
       " '[ 242  242  182   29 1922   21   21  242  242  182]',\n",
       " '[881  80 881 881  80  80  80 733 733 733]',\n",
       " '[21 55 56 55 50 46 15  3 47 65]',\n",
       " '[570 570 677 570  56  55   0   0   0   0]',\n",
       " '[56 55 56 55  0  0  0  0  0  0]',\n",
       " '[  18   18   18    6   13    6   14 2630    6   56]',\n",
       " '[733 733 733 733 733 733 733 733 733 733]',\n",
       " '[205  48 167 268 271 273 270  30  50  49]',\n",
       " '[790 268  32 792  29 268  35   3 792   8]',\n",
       " '[  48   37   64   11 1922   29 1919  796   30   33]',\n",
       " '[  49   53   52   21 2370 2370 2370 2370 2370 2370]',\n",
       " '[  55   56 2370   55 2370   55 2370  784 2370 2370]',\n",
       " '[2370 2370 2370   49 2370 2370 2370 2370 2370 2370]',\n",
       " '[2370   20   21  747   21  513   23  747   52   23]',\n",
       " '[1116  747   23  747  513  747   22   23  784   21]',\n",
       " '[752 222   0   0   0   0   0   0   0   0]',\n",
       " '[733 733 733 733 733 733 733 733 733 733]',\n",
       " '[  55   55   47   50   46   47    6   13   14 2630]',\n",
       " '[ 570  570  570  776   53   52   52   52   21 6094]',\n",
       " '[820 820 980 820 820 980   0   0   0   0]',\n",
       " '[733 733 733 733 733 733 733 733 733 733]',\n",
       " '[733 733 733 733 733 733 733 733 733 733]',\n",
       " '[733 733 733 733 733 733 733  21 733 733]',\n",
       " '[ 6 55 56  0  0  0  0  0  0  0]',\n",
       " '[733 733 733 733 733 733 733 733 733 733]',\n",
       " '[733  21 733 733 733 733 733 733 733 733]',\n",
       " '[6095 6094 3861   22 2870   32   52   35 3187 3863]',\n",
       " '[2543 1643 6096 2538 6096   32 6097   35   29   33]',\n",
       " '[3861 6095   55   56   55 6094   35   33   45   29]',\n",
       " '[  29   29   33  707  570   21   23   39   52 6098]',\n",
       " '[  21 6098  784 6098 6098   23   52 6098   22  784]',\n",
       " '[6098 6098  570   21   39 6094 3861 6099 6100 6095]',\n",
       " '[56 55  0  0  0  0  0  0  0  0]',\n",
       " '[784   0   0   0   0   0   0   0   0   0]',\n",
       " '[733 733 733 733 733  75  52  21   0   0]',\n",
       " '[6099 6100 6101 6101 6099   35 1015 6101 6101 6101]',\n",
       " '[29 33 29 29 22 29 29 23 23 52]',\n",
       " '[  49   52   53   55   56  784  784   49   57 1007]',\n",
       " '[  23   21   52 3861 6094   35 6094   29   33 3861]',\n",
       " '[1007 1008 1007 1008 1007   52   53   52   52   52]',\n",
       " '[6095   35 6102  156   23  322  157 1385  222   21]',\n",
       " '[543 678 676  39 679  23 570  29  33  29]',\n",
       " '[616 814 617  22 677 677 570  55  56 814]',\n",
       " '[222  48  52  52  55  56 814  23  22  39]',\n",
       " '[ 815   38 3346  570  222   48   50   58   58   59]',\n",
       " '[  48   48  570  570 1007 1008 1007  812   23    0]',\n",
       " '[677 677 570 776   0   0   0   0   0   0]',\n",
       " '[55 56 55  0  0  0  0  0  0  0]',\n",
       " '[56 55 56 55  0  0  0  0  0  0]',\n",
       " '[49 52 53 52 52 52 56 52 55 55]',\n",
       " '[  52   49   21 3350   48   48  961   48   48  961]',\n",
       " '[4329  784  784  979   49   52 1037   53  812   52]',\n",
       " '[ 961 1980 1980 1980   48 1980 1980 1980 1980 4494]',\n",
       " '[1981 1980 1980  543 1980  222 1980  676  679  814]',\n",
       " '[  39  815   22 1980 1980   48  961 1023  222  202]',\n",
       " '[1023 1024  338  338 1023   23   21 1023 1023 1023]',\n",
       " '[1023 3393 3394   52 3393 3374   48 3393 6618  125]',\n",
       " '[1619  753   32 3393 6618  784  222  677   22  774]',\n",
       " '[570  21  21 679 676  23 570 812  39 784]',\n",
       " '[ 52  52  52  56  55  55  49 570  22  23]',\n",
       " '[ 39 812 815 814   0   0   0   0   0   0]',\n",
       " '[55 56  0  0  0  0  0  0  0  0]',\n",
       " '[784 784   0   0   0   0   0   0   0   0]',\n",
       " '[55 56 55 56  0  0  0  0  0  0]',\n",
       " '[63 45  0  0  0  0  0  0  0  0]',\n",
       " '[56 55 55 56  0  0  0  0  0  0]',\n",
       " '[784 784   0   0   0   0   0   0   0   0]',\n",
       " '[1007 1007 1008  197   52  196   53   52    0    0]',\n",
       " '[784  48 784  55  56  55  52  52  53  21]',\n",
       " '[747 513 747  23 747  23  52 325  50 747]',\n",
       " '[ 23  23 747 513 751 747 747  23  23 747]',\n",
       " '[ 747  747   23 1116   23  323   29   23  747   23]',\n",
       " '[ 322 1049  156  319  324  747   23   23  747  625]',\n",
       " '[ 52  23 747  49  22  21  23 152  21  20]',\n",
       " '[784 784 945 946 945 947 946 947 945 948]',\n",
       " '[  29   21  747   21   23  747   23  753   48 1018]',\n",
       " '[  21  317 1017 1018  317 1019  320  318  317  315]',\n",
       " '[ 1018    21 11230 11230    21   752    21    52    21   343]',\n",
       " '[820 820 980 784   0   0   0   0   0   0]',\n",
       " '[945 946 949 947 947 948 946 949 950 950]',\n",
       " '[951 947 946 947 946 952 952 953 946 946]',\n",
       " '[954 953 955 953 946 948 956 953 946 953]',\n",
       " '[957 958 953 953 954 957 958 957 948 948]',\n",
       " '[948 948 959 959 959 948   0   0   0   0]',\n",
       " '[784 784 784 784   0   0   0   0   0   0]',\n",
       " '[  175   175   176   175   343   175   178    48 11231    21]',\n",
       " '[   38   532 11231   753 11231    48    48   544   343   175]',\n",
       " '[56 55  0  0  0  0  0  0  0  0]',\n",
       " '[ 176  568   21  733  733  733  733  733  733 1294]',\n",
       " '[784   0   0   0   0   0   0   0   0   0]',\n",
       " '[ 4105    21    21    23    21 11232 11232    29    21    21]',\n",
       " '[544  56  55  55  21 568  21 343 175 175]',\n",
       " '[178 733 733 733 733 733 733 733 733 733]',\n",
       " '[733  21  21 177 175 175 178 177 175 178]',\n",
       " '[176 177  21 733 733 733 733 733  21  21]',\n",
       " '[   21 11233    30    32 11233 11233    30    35    52 11233]',\n",
       " '[11233    46 11233 11233 11233    37    33   175    21   177]',\n",
       " '[ 177  175  178   21   22   39 1591   21 1591 1591]',\n",
       " '[784  49  52  53  52  49  56  55  22  23]',\n",
       " '[ 29 175 177  21 177 178  21  21 471 471]',\n",
       " '[ 52  52  52 222  21 679 676  23 814 677]',\n",
       " '[ 39 815  22  52  52  50  48  22  23 616]',\n",
       " '[  21   21 5799   21 5799 5799  566 6880   23  566]',\n",
       " '[ 49 800  52  53  52  49  21  52 812  52]',\n",
       " '[ 617 2415 2414   21   23  617  814   39 2415   22]',\n",
       " '[ 52  56  55  55  21 222 814  23  22  39]',\n",
       " '[784 784   0   0   0   0   0   0   0   0]',\n",
       " '[566 566  21  22 566 566 566  56  55  55]',\n",
       " '[784 784   0   0   0   0   0   0   0   0]',\n",
       " '[815 570  50  48 570 570 570  56  55  55]',\n",
       " '[   21    52    53    21 10690 10690 10690 10690 10690 10690]',\n",
       " '[ 774  616  677  616   55   56 1007 1007 1008  677]',\n",
       " '[10690    21     0     0     0     0     0     0     0     0]',\n",
       " '[ 784  784   49   52 5472 5047   48   53 5474   52]',\n",
       " '[56 55 56 55  0  0  0  0  0  0]',\n",
       " '[   50 15523    87 15524  1035    23    21    52 15524 15525]',\n",
       " '[15524    52   303 15525 15526 15523 15523    55    56    55]',\n",
       " '[ 38  23  21  22  23 173  23 707  21 222]',\n",
       " '[ 49  49  55  56 222  50 979  48 959 948]',\n",
       " '[570 570 570 812   0   0   0   0   0   0]',\n",
       " '[23  0  0  0  0  0  0  0  0  0]',\n",
       " '[677 677 677  55  56  55 677   0   0   0]',\n",
       " '[ 56  55 948 959 948 959 948 959  53 196]',\n",
       " '[ 52  53  52  21 812  52  52 815  39 814]',\n",
       " '[677 677  56  55  55 677   0   0   0   0]',\n",
       " '[570  22  21  23 812   0   0   0   0   0]',\n",
       " '[56 55  0  0  0  0  0  0  0  0]',\n",
       " '[ 52 197  52  56  55  55 948 959 948 948]',\n",
       " '[959   0   0   0   0   0   0   0   0   0]',\n",
       " '[ 6725 41475 41475 41476 41476 41476 41476 41475  6725 41475]',\n",
       " '[41475  6725 41476 41476 41476  6725 41475 41475 41476 41476]',\n",
       " '[ 6725 41475 41476  6725 41475 41476 41476 41475  6725 41475]',\n",
       " '[ 6725 41476  6725 41475 41476  6725 41476 41475  6725 41475]',\n",
       " '[41476 41476 41476  6725 41475 41476 41476 41475  6725 41475]',\n",
       " '[820   0   0   0   0   0   0   0   0   0]',\n",
       " '[820 820 820 820   0   0   0   0   0   0]',\n",
       " '[820   0   0   0   0   0   0   0   0   0]',\n",
       " '[820   0   0   0   0   0   0   0   0   0]',\n",
       " '[ 49  23  52  53  52  21 989 989  38 532]',\n",
       " '[ 52  53 197 196 625  56  55  55  55  55]',\n",
       " '[ 23  52  23  52  53 196 197 625  56  55]',\n",
       " '[ 753  989 1020 1021 1021   48   48  990  989   49]',\n",
       " '[  52   53  196  197  625   23 1035   21   21  229]',\n",
       " '[  49   56   55   55  532  989   38  753   55 1020]',\n",
       " '[544  56  55  55 568  23  22  21 222  50]',\n",
       " '[ 989 1020   55 1021   48   48  990  544   49   52]',\n",
       " '[820 820   0   0   0   0   0   0   0   0]',\n",
       " '[ 49 800  55  56  55 222  50  48  23  53]',\n",
       " '[45 21 21 22 23 22 23 21 21 21]',\n",
       " '[ 820  820  820  820 1446 1470    0    0    0    0]',\n",
       " '[ 23  53  52  21 177 175 175 177 178 178]',\n",
       " '[55 55 55 55 23 52 23 52 52 23]',\n",
       " '[ 48 175 568 176 177 175  22  23  21 707]',\n",
       " '[  52   53   49   49  304  197   52  196 1037   52]',\n",
       " '[ 21 229 229 229 229  21 229  21 229 229]',\n",
       " '[812  52  56  55  52  55  55  57 222  39]',\n",
       " '[   21 11134 11134   222 11135    21 11135 11135    50    23]',\n",
       " '[56 55 55 56 55 55  0  0  0  0]',\n",
       " '[676 679 814  23  22 570 815  50  50  48]',\n",
       " '[ 49  53 197  52 196  52 948  55  56 784]',\n",
       " '[23 52 23 52 52 52 52 52 52 52]',\n",
       " '[   21   229    21 18384    21   747    23   747    23   747]',\n",
       " '[820 820 980  52  53  52  21 196  52 197]',\n",
       " '[ 52 196  53 197  52  56  55  55 784 784]',\n",
       " '[ 52  53  52  21 982  21 812  52  52  52]',\n",
       " '[ 53  52  52  21 196  52 197  56  55  55]',\n",
       " '[ 23  52  23  52  53 196 197 625  55  56]',\n",
       " '[ 513 1116 1116 2220 2220 2501 2503 2502 2503  747]',\n",
       " '[ 32  23  23 747  52 513  21 229  23  48]',\n",
       " '[800  52  55  56  55  55  23  22  21 784]',\n",
       " '[48 23 52 23 52 56 55  0  0  0]',\n",
       " '[ 52  52 678  52  22  48 678 678 678 678]',\n",
       " '[ 49 196  53 197  52  55  52  56  55  55]',\n",
       " '[  48   21  989  989   21 2371  989 1020 1021 2371]',\n",
       " '[66 67 69 70 69 71 70 67 69 68]',\n",
       " '[ 55  49  50 784  48 948 959  55  56  55]',\n",
       " '[ 70  71  70 167  63  66 784 784   0   0]',\n",
       " '[  55   55   55   55 1037  812   52   52   52  812]',\n",
       " '[ 48 197 196  52  55  56  55   0   0   0]',\n",
       " '[ 52  53  21 196  52 197  52  22  23 222]',\n",
       " '[820 820 980  70  67  71  66  69  68  69]',\n",
       " '[ 989  753   53 1021   52   56   48  990   55   52]',\n",
       " '[   48   570   570    21 11158   570    23    21    55    56]',\n",
       " '[222  21  39 679 676  23 815 814  22 570]',\n",
       " '[ 812   39 6800  679  812   48    0    0    0    0]',\n",
       " '[ 570   22   23   21  784  784  222   52   21 1102]',\n",
       " '[ 67  70  71 167  63  66 784  21  22  23]',\n",
       " '[  52  196  197   53   52   55   56   55 4190  753]',\n",
       " '[820 820 980  21  22  23  23  22  23  21]',\n",
       " '[ 23  55  23 625 197 196  52  55  55 568]',\n",
       " '[ 55 222  50  48   0   0   0   0   0   0]',\n",
       " '[   21    63   784 23473 23473    23 23473 23474    21   157]',\n",
       " '[ 52  52  52  21 196  52 197  52  21  52]',\n",
       " '[752 229 229  21 229 229 229  21 229  21]',\n",
       " '[ 23  49 570  39 676 812 679  22  23  21]',\n",
       " '[982 812  39 812  39  23  23 812  23  23]',\n",
       " '[679  39  23 616 616 677 678 617 678 678]',\n",
       " '[   50   774    48   815    49    49   304    21    30 21276]',\n",
       " '[ 21  50  48  21 177 175 178 175 177  48]',\n",
       " '[812  39 676  22 679  39 676 679 812 814]',\n",
       " '[ 568  812   23   52   23  989 1020  989 1021   23]',\n",
       " '[ 23  22 570 814 570  39 815 570 816 812]',\n",
       " '[  812    22   812    22   570   815   677 22616   677   677]',\n",
       " '[ 222   52   21 1102   52 1102 1102   23   21   22]',\n",
       " '[  48 4190   48   52  753  202   52   52   49  784]',\n",
       " '[41475 41476 41476  6725 41475 41476 41475 41475  6725 41476]',\n",
       " '[677 678 677 678  21  23  23  21  21  23]',\n",
       " '[  49   49  513  222   38   23   21 4191 4191   23]',\n",
       " '[ 52  23 679 616  23 677  39  55  56   0]',\n",
       " '[ 820  820  980 1007 1007 1008  167  167  167   71]',\n",
       " '[820 820 980  49 800  49 196  52 197  53]',\n",
       " '[ 820  820  980 1007 1008 1007  784  784 1007 1007]',\n",
       " '[178  48 177 178 176 177  48   0   0   0]',\n",
       " '[ 989  989   29  532 1020 1021  568   48   55   56]',\n",
       " '[   23 16302 16875    21   784 23473     0     0     0     0]',\n",
       " '[ 22 677 677 678 677 677 616 570  23 616]',\n",
       " '[  22  616  617  616  616  812 1529  616   23  617]',\n",
       " '[784 784 979  49 222  48  52  53  49  48]',\n",
       " '[ 52 784  55  56  55  50  48 784 222   0]',\n",
       " '[1529  677  616   23   39  306  305  306  570  677]',\n",
       " '[ 70 167  66  67  68  69  70 167  71 359]',\n",
       " '[  67   69    3  384  167 3346   23 3346  167   38]',\n",
       " '[  38  784 3346 3346   63   66 4079 4079 4079  951]',\n",
       " '[21277    38    30    21    46    38   989   532   753 21277]',\n",
       " '[  989  1020  1021  1021  1020    48 21277   544    37   815]',\n",
       " '[ 20 229  21 229 229  21 229 229  21  23]',\n",
       " '[  21 4191  784   46   47   47    3   48  205    3]',\n",
       " '[  21  747   52   23  747  513 1116 2220 1116   53]',\n",
       " '[  23   39  616  677  570 1529  677  677  570  570]',\n",
       " '[  52 2502 2503 2501 2503   32   35   29 2501 1643]',\n",
       " '[2504 2502 2276   23   21   35   29  202 2504 2505]',\n",
       " '[  23   21   21 1980  961 1023  961   21   21   22]',\n",
       " '[ 747 6107   23 2504   29   33  513  747  747   23]',\n",
       " '[  39 1102   21  242  242   23   38  242   23  182]',\n",
       " '[ 242  242  242   21  182   23  181 2570 2570   56]',\n",
       " '[747  23 747 747 747 350 350  56  55  55]',\n",
       " '[  21  570 8440  961  961  961 1023 1024 1023  961]',\n",
       " '[820 820 980  21  22  23  70  68  71  69]',\n",
       " '[  21   21   22  570 1145   21 1145 1145 1023 1025]',\n",
       " '[ 568  570   23   21   21 1018  317 1017 1018 1017]',\n",
       " '[ 961  961  961  961  961 1980 1980  812 1980   63]',\n",
       " '[41475  6725 41475 41476  6725 41475 41476 41476 41476 41475]',\n",
       " '[ 67  66  70  69  67  71 167  23  21  22]',\n",
       " '[  39  812 1981 1980 1981  814 1980 1980  814   21]',\n",
       " '[  21   22   21   21 4084   23   38 4079   23   30]',\n",
       " '[4079 4079   37   29   37 4084 4079  569 4079 4079]',\n",
       " '[  3   8   3  47  50  50   3  10   3 249]',\n",
       " '[ 145  569 4079  145    0    0    0    0    0    0]',\n",
       " '[  65    8  268  271  269  167 1914 1915   30  270]',\n",
       " '[ 791  268   50   49   29  792   30  790 1914   32]',\n",
       " '[ 35 792 268   3 791  46   8  33  29 753]',\n",
       " '[1019  320  315 1018  318 1019  317  815   21   48]',\n",
       " '[  48   53   52   52 4190  753   48  202   52   49]',\n",
       " '[ 55 747  23 747 322 325  49 342  29 747]',\n",
       " '[  37  249  249   14    6 4181   14   12 4183  249]',\n",
       " '[  23  747   23  747 1049 1092  747   23  747  747]',\n",
       " '[796  56  55  55   7  11  16   7  64 162]',\n",
       " '[  63   66  784   58   59   58 1171    3    3    8]',\n",
       " '[177 812  39 175 175 177 177 178 177 175]',\n",
       " '[  23  350 2007   29 2007 2007  747   23   50  350]',\n",
       " '[178 176 175 177 175 176  21 177 570  22]',\n",
       " '[45 63  0  0  0  0  0  0  0  0]',\n",
       " '[  55   55   55   55   55  747  747   23  350 1379]',\n",
       " '[  52 1102 1102   23   21  570   22   39  570   56]',\n",
       " '[350  55  55  55  55  55  55  20  21 229]',\n",
       " '[  30  513   49   49   38   21  784 4191   21   23]',\n",
       " '[  48 3359   38   56   55   55   50  222 3359 3346]',\n",
       " '[  229   229   229    21    21 11234 11234    23 11234    55]',\n",
       " '[1008    0    0    0    0    0    0    0    0    0]',\n",
       " '[990  21 851 175 851 178 851 175  48  21]',\n",
       " '[ 784 3359 3359 3346 3346 3359 3359 3359 3359 3346]',\n",
       " '[   55    21 11235  1434    22    38    99   106    30 11235]',\n",
       " '[568  23  21  56  55  55   0   0   0   0]',\n",
       " '[677 570 812 677 812 677 812 677 570 677]',\n",
       " '[  21  276  276  338 1981  278  276  338  276 4494]',\n",
       " '[ 181 3253   23  182   23 3253 3253 3253   29  176]',\n",
       " '[41476 41476 41475 41476  6725 41475 41475 41476  6725  6725]',\n",
       " '[1979 1979   21   21   42   41   26   31   27   32]',\n",
       " '[ 851 3253  181   23  182 3253 3253  181   23  182]',\n",
       " '[ 177  176  175   23   21 1294   21   23   21   21]',\n",
       " '[ 181 4192  181   23 4192  182 4192  181 4191 4191]',\n",
       " '[  551    38   551 11235   303 11235    46    48    37   752]',\n",
       " '[ 178  175  177  178   21 1980   23   21   21 2397]',\n",
       " '[3253  262  815  570  815   45   21 3772 3772  145]',\n",
       " '[   29    45 11235    52 11235 11236 11235  1434    52   747]',\n",
       " '[4191  707   22   23   21   21   23  747   23  513]',\n",
       " '[  23  350  747   23   50   50   23  747 1379  324]',\n",
       " '[55 56 55 56 55  0  0  0  0  0]',\n",
       " '[981   0   0   0   0   0   0   0   0   0]',\n",
       " '[324 747  23 625 625 617 152 747  23 156]',\n",
       " '[ 323  262  747   23   23 1379  747   23  319  747]',\n",
       " '[747  23  22  39 747  23 747  23 747  23]',\n",
       " '[  23 1116   23  747  513   23  747 4191 4191 4191]',\n",
       " '[  21  117 4642 4643 4642  117   32   30  516   22]',\n",
       " '[117  30  30  30  35  29 222  50 516  46]',\n",
       " '[117 117  52  48 117  37 117  23  52  33]',\n",
       " '[ 45  29 117 156 117 319  30 117  23 570]',\n",
       " '[ 229   38  989   21  753 1020  989 1021   48  990]',\n",
       " '[ 814  812  570   23 2397  815  812 2397   21   39]',\n",
       " '[544 229 229 229 229  21 656 229 229  21]',\n",
       " '[ 812   22   23  570 7842  815  812   38   21 7842]',\n",
       " '[  21 7842   38 7842 7842   38 7842   39 7842 7842]',\n",
       " '[41476 41475 41476 41476     0     0     0     0     0     0]',\n",
       " '[  21 7842 7842 7842   23   22   39 2397   21 1980]',\n",
       " '[ 23  21 752 747  23 747  23 752  56  55]',\n",
       " '[ 21  22 117  39 117 117 117 117 570 117]',\n",
       " '[ 20  21 229 229 229 229 229 229  21 656]',\n",
       " '[  21  747  747  747   23  747  568 1379  747  747]',\n",
       " '[  21  989  532  753 1020 1020  989 1021 3012   48]',\n",
       " '[  48  989   21 1020 1021  989  532 1021  222  544]',\n",
       " '[229 229 229  21 568  21 175 177 176 177]',\n",
       " '[ 229  229  229  229  229   21  229 2371   21 2371]',\n",
       " '[ 48 175 178 175 177 178 177  21 747  23]',\n",
       " '[3773 3772   35   21  142 3773   32  125 3772 3772]',\n",
       " '[ 145  177  175  141  175  141 3772 2762  175  177]',\n",
       " '[ 176  175  177  178  178  175 3773  833  314  834]',\n",
       " '[  29   30   49   30   50 3772   48   37   33  177]',\n",
       " '[  55   23 1014 1013   21 1013 1015 1013 6103   21]',\n",
       " '[ 56  55  55  45  52 960 961  48  52  52]',\n",
       " '[34 26 31 31 26 41 36 35 30 37]',\n",
       " '[ 55  55  49  50  48 784   0   0   0   0]',\n",
       " '[38 37 29 31 31 29 42 33 29 21]',\n",
       " '[55 56 55 55 55 55 55  0  0  0]',\n",
       " '[ 175 3772   29 1919   39   30   22   21  570  815]',\n",
       " '[162  23 812   0   0   0   0   0   0   0]',\n",
       " '[   21 17940 35254 35254    21     0     0     0     0     0]',\n",
       " '[350 350 747  23 747 350 350 752  23  52]',\n",
       " '[568 752 747  23 747 747  23  29 752  23]',\n",
       " '[ 820 1446    0    0    0    0    0    0    0    0]',\n",
       " '[26881 26881    21   570   570  1980  1980   812  1980  1980]',\n",
       " '[56 55 55 52 52 22 21 23 56 55]',\n",
       " '[28173 28174 28173 28173 28173    38    21    21   940    23]',\n",
       " '[   49   800  4313    53 39279   196    52   175 39280 39281]',\n",
       " '[   75   197 39282 39283    52 39282 39282 39282  4313  3110]',\n",
       " '[ 23  52 513  50  50  21 851 175 175 851]',\n",
       " '[ 670 6103  669  217  217   23   52  222  341  175]',\n",
       " '[851  21 175 178 851  48 851 176  23  21]',\n",
       " '[747 157  29  29 747  23 747 747  23 747]',\n",
       " '[4313  516 4314 4315   30 4313  516 4314   48  117]',\n",
       " '[4314   52   48 3110   30  704  704   46  704   46]',\n",
       " '[39279    52   666   660   661   639  4617   652 39284   658]',\n",
       " '[ 4271 39284   559   666   558 16862 39284   639 39279   639]',\n",
       " '[ 3003   559   559 39283   559   559    52    21 39285   759]',\n",
       " '[  197 39285    37    21  5029  5028 39285  5030  5030  5030]',\n",
       " '[ 5030 39285    45    55    56    55    39   666   707    22]',\n",
       " '[570  39  49 570  50  48 570  56  55   0]',\n",
       " '[812 570 677 677 677 812 812 677 677 677]',\n",
       " '[  23  747 1379   23  747  747  747   23  350  747]',\n",
       " '[ 23  21 222  50  50  48  45  66  67  68]',\n",
       " '[ 747  350   23   23   23  747 1379  747  350   23]',\n",
       " '[747 350 229  21  20 229 229  21 229  21]',\n",
       " '[  23   52   23 2359   23   22  570   23   52   23]',\n",
       " '[55 56 45 66 67 69 70 71 68 69]',\n",
       " '[117 117 117 117 117 570  56  55 570 570]',\n",
       " '[  229    21 11235   551    30   752    37    29 11236    56]',\n",
       " '[   8    3    3 6897    4   14   14    8    6 6898]',\n",
       " '[948 959 959 948 167   3 167 384  21  23]',\n",
       " '[3346   53   52   52   52  800   21   23   38  242]',\n",
       " '[  21   21 4802   23 4803   38   21   22   23   22]',\n",
       " '[6898   14    7   10 1200    3    7   11   15   15]',\n",
       " '[176 851 178 178 175 851  21 177 175 175]',\n",
       " '[  23   21 4804   38   23   21   21  167  268  271]',\n",
       " '[ 167  269  790 1915 1914  270  792 1914  790   30]',\n",
       " '[ 791  268  791   30   32 1914  789  792  793   35]',\n",
       " '[  29   30    3  796 1915  268  788   67  272   30]',\n",
       " '[4804   70   69   68   71   67  162   71   69    3]',\n",
       " '[  37  272   30   37   33    3   29 4185    3  269]',\n",
       " '[   7 6898   12   14 6898   16 6898 6899 6898   14]',\n",
       " '[ 270  271  796    3  268   30  789 1915 9651 1915]',\n",
       " '[ 30 788  29  35 268  29 794 272   3  29]',\n",
       " '[  30   37    4 9652  272 9652  794    6    8 9653]',\n",
       " '[   3    4    8   14 9652  272  794 9652    6    8]',\n",
       " '[   3    4 9652   14 9652 9652    8    7    7  794]',\n",
       " '[  45   45   45   21   23   21   23 5063  175 5062]',\n",
       " '[56 55  0  0  0  0  0  0  0  0]',\n",
       " '[ 272    3   12   10    3 1919   11   16    4 9652]',\n",
       " '[9652 9652    3    8   14   15   11    7   12   16]',\n",
       " '[ 67  70  71  70 167  63  66  55  56  55]',\n",
       " '[1919   45   29   33   18  269 9652   18 9653  269]',\n",
       " '[ 272  272    3   14 9652 9652   65   11   64   63]',\n",
       " '[13598  1980  3398   570 13598  1980  3398  1980 28480  1980]',\n",
       " '[66 29  0  0  0  0  0  0  0  0]',\n",
       " '[ 23  52  23 776  56  55 776 776 776  21]',\n",
       " '[1980  812   21   21   21 1551  570  812   22  570]',\n",
       " '[  55   55   55   55   22  747   23  513 1379 1379]',\n",
       " '[747  23 513 350 350  20  21 229 229 229]',\n",
       " '[6898 6899   21   88 1922   18   21   21   30 6900]',\n",
       " '[ 45 784  45  23  23  21  22  23  22  23]',\n",
       " '[812 677 812 677 616 677 570 812 677 570]',\n",
       " '[178 177  23  52  20  21 229  21 229 229]',\n",
       " '[820 820  45  21  23  23  21  39 982 812]',\n",
       " '[  229   229   229    21    21 11237 11237 11237   752    56]',\n",
       " '[776  23 616 616 677 617 677 679 616 677]',\n",
       " '[  23   21 2371 2371   23   21 3253  181  182  181]',\n",
       " '[202 962  35 962  52  52  50  52  49  46]',\n",
       " '[ 29 962 962 962 962 962  29  35 962  29]',\n",
       " '[  37   29   21 3346   37 3346 3346   38   23 3346]',\n",
       " '[ 37 962 962  29  35 962 962 962  35  29]',\n",
       " '[3356   38   21 3358 3357 3357 3356   23   21   30]',\n",
       " '[6901  106  896 3346 3358   21   22   39   30   32]',\n",
       " '[6902 6901   35   22   37   39  896 6902   33  569]',\n",
       " '[981  66   0   0   0   0   0   0   0   0]',\n",
       " '[962 962  35  29 962 962 962 962 962 962]',\n",
       " '[962 962 962 962 962 962 962 962 962 962]',\n",
       " '[6903   38   29  569  569 6903 6903   21 6903 6903]',\n",
       " '[962 962 962 962 962  37 962 962 962 962]',\n",
       " '[962 962 962 962 962 962 962 962 962 962]',\n",
       " '[962 962 962 962 962  32  30 812  22 570]',\n",
       " '[6903   88   21   21 6904 4398 6904 6903 6903 4399]',\n",
       " '[6903 4398 4402   21 6903 4399 4398 4400 4399 1033]',\n",
       " '[  52   23 2360 2360   23   30  352   32   52  202]',\n",
       " '[6903    1 4398 4399 4398 4400 1922 6898    0    0]',\n",
       " '[ 156 2360   35   23 2360   52  131   29 2361   46]',\n",
       " '[2360 2361 2361   37 2361   33   29   45 2361 2361]',\n",
       " '[  21   63 1547 1547  784  784   73    0    0    0]',\n",
       " '[175 175 177 175 177 175 178 177 178 177]',\n",
       " '[  175   176   177   177   176 19452  2425  2426  2427  2425]',\n",
       " '[ 21  23  39  56  55  55 962  35  29  37]',\n",
       " '[812 676 679  39 676 679 812  22  22 814]',\n",
       " '[ 56  55  55 222  23  21  52  53  52  21]',\n",
       " '[ 23 570  23  22 814 812 570 812  22  39]',\n",
       " '[815 812  22 812 816 570 616 570 812 815]',\n",
       " '[70 71 69 71 67 69 70 23 23 22]',\n",
       " '[570 812 616 616 616 616  23  23 616 616]',\n",
       " '[ 49  49  55  56  55 222  50  48   0   0]',\n",
       " '[ 23  39 987 986 988  56  55   0   0   0]',\n",
       " '[2361 2361 2361 2361 2361 2361   22   39 2361 2361]',\n",
       " '[  21   22   23   21   22 1102   39   22   39 1102]',\n",
       " '[ 67  66 167  67  69  70  71  68  69  67]',\n",
       " '[ 70  70  71  69  29  66  63 270 270 270]',\n",
       " '[1102 1102 1102  570   22   21   23  570 3346  570]',\n",
       " '[   21   177   175   178   175   178   177    21 18385 18385]',\n",
       " '[3876 3876  570  989   38   21  568 1020  989 1021]',\n",
       " '[  23   23 2168   23 2168   23   63   66   23  784]',\n",
       " '[ 1021   990   544   990   544    21    21  4391    23 12375]',\n",
       " '[ 812  570 1980  167  167  167  167  359  384  167]',\n",
       " '[7867 2425 2425 3062 2427 2425 2427 2428 2425 2426]',\n",
       " '[    1   391 21702   756   756  2428  2427  2425  2425  2427]',\n",
       " '[197  53 196  52 625  56  55   0   0   0]',\n",
       " '[2428 2425 2426 2425   76 2426   29  395  140  394]',\n",
       " '[2429 2425  394 3242   42  396  397 2425 2426 2426]',\n",
       " '[   75  2425 21703  5168  2429    77  5167  5168  2428  5169]',\n",
       " '[  23   21 4664 5170 2217 5168 2051 4663  936 5168]',\n",
       " '[2458 2458 2428 2428 2428  144  142  141  459 2428]',\n",
       " '[570 616  22 812 106 812 812 570 570 816]',\n",
       " '[2361 2361 2361   55   56 2361 2361 2361 2361 2361]',\n",
       " '[2425 2427 2428 2428 2428 2425 2425 2428 2428 2428]',\n",
       " '[   3 6056   23 1600 1600 6056   38   32   23 6056]',\n",
       " '[  30 1600 6056   35 6056 6056 1600   29   30 1600]',\n",
       " '[6056   22   22   22   37   37   39   29 4496   29]',\n",
       " '[ 55  56  55  52  53  21  38 989 532 753]',\n",
       " '[182  23 242 242  29  29 242  56  55  55]',\n",
       " '[12375  4391  4391    23    23    21    21    27    26    31]',\n",
       " '[   23    39    76    39    75    23 28481    76    75    80]',\n",
       " '[   77    77    80 28481    80    77   812   570 28481 28481]',\n",
       " '[   22    23    23 39286    23   549    38    30    32 39286]',\n",
       " '[28481 28481  6056    29  6056    33    29  6056  6056    23]',\n",
       " '[  35   30   29 6056   29   29   29   29 6056   33]',\n",
       " '[ 55  56  55  55  55  55 986 988 987  56]',\n",
       " '[ 2426  2425  2426   140   125  2428  2426 21704   465   465]',\n",
       " '[  38   34   38   41   31   42   21  220 1102 1102]',\n",
       " '[3876   21  940  942   53   52  389  940  388 1359]',\n",
       " '[  26   31   42   32   22   35 1102   30   31 1102]',\n",
       " '[  36   31   22   29 1102   37 1102   41   37 3876]',\n",
       " '[  55   21 1102   21   52 1102 1102   21  181   21]',\n",
       " '[55  0  0  0  0  0  0  0  0  0]',\n",
       " '[  35 6056   29  167   29   37   22   33  359  384]',\n",
       " '[2428 2428 2427 2428 2428 2428 2428 2428 2428 2428]',\n",
       " '[  167   167  1109  1109   119 28482   812   384    36 28482]',\n",
       " '[ 1109   151    36 28482 28483  4196    36  1109   119  1980]',\n",
       " '[  119  1109 28483   119  1109    38  1108 28482    36    22]',\n",
       " '[ 35  29  37 133  30  33  29  37  30  23]',\n",
       " '[  30   35   22 1980  133   37   29   37  117   30]',\n",
       " '[167 167 359 167 167 270 270 270 270 167]',\n",
       " '[21 21 29 45 33 29 27 29 23 21]',\n",
       " '[1016 1134  181 1016  182   23 1016   21  181 1134]',\n",
       " '[1980   39   30   22   33   29 1980 1980 1980  305]',\n",
       " '[   21   181   242    21    21   106    99   747 30285  2377]',\n",
       " '[  747 30285    23 30285    46   747   639    52   639   747]',\n",
       " '[   46 30285   639    23    52   639    30 30285    30   513]',\n",
       " '[  747 30285    37 30285    23   570    22   784    21   784]',\n",
       " '[2428 2428 2425 2428 2428 2427 2428 2428 2428    0]',\n",
       " '[28708    22    23 28708    23    23    52    22    23   752]',\n",
       " '[812 677 812 677 812 570 774 677 812 677]',\n",
       " '[2361 2361 2361 2361 2361 2361 2361 2361 2361 2360]',\n",
       " '[ 23  23 752  23 617  52  23  23 752  23]',\n",
       " '[752  39 747  23 513 747 747  23 747  23]',\n",
       " '[ 989 1021 1020 1020   48 1021  544   21   21  242]',\n",
       " '[752  23  23  23  23 752  23 752 752  23]',\n",
       " '[747 350 747  23  23 751 350 350 350 752]',\n",
       " '[ 718  306  270  721  717  720  719  570 1980 1980]',\n",
       " '[752  23 752  23  23 752  23 752 752  52]',\n",
       " '[  270 32480 22776   167 32480 32481 22776 32480   167  2590]',\n",
       " '[   23 28708 28708    23 39287    23   752 39287 39287 39287]',\n",
       " '[32480    23  2589  2589  2589   390   940  2589   941   942]',\n",
       " '[ 940  941  942  942  941  940 2589  940  941  942]',\n",
       " '[ 941 2589 2589  319   29   32   30   22   35   22]',\n",
       " '[ 23 242 242 182  29 568  23  23  21  21]',\n",
       " '[39 30 29 30 22 22 39 22 37 22]',\n",
       " '[ 37  22 270 270 270 270 270 270  29 167]',\n",
       " '[ 33 167 167 167 167 362 363 360 364 360]',\n",
       " '[167 363 364 362 363 167 360 364 362 167]',\n",
       " '[  3 167 384 167 167 363 167 363 167 363]',\n",
       " '[812  22  99 812  99  99 812  99  22 677]',\n",
       " '[167 167 363 362 364 360 363 384 167 362]',\n",
       " '[  360   363   167   167   167   167   364   363 32482  2427]',\n",
       " '[  139   609 32483  3285 32484   702 32485  3554  8119 32486]',\n",
       " '[  167   363  9493 32487  1800   363   167   167   363   167]',\n",
       " '[  167   167   102    38 32484  1434   106   728 32484   896]',\n",
       " '[  612 32484   109  1434 32484   107   105  4616   105   102]',\n",
       " '[  103    99   106   102   106 32484   109   102   113    22]',\n",
       " '[105 109 896  39 109 102  22 105  29 113]',\n",
       " '[  55   56   55 4313 3110  516 4314  516 4315   30]',\n",
       " '[570 570 570 197 196  55  56  53  52  52]',\n",
       " '[4314  117 4314  704 3110  704   23   37   29   22]',\n",
       " '[ 23  21  50 963 963 963 963 963 963 963]',\n",
       " '[   35   516    32 32484    39 32484   270   270   270   270]',\n",
       " '[  270   167   270   167   167  3749   139   836 14426   138]',\n",
       " '[   21 18386   106    99   106    99 18386    52    53   196]',\n",
       " '[   30 14429  3100 14428  3775   836   138   139  3749  3775]',\n",
       " '[  836    37  3749   125  3749  3749  8085 14430   142   459]',\n",
       " '[677 677 678 677 678  22 677  23  22  22]',\n",
       " '[  144   141 14430   392   139  3749   148    35  3777  3778]',\n",
       " '[3749   30   29   22   39   22   30  836  836  836]',\n",
       " '[ 23 812 677  99  22 616 616 616 677 616]',\n",
       " '[677 570 570  23 677 677 776  23 677 570]',\n",
       " '[3749  167  384    3  167  148 3749   33  270  270]',\n",
       " '[616 570 812 677 617 678 677 812  99  99]',\n",
       " '[ 48  52  22  52 984 984  23  21  39  22]',\n",
       " '[270 270  29  33 270 167 167 167 167 167]',\n",
       " '[196 197 570 322 117 117  56  55  55 570]',\n",
       " '[3253   29 3253   21   56   55   55  196  197   52]',\n",
       " '[2360   23   23   53   52   30  319  352   35   32]',\n",
       " '[ 38 500 507 506 504 505 502 503 500 503]',\n",
       " '[156  29  23  30  33  29  23  29  23  35]',\n",
       " '[  501   507    38   167   503 32488   506   622 32488   621]',\n",
       " '[32489 32490 32489   509   504   503   508 32488 32491    35]',\n",
       " '[  500   502   501   503    22 32491   506   256   503  1107]',\n",
       " '[   35   511   256   503   506   500    22 32491   502 32491]',\n",
       " '[ 508   22   39   30  513   22 6831  151  502  500]',\n",
       " '[ 501 2388  503   39  503  502  514  518  157  500]',\n",
       " '[1049  325  324  262   23   23   35   29   29   29]',\n",
       " '[  516    30    37   117    29 32491   162    39    22    37]',\n",
       " '[963 963 963  23 570  21 963 963 963 962]',\n",
       " '[946 948 951 950 946 948 945 946 946 949]',\n",
       " '[945 947 946 945 951 953 945 947 946 953]',\n",
       " '[946 947 952 957 953 947 946 958 953 946]',\n",
       " '[5768  681  338  681  704  681 5768  182  745  704]',\n",
       " '[812  99  99  99 812  99 812  99  99  99]',\n",
       " '[32490   341 32490  2338  1919    37    37 32488    30  1919]',\n",
       " '[ 947  958  946  953  947  946  953  957  947 1033]',\n",
       " '[681  32  30 681 516  35 117 516  30  46]',\n",
       " '[ 953  958  946  947  946  958  946 1033  946  958]',\n",
       " '[  21   21  568  989 1020  568 1021   21  989   21]',\n",
       " '[946 954 948 948 946 946 946 946 946 946]',\n",
       " '[  33   37   23   35   23   29 2361   23  131   35]',\n",
       " '[946 946 946 946 951 948 948 570 747  23]',\n",
       " '[ 681   33   29  202   52 5858   37   52   21   21]',\n",
       " '[ 322   23   29 2361 2361   37 2361   33   29   29]',\n",
       " '[32488    29    33   621 32489 32490 32489 32491    35    29]',\n",
       " '[ 989  568 1020 1021  532  568  948  959   23   21]',\n",
       " '[962  35  29 962 962 962  35  29 962 962]',\n",
       " '[   33    29   500   256   756 32492  1094   756  1094   500]',\n",
       " '[4594 4592   48 4594 4594  989   21  989 1021  532]',\n",
       " '[ 35  29  32  37 962 962 962  35  29 962]',\n",
       " '[  500    37   167   167     3    22    33    29 32488 32488]',\n",
       " '[ 812 1980 1980 1980 1980 3346 3346 1980  812 3347]',\n",
       " '[2360 2361   33  987  988  986 2361 2361 2361 2361]',\n",
       " '[1020 1021   22   39  568  568 4267   21 4267   21]',\n",
       " '[  621    30 32490 32489    35    32 32491 32489  1919    22]',\n",
       " '[962  35  29 963 963  37  23 707 570  21]',\n",
       " '[   37    30 32488   621    33    29 32490 32489 32489 32491]',\n",
       " '[   35    37 32488    33    22    29   621    23 32489    23]',\n",
       " '[812  22 812 616 812 616 570 616 616 617]',\n",
       " '[  52 1037  812   53   52   52   56   55   55   52]',\n",
       " '[   21  2281  2281    85    48    52 13168    21   679   676]',\n",
       " '[   30 32490    23    35 32491    22   319   319   117   384]',\n",
       " '[197 625 722 722 722 722 722  52  22  52]',\n",
       " '[570 812 570 812  99  99  23 616  99  99]',\n",
       " '[  167    37   167 32493 32493   490 32493   167 32493 32494]',\n",
       " '[2361   22 2361   22   22   22 2361   39 2361 2361]',\n",
       " '[ 7584  3887 32335  7584  7584  8746 32335  7584 32335  7584]',\n",
       " '[ 8746 32495   117  7584    29  1919    33  7584  7584   167]',\n",
       " '[  52   53   21 5406 5406 5406 5406 5406   21 5404]',\n",
       " '[5406 5404 5404 5406 5406 5404 5404 5406 5406 5404]',\n",
       " '[5406 5404 5406 5406 5404 5404 5406 5406 5404 5406]',\n",
       " '[5404 5404 5406 5406 5404 5406 5404 5406 5406 5406]',\n",
       " '[ 722   22   39 7188 7187 7188 1995 7188 1994  890]',\n",
       " '[5406 5406 5406 5406 5406 5406 5406 5406 5406 5406]',\n",
       " '[  85  388 1359 1122 1359   85 4329 1373 3848  797]',\n",
       " '[5406 5406 5406 5406 5406 5406 5406 5406 5406 5406]',\n",
       " '[5406 5406 5406 5406 5406 5406 5406   23   21   56]',\n",
       " '[5898 5898 5898   23 1228   21 1229   21 1102   21]',\n",
       " '[2361 2361 2361   23   56   55   22  570    0    0]',\n",
       " '[  56   55   48   48  202   21  513   23 4191  784]',\n",
       " '[  30 7584 7584    3  167  384  167  167  167  363]',\n",
       " '[1980 1980 1980  812  812 3347 1980 1980 1980 1980]',\n",
       " '[ 23 814  39 815  22 570 570 812   0   0]',\n",
       " '[ 99 812  99  99  99  99  99 812  99 812]',\n",
       " '[55 56  0  0  0  0  0  0  0  0]',\n",
       " '[  23  784   56   55   55 4313  516 3110 4314  117]',\n",
       " '[ 22 570 570 677 677 816 812  39 676 677]',\n",
       " '[ 55  55  55 988 986 987   0   0   0   0]',\n",
       " '[ 896 7188  896  896 7188 7188 1995 1994 1995 1995]',\n",
       " '[ 99  99  99 776  99 812  99 816  99  99]',\n",
       " '[ 55  55  57  49  52  53  52  52  52 800]',\n",
       " '[988 986 987   0   0   0   0   0   0   0]',\n",
       " '[1995 1995 1995  896 1995  896 7188  896 7188 7188]',\n",
       " '[1980 1980 3347 1980 1980 1980 1980  815  812   21]',\n",
       " '[3849  942  617  940  941   52   52   21   52   52]',\n",
       " '[7188 7188 7188 7188 7188 7188   45   52   23  656]',\n",
       " '[948 959  56  55  55 945 952 945 948 957]',\n",
       " '[56 55 55 55 56  0  0  0  0  0]',\n",
       " '[962 962  29  35 962  35  29 962 962 962]',\n",
       " '[962 962 962 962 962 962 962 962 962 962]',\n",
       " '[962 962 962 962 962 962 962 962 962  37]',\n",
       " '[959 948 948 959   0   0   0   0   0   0]',\n",
       " '[28484 28484   570    21    30    38 28484 28484    32 28484]',\n",
       " '[99 99 99 99 99 99 99 99 99 99]',\n",
       " '[   35    29    33    29 28484    30 28484    35   812    29]',\n",
       " '[ 1980  1980  1980    37    33    29    30 28484 28484 28484]',\n",
       " '[962  35 962 962  29 962 962 962 962 962]',\n",
       " '[962 962 962 962 962 962 962 962 962 962]',\n",
       " '[962 962 962 962 962 962 962 962 962 962]',\n",
       " '[962 962 962 962 962  37 962 962 962 962]',\n",
       " '[962 962 962 962 962 962 962 962 962 962]',\n",
       " '[   29    35    33    29   812    21 28485    37 28485   812]',\n",
       " '[962 962 962 962 962 962 962 962 962 962]',\n",
       " '[962 962 962 962 962 962 962 962 962 962]',\n",
       " '[962 962 962 962 962 962 962 962 962 962]',\n",
       " '[1102 1102   23  707   21   56   55   55    0    0]',\n",
       " '[962 962 962 962 962 962 962 962 962 962]',\n",
       " '[  53   52   21   38  989  753 1020  989 1021 1021]',\n",
       " '[962 962 962 962 962 962 962 962 962  30]',\n",
       " '[   48   544    21   989   989  1020  1021    21 25218    30]',\n",
       " '[167 167   3 167 167 167 167 363 167 363]',\n",
       " '[362 360 363 167 362 500 609 606 766 167]',\n",
       " '[  363 32496 22705   337  1548 32497   340   167 32498   363]',\n",
       " '[384   3 167 167 167 167 363 167 363 363]',\n",
       " '[1798  362  364  384  167  360  363  363  362  360]',\n",
       " '[167 363 364 363 360 362 167 364 167 363]',\n",
       " '[167 363 167 167 363 167 167 362 363 167]',\n",
       " '[360 364 362 364 167 360 363 363 167 167]',\n",
       " '[   46 25218    46    21   106    38   303   551    30  1434]',\n",
       " '[363 364 360 362 167 363 360 364 362 167]',\n",
       " '[360 363 362 364 167 363 167 167 363 362]',\n",
       " '[962  35 962  29 962  35 962  29 962 962]',\n",
       " '[363 167 360 364 167 363 167 360 362 364]',\n",
       " '[363 363 167 167 167 167 363 167 167 362]',\n",
       " '[ 99 812  99  99  99 570  99  99  99  99]',\n",
       " '[  23   52   23   52   23   52   23 1018 1017  317]',\n",
       " '[11235    22    99   551    56    55    55    37   568   990]',\n",
       " '[ 45  21  20  21  23  22  23  21 812  22]',\n",
       " '[1017 1019  318  317    0    0    0    0    0    0]',\n",
       " '[962 962 962 962 962 962 962 962 962 962]',\n",
       " '[ 3729  7412  9587  8060   384   167  3729   363   687 32499]',\n",
       " '[32500   655 32501   684 32502 32503   363   167   363   363]',\n",
       " '[962 962 962 962 962 962 962 962 962 962]',\n",
       " '[ 39 812  21 812  23  39  23  22 812 812]',\n",
       " '[363 167 363 363 167 363 363 167 167 167]',\n",
       " '[962 962 962 962 962  37 962 962 962 962]',\n",
       " '[676  22 679  22  39 676 679  22 812 812]',\n",
       " '[364 167 362 360 363 364 360 362 167 363]',\n",
       " '[  23   52   23 3480 3480  677   23   21 3480   39]',\n",
       " '[962 962 962 962 962 962 962  35  29 962]',\n",
       " '[363 364 360 362 167 139   3 384 167 656]',\n",
       " '[  766   139   500 14869   167   363   363   363   363   167]',\n",
       " '[ 23 570 814 814 815 812 570 812  22 815]',\n",
       " '[   29    45  1434 11235 11236    52 11235    52   568    23]',\n",
       " '[  167   139   363  2427 32304   167   363   363   363   167]',\n",
       " '[962  35  29  37  55  56  55  39  23  23]',\n",
       " '[167 363 363 270 270 167 167 270 270 270]',\n",
       " '[774 677  63  66 677 677 677 812  22 774]',\n",
       " '[ 21 570   0   0   0   0   0   0   0   0]',\n",
       " '[  23 1379 1379   21   38  989  753  989 1021 1020]',\n",
       " '[679  22 677 616  23  49  52  53  52 800]',\n",
       " '[ 52  52  52  21 678 679 676  39 677  23]',\n",
       " '[   21 25219    35    29    30 25219 25219 25219 25219 25219]',\n",
       " '[1021   48  544   55   56   55  752  568   48  990]',\n",
       " '[ 22  21 616  52  52  53  52 800  21 676]',\n",
       " '[  21 5898 5898   38   21 9691  175 9691  175   21]',\n",
       " '[ 175 9691  178  176  989 1020  989 9691   21 1021]',\n",
       " '[ 568  989  175 1021  532  175 9691   21  568   23]',\n",
       " '[ 55  55  55  55  55  55  55 196 197 625]',\n",
       " '[ 99  99  99 570 776  99 812  99  99  99]',\n",
       " '[707 677  39  23 988 987 986  23  52  23]',\n",
       " '[25219    37 25220    22    39    29    33    32     0     0]',\n",
       " '[1922  784   71 6905 6905   71   14 1922 6898   65]',\n",
       " '[ 52 197 196  53 625   0   0   0   0   0]',\n",
       " '[ 52  52  52  52  56  21 570  22  39  23]',\n",
       " '[  52   52  676  679 5932  229   21  814   23  815]',\n",
       " '[946 948 951 945 948 958 946 945 949 956]',\n",
       " '[950 947 951 949 945 946 950 946 953 947]',\n",
       " '[946 953 947 953 946 947 947 953 946 946]',\n",
       " '[947 953 953 946 947 954 947 946 953 957]',\n",
       " '[946 947 946 948 948 948 948 784   0   0]',\n",
       " '[   23    21   989    21  1021   989    21    21 35776 35776]',\n",
       " '[ 55  56  55 948 959 948 959   0   0   0]',\n",
       " '[ 812  812 6801   52   53 6801   21 6801   21  812]',\n",
       " '[812 616  23  23 679  21 616 812 676  39]',\n",
       " '[ 99 816  99  99  99  99  99  99  99  99]',\n",
       " '[812 774  21 812 570  21  21 812 812  73]',\n",
       " '[  52   52 5933   21 5933 5933  812   39   23  679]',\n",
       " '[ 55  56  55 800 784   0   0   0   0   0]',\n",
       " '[  21   21   21 1021  989 1021   21 9691 9691  175]',\n",
       " '[28854 35776 35776 35776 35776 35776 35776 35776   570    39]',\n",
       " '[677  39 678  23 676 679   0   0   0   0]',\n",
       " '[812   0   0   0   0   0   0   0   0   0]',\n",
       " '[  39 1038   22  847  774  570   21 5933  196  197]',\n",
       " '[ 178 9691   21  989  989 1021  568  568 3346 3346]',\n",
       " '[616 677 617 570 677 570 678   0   0   0]',\n",
       " '[ 21  21 707  23 570  21 197 196   0   0]',\n",
       " '[1037  812  676   39  812  679  676  679   39  812]',\n",
       " '[ 99  99  99  99  99  99  99 812  99  21]',\n",
       " '[22  0  0  0  0  0  0  0  0  0]',\n",
       " '[814  23  22 812  23  22 816 815  39 812]',\n",
       " '[ 815   22   22 9908 1903   30 1903 4238 9908   37]',\n",
       " '[722 722 812 812   0   0   0   0   0   0]',\n",
       " '[  23   39  229   21  940  941  942 5932  679  676]',\n",
       " '[812   0   0   0   0   0   0   0   0   0]',\n",
       " '[5932 6800    0    0    0    0    0    0    0    0]',\n",
       " '[  22   37  812 1547 1547 1547   29   45  106 1921]',\n",
       " '[820 820  45  21  21  23  21  23  21 106]',\n",
       " '[6897 1922    0    0    0    0    0    0    0    0]',\n",
       " '[3359    0    0    0    0    0    0    0    0    0]',\n",
       " '[ 1921  1921  1921  1921  1921  2425 19452  2426  2427  2425]',\n",
       " '[4314 4315  516   30   48 4314 3110  704  704  704]',\n",
       " '[  23   37   23 2155   23   38 2155  145 2156 2155]',\n",
       " '[ 3062  2427  2426  2428  2427  2425  2427  2425 21705   399]',\n",
       " '[  399 11333  2426 11333  2425  2425  2426   395   394   394]',\n",
       " '[ 140  396  397 2426 3106 3634 2376 2426 3634 3106]',\n",
       " '[2428 2428 2428 2428 2428 2428 2428 2428 3106   21]',\n",
       " '[4802   23 4803   38 4804   38 4802 4804 4804   21]',\n",
       " '[   29  2156  2155  2155    22    23    23    23    23 18598]',\n",
       " '[1035   23   21   21   22   23   21   22    2    3]',\n",
       " '[  23 2428   22   23   21 2428 2428 2428 2428 2428]',\n",
       " '[  21   22   21  570  570   22   21 9894  102 1036]',\n",
       " '[1903  106  106  106   21   22   21  229   22   21]',\n",
       " '[9894   76   30 4616   22 9894   75   77    1  103]',\n",
       " '[106  22  37 105  75  22  37 102 113  39]',\n",
       " '[ 77  99 103 106  22 102  39  22 103  39]',\n",
       " '[  21   23   21 9901  102 9894 9894   30   76  105]',\n",
       " '[ 102 9894   99 9895   45   29 9894 9894   99   99]',\n",
       " '[  22   23   45   21   23   22 4804 4804   63 4804]',\n",
       " '[270 167 167 167 360 363 364 362 362 167]',\n",
       " '[364 360 363 167 360 362 364 363   3 384]',\n",
       " '[167 363 167 167 167 167 363 167 363 167]',\n",
       " '[37616 20058    21    23     3 20058 20058     3     3     4]',\n",
       " '[360 364 362 384 363 167 360 362 364 167]',\n",
       " '[363 167 363 363 167 167 363 362 360 167]',\n",
       " '[364 363 363 167 362 363 360 364 362 363]',\n",
       " '[  22 9894   75   99 4616  103   37  106   22  105]',\n",
       " '[2428 2428 2428 2428 2428 2428   21   38 2428 2428]',\n",
       " '[ 106   75   39  103 9894   77   75   39  113  102]',\n",
       " '[364 167 360 167 362 360 364 363 362 167]',\n",
       " '[  37  102   22 9894 9895 9894   76  879   80   76]',\n",
       " '[784   0   0   0   0   0   0   0   0   0]',\n",
       " '[360 363 363 363 167 360 364 362 270 270]',\n",
       " '[ 270  270  270  270  270  270  270  167 1548  167]',\n",
       " '[56 55 55  0  0  0  0  0  0  0]',\n",
       " '[1548 1548 1548  270  270  270  270  270  270  270]',\n",
       " '[ 39 102  80 879  77 879  80  80 879 879]',\n",
       " '[  568 18598 18598    32    35    29 18598 18598 18598    30]',\n",
       " '[ 77 879  80  77  80 879 879  75  77  77]',\n",
       " '[20058     5     6 20058     5     7 20058     8     5     7]',\n",
       " '[ 2155    22    39    37  2155    37    39    33    29 18598]',\n",
       " ...]"
      ]
     },
     "execution_count": 20,
     "metadata": {},
     "output_type": "execute_result"
    }
   ],
   "source": [
    "full_sites_str = [\"\".join(str(sites)) for sites in df[sites].values]\n",
    "full_sites_str"
   ]
  },
  {
   "cell_type": "code",
   "execution_count": 21,
   "metadata": {},
   "outputs": [],
   "source": [
    "tfidf = v.fit_transform(full_sites_str)"
   ]
  },
  {
   "cell_type": "code",
   "execution_count": 22,
   "metadata": {},
   "outputs": [
    {
     "data": {
      "text/plain": [
       "<336358x200000 sparse matrix of type '<class 'numpy.float64'>'\n",
       "\twith 6263850 stored elements in Compressed Sparse Row format>"
      ]
     },
     "execution_count": 22,
     "metadata": {},
     "output_type": "execute_result"
    }
   ],
   "source": [
    "tfidf"
   ]
  },
  {
   "cell_type": "code",
   "execution_count": 61,
   "metadata": {},
   "outputs": [],
   "source": [
    "start = train_df['YearMonth'].values\n",
    "startday = train_df['YearDay'].values\n",
    "y_tr = train_df['target'].astype('int').values"
   ]
  },
  {
   "cell_type": "code",
   "execution_count": 62,
   "metadata": {},
   "outputs": [
    {
     "data": {
      "image/png": "[encoded data removed]",
      "text/plain": [
       "<Figure size 1440x432 with 2 Axes>"
      ]
     },
     "metadata": {
      "needs_background": "light"
     },
     "output_type": "display_data"
    }
   ],
   "source": [
    "plt.subplots(1, 2, figsize = (20, 6)) \n",
    "\n",
    "plt.subplot(1, 2, 1)\n",
    "chart = sns.countplot(startday[y_tr == 1])\n",
    "chart.set_xticklabels(chart.get_xticklabels(), rotation=45)\n",
    "plt.title(\"Alice\")\n",
    "plt.xlabel('Session start')\n",
    "          \n",
    "plt.subplot(1, 2, 2)\n",
    "chart = sns.countplot(startday[y_tr == 0])\n",
    "chart.set_xticklabels(chart.get_xticklabels(), rotation=45)\n",
    "plt.title('Others')\n",
    "plt.xlabel('Session start');"
   ]
  },
  {
   "cell_type": "code",
   "execution_count": 60,
   "metadata": {},
   "outputs": [
    {
     "data": {
      "image/png": "[encoded data removed]",
      "text/plain": [
       "<Figure size 1440x432 with 2 Axes>"
      ]
     },
     "metadata": {
      "needs_background": "light"
     },
     "output_type": "display_data"
    }
   ],
   "source": [
    "plt.subplots(1, 2, figsize = (20, 6)) \n",
    "\n",
    "plt.subplot(1, 2, 1)\n",
    "chart = sns.countplot(start[y_tr == 1])\n",
    "chart.set_xticklabels(chart.get_xticklabels(), rotation=45)\n",
    "plt.title(\"Alice\")\n",
    "plt.xlabel('Session start')\n",
    "          \n",
    "plt.subplot(1, 2, 2)\n",
    "chart = sns.countplot(start[y_tr == 0])\n",
    "chart.set_xticklabels(chart.get_xticklabels(), rotation=45)\n",
    "plt.title('Others')\n",
    "plt.xlabel('Session start');"
   ]
  },
  {
   "cell_type": "markdown",
   "metadata": {},
   "source": [
    "### Features"
   ]
  },
  {
   "cell_type": "code",
   "execution_count": 23,
   "metadata": {},
   "outputs": [],
   "source": [
    "hosts = pd.read_pickle('../site_dic.pkl')\n",
    "hosts = pd.DataFrame(data=list(hosts.keys()), index=list(hosts.values()), columns=['name']) # switch key and value\n",
    "\n",
    "hosts['split'] = hosts['name'].str.split('.')\n",
    "hosts['len'] = hosts['split'].map(lambda x: len(x)).astype(np.int8)\n",
    "hosts['domain'] = hosts['split'].map(lambda x: x[-1])\n",
    "\n",
    "hosts.drop(['name','split'], inplace=True, axis=1)\n",
    "hosts.index.rename('site1', inplace=True) # rename index for the future merge\n",
    "df = pd.merge(df, hosts, how='left', on='site1')"
   ]
  },
  {
   "cell_type": "code",
   "execution_count": 24,
   "metadata": {},
   "outputs": [],
   "source": [
    "df['min'] = df[times].min(axis=1)\n",
    "df['max'] = df[times].max(axis=1)\n",
    "df['seconds'] = ((df['max'] - df['min']) / np.timedelta64(1, 'ms'))\n",
    "df['minutes'] = ((df['max'] - df['min']) / np.timedelta64(1, 'm')).round(2)\n",
    "df['short'] = df['minutes'].map(lambda x: x < 0.8).astype(np.int8)\n",
    "df['long'] = df['minutes'].map(lambda x: x >= 0.8).astype(np.int8)\n",
    "df.drop(['min','max','minutes'], inplace=True, axis=1)"
   ]
  },
  {
   "cell_type": "code",
   "execution_count": 25,
   "metadata": {},
   "outputs": [],
   "source": [
    "df['big_site'] = df['len'].apply(lambda x: x > 5).astype(np.int8)\n",
    "df['typical_site'] = df['len'].apply(lambda x: x == 3).astype(np.int8)\n",
    "df['typical_domain'] = df['domain'].map(lambda x: x in ('com', 'fr', 'net', 'uk', 'org', 'tv')).astype(np.int)"
   ]
  },
  {
   "cell_type": "code",
   "execution_count": 26,
   "metadata": {},
   "outputs": [],
   "source": [
    "df['YearMonth'] = df['time1'].apply(lambda x:x.strftime('%Y%m')).astype('int64')\n",
    "#df['Year'] = df['time1'].apply(lambda x:x.strftime('%Y')).astype('int64')\n",
    "df['Month'] = df.time1.dt.strftime('%m').astype('int64')\n",
    "df['YearDay'] = df['time1'].apply(lambda x:x.strftime('%j')).astype('int64')\n",
    "df['is_weekend'] = df['time1'].apply(lambda x: 1 if x.date().weekday() in (5,6) else 0)\n",
    "df['wed'] = df['time1'].apply(lambda x: 1 if x.date().weekday() in [2] else 0)\n",
    "df['Hour'] = df.time1.apply(lambda x:x.strftime('%H')).astype('int64')\n",
    "#df['Week'] = df['time1'].dt.strftime('%W').astype('int64')\n",
    "df['Day_of_week'] = df['time1'].dt.strftime('%w').astype('int64')"
   ]
  },
  {
   "cell_type": "code",
   "execution_count": 27,
   "metadata": {},
   "outputs": [],
   "source": [
    "df['Day'] = df.Hour.apply(lambda x:1 if x in range(12,18) else 0)\n",
    "df['Eve'] = df.Hour.apply(lambda x:1 if x in range(18,22) else 0)\n",
    "df['Night'] = df.Hour.apply(lambda x:1 if x in range(22,7) else 0)\n",
    "df['Morning'] = df.Hour.apply(lambda x:1 if x in range(7,12) else 0)"
   ]
  },
  {
   "cell_type": "code",
   "execution_count": 28,
   "metadata": {},
   "outputs": [],
   "source": [
    "df['is_summer'] = df['Month'].apply(lambda x: 1 if x in (6, 7, 8) else 0)"
   ]
  },
  {
   "cell_type": "code",
   "execution_count": 29,
   "metadata": {},
   "outputs": [],
   "source": [
    "enc = OneHotEncoder()"
   ]
  },
  {
   "cell_type": "code",
   "execution_count": 30,
   "metadata": {},
   "outputs": [],
   "source": [
    "#y = enc.fit_transform(df[['Year']].as_matrix())\n",
    "#m = enc.fit_transform(df[['Month']].as_matrix())\n",
    "hour = enc.fit_transform(df[['Hour']].as_matrix())\n",
    "dayweek = enc.fit_transform(df[['Day_of_week']].as_matrix())\n",
    "yday = enc.fit_transform(df[['YearDay']].as_matrix())\n",
    "ym = enc.fit_transform(df[['YearMonth']].as_matrix())\n",
    "#minutes = enc.fit_transform(df[['minutes']].as_matrix())\n",
    "seconds = enc.fit_transform(df[['seconds']].as_matrix())"
   ]
  },
  {
   "cell_type": "code",
   "execution_count": 31,
   "metadata": {},
   "outputs": [],
   "source": [
    "features_to_scale = [\n",
    "    'seconds',\n",
    "    'len'\n",
    "]\n",
    "df[features_to_scale] = StandardScaler().fit_transform(df[features_to_scale])"
   ]
  },
  {
   "cell_type": "code",
   "execution_count": 41,
   "metadata": {},
   "outputs": [],
   "source": [
    "df2 = df.drop((df[times]),axis=1).drop((df[sites]),axis=1)"
   ]
  },
  {
   "cell_type": "code",
   "execution_count": 252,
   "metadata": {},
   "outputs": [],
   "source": [
    "df2 = pd.get_dummies(df2, columns=[\n",
    "    'YearMonth',\n",
    "    'YearDay',\n",
    "    'Hour',\n",
    "    'Day_of_week',\n",
    "    \n",
    "])"
   ]
  },
  {
   "cell_type": "code",
   "execution_count": 32,
   "metadata": {},
   "outputs": [],
   "source": [
    "full_feat = sp.sparse.hstack([tfidf, \n",
    "                              dayweek, \n",
    "                              hour,  \n",
    "                              yday, \n",
    "                              ym,\n",
    "                              df.len.values.reshape(-1, 1), \n",
    "                              df.seconds.values.reshape(-1, 1), \n",
    "                              df.short.values.reshape(-1, 1),\n",
    "                              df.long.values.reshape(-1, 1),\n",
    "                              df.big_site.values.reshape(-1, 1),\n",
    "                              df.typical_site.values.reshape(-1, 1),\n",
    "                              df.typical_domain.values.reshape(-1, 1),\n",
    "                              df.is_summer.values.reshape(-1, 1), \n",
    "                              df.wed.values.reshape(-1, 1),\n",
    "                              df.is_weekend.values.reshape(-1, 1), \n",
    "                              df.Night.values.reshape(-1, 1), \n",
    "                              df.Day.values.reshape(-1, 1), \n",
    "                              df.Morning.values.reshape(-1, 1), \n",
    "                              df.Eve.values.reshape(-1, 1)]).tocsr()"
   ]
  },
  {
   "cell_type": "code",
   "execution_count": 33,
   "metadata": {},
   "outputs": [],
   "source": [
    "Xfull_train = full_feat[:idx_split, :]\n",
    "Xfull_test = full_feat[idx_split:, :]"
   ]
  },
  {
   "cell_type": "code",
   "execution_count": 34,
   "metadata": {},
   "outputs": [],
   "source": [
    "# time awared CrossValidation\n",
    "time_split = TimeSeriesSplit(n_splits=10)"
   ]
  },
  {
   "cell_type": "code",
   "execution_count": 68,
   "metadata": {},
   "outputs": [
    {
     "data": {
      "text/plain": [
       "[((23051,), (23051,)),\n",
       " ((46102,), (23051,)),\n",
       " ((69153,), (23051,)),\n",
       " ((92204,), (23051,)),\n",
       " ((115255,), (23051,)),\n",
       " ((138306,), (23051,)),\n",
       " ((161357,), (23051,)),\n",
       " ((184408,), (23051,)),\n",
       " ((207459,), (23051,)),\n",
       " ((230510,), (23051,))]"
      ]
     },
     "execution_count": 68,
     "metadata": {},
     "output_type": "execute_result"
    }
   ],
   "source": [
    "[(el[0].shape, el[1].shape) for el in time_split.split(X_train)]"
   ]
  },
  {
   "cell_type": "code",
   "execution_count": 35,
   "metadata": {},
   "outputs": [],
   "source": [
    "logit = LogisticRegression(solver='liblinear', C=3, penalty='l2', random_state=17)\n",
    "skf = StratifiedKFold(n_splits=3, shuffle=True, random_state=17)"
   ]
  },
  {
   "cell_type": "code",
   "execution_count": 183,
   "metadata": {},
   "outputs": [
    {
     "name": "stdout",
     "output_type": "stream",
     "text": [
      "Fitting 10 folds for each of 14 candidates, totalling 140 fits\n"
     ]
    },
    {
     "name": "stderr",
     "output_type": "stream",
     "text": [
      "[Parallel(n_jobs=-1)]: Using backend LokyBackend with 8 concurrent workers.\n",
      "[Parallel(n_jobs=-1)]: Done  25 tasks      | elapsed:  1.8min\n",
      "[Parallel(n_jobs=-1)]: Done 140 out of 140 | elapsed: 85.3min finished\n"
     ]
    },
    {
     "name": "stdout",
     "output_type": "stream",
     "text": [
      "Best score: 0.9892714401527798 with parameters:{'C': 2, 'penalty': 'l2'}\n"
     ]
    }
   ],
   "source": [
    "gs.fit(Xfull_train, y_train)\n",
    "print (\"Best score: {} with parameters:{}\".format(gs.best_score_, gs.best_params_))"
   ]
  },
  {
   "cell_type": "code",
   "execution_count": null,
   "metadata": {},
   "outputs": [],
   "source": []
  },
  {
   "cell_type": "code",
   "execution_count": 96,
   "metadata": {},
   "outputs": [
    {
     "data": {
      "text/plain": [
       "(array([0.83951684, 0.90461187, 0.97434612, 0.87024725, 0.98038488,\n",
       "        0.97778977, 0.93966923, 0.97075127, 0.90844348, 0.98867995]),\n",
       " 0.9354440650203086)"
      ]
     },
     "execution_count": 96,
     "metadata": {},
     "output_type": "execute_result"
    }
   ],
   "source": [
    "cv_scores, cv_scores.mean() #filtered before 201309"
   ]
  },
  {
   "cell_type": "code",
   "execution_count": 36,
   "metadata": {},
   "outputs": [
    {
     "name": "stdout",
     "output_type": "stream",
     "text": [
      "CPU times: user 85.8 ms, sys: 277 ms, total: 363 ms\n",
      "Wall time: 28.6 s\n"
     ]
    }
   ],
   "source": [
    "%%time\n",
    "\n",
    "cv_scores = cross_val_score(logit, Xfull_train, y_train, cv=time_split, \n",
    "                            scoring='roc_auc', n_jobs=-1)"
   ]
  },
  {
   "cell_type": "code",
   "execution_count": 37,
   "metadata": {},
   "outputs": [
    {
     "data": {
      "text/plain": [
       "(array([0.65619797, 0.91849064, 0.91943425, 0.9631475 , 0.92552348,\n",
       "        0.98815856, 0.85924028, 0.97075056, 0.90752106, 0.98821281]),\n",
       " 0.909667710222412)"
      ]
     },
     "execution_count": 37,
     "metadata": {},
     "output_type": "execute_result"
    }
   ],
   "source": [
    "cv_scores, cv_scores.mean() #re.subbed before tfidf"
   ]
  },
  {
   "cell_type": "code",
   "execution_count": 125,
   "metadata": {},
   "outputs": [
    {
     "data": {
      "text/plain": [
       "(array([0.66245696, 0.92109938, 0.9185069 , 0.96288915, 0.92456796,\n",
       "        0.98849293, 0.84760668, 0.97073344, 0.90181303, 0.98815962]),\n",
       " 0.9086326056709637)"
      ]
     },
     "execution_count": 125,
     "metadata": {},
     "output_type": "execute_result"
    }
   ],
   "source": [
    "cv_scores, cv_scores.mean() #non-scaled seconds"
   ]
  },
  {
   "cell_type": "code",
   "execution_count": 111,
   "metadata": {},
   "outputs": [
    {
     "data": {
      "text/plain": [
       "(array([0.66121187, 0.92082594, 0.9181302 , 0.96281099, 0.9233667 ,\n",
       "        0.98848816, 0.84856703, 0.97079608, 0.90145347, 0.988205  ]),\n",
       " 0.9083855441083495)"
      ]
     },
     "execution_count": 111,
     "metadata": {},
     "output_type": "execute_result"
    }
   ],
   "source": [
    "cv_scores, cv_scores.mean() #scaled seconds"
   ]
  },
  {
   "cell_type": "code",
   "execution_count": 105,
   "metadata": {},
   "outputs": [
    {
     "data": {
      "text/plain": [
       "(array([0.82412613, 0.92726735, 0.85853037, 0.97394599, 0.88941095,\n",
       "        0.97831934, 0.92555755, 0.96752022, 0.86310368, 0.97495831]),\n",
       " 0.91827398723559)"
      ]
     },
     "execution_count": 105,
     "metadata": {},
     "output_type": "execute_result"
    }
   ],
   "source": [
    "cv_scores, cv_scores.mean() #scaled seconds, no hour"
   ]
  },
  {
   "cell_type": "code",
   "execution_count": 89,
   "metadata": {},
   "outputs": [
    {
     "data": {
      "text/plain": [
       "(array([0.66119634, 0.91968635, 0.91843372, 0.96233555, 0.92398284,\n",
       "        0.98845224, 0.84687315, 0.97075698, 0.90374204, 0.9881804 ]),\n",
       " 0.9083639597481854)"
      ]
     },
     "execution_count": 89,
     "metadata": {},
     "output_type": "execute_result"
    }
   ],
   "source": [
    "cv_scores, cv_scores.mean() #scaled seconds, len"
   ]
  },
  {
   "cell_type": "code",
   "execution_count": 75,
   "metadata": {},
   "outputs": [
    {
     "data": {
      "text/plain": [
       "(array([0.66335313, 0.92084987, 0.91810341, 0.96303895, 0.9237434 ,\n",
       "        0.98860799, 0.84574872, 0.97086346, 0.90307004, 0.9881523 ]),\n",
       " 0.9085531283800548)"
      ]
     },
     "execution_count": 75,
     "metadata": {},
     "output_type": "execute_result"
    }
   ],
   "source": [
    "cv_scores, cv_scores.mean() #no year,month,week,minutes! "
   ]
  },
  {
   "cell_type": "code",
   "execution_count": 64,
   "metadata": {},
   "outputs": [
    {
     "data": {
      "text/plain": [
       "(array([0.66394246, 0.92082324, 0.9185193 , 0.96294777, 0.9234184 ,\n",
       "        0.98837662, 0.84799597, 0.97075293, 0.9023328 , 0.98812305]),\n",
       " 0.9087232538109357)"
      ]
     },
     "execution_count": 64,
     "metadata": {},
     "output_type": "execute_result"
    }
   ],
   "source": [
    "cv_scores, cv_scores.mean() #no year,month,week,seconds "
   ]
  },
  {
   "cell_type": "code",
   "execution_count": null,
   "metadata": {},
   "outputs": [],
   "source": []
  },
  {
   "cell_type": "code",
   "execution_count": 52,
   "metadata": {},
   "outputs": [
    {
     "data": {
      "text/plain": [
       "(array([0.59657963, 0.90663818, 0.94750824, 0.96479962, 0.92082593,\n",
       "        0.98769105, 0.87526945, 0.96966443, 0.90977339, 0.98580023]),\n",
       " 0.906455014014903)"
      ]
     },
     "execution_count": 52,
     "metadata": {},
     "output_type": "execute_result"
    }
   ],
   "source": [
    "cv_scores, cv_scores.mean() #l1, C=0.8"
   ]
  },
  {
   "cell_type": "code",
   "execution_count": null,
   "metadata": {},
   "outputs": [],
   "source": []
  },
  {
   "cell_type": "code",
   "execution_count": 271,
   "metadata": {},
   "outputs": [
    {
     "data": {
      "text/plain": [
       "(array([0.97653087, 0.98723273, 0.99301728, 0.98982007, 0.9899048 ,\n",
       "        0.99360401, 0.99564778, 0.99205173, 0.99457847, 0.99489982]),\n",
       " 0.9907287557701823)"
      ]
     },
     "execution_count": 271,
     "metadata": {},
     "output_type": "execute_result"
    }
   ],
   "source": [
    "cv_scores, cv_scores.mean() #scaled time"
   ]
  },
  {
   "cell_type": "code",
   "execution_count": null,
   "metadata": {},
   "outputs": [],
   "source": []
  },
  {
   "cell_type": "code",
   "execution_count": 192,
   "metadata": {},
   "outputs": [
    {
     "data": {
      "text/plain": [
       "(array([0.97258382, 0.98509037, 0.99161163, 0.98822719, 0.98907642,\n",
       "        0.99260508, 0.99505166, 0.99020681, 0.99374311, 0.99451831]),\n",
       " 0.9892714401527799)"
      ]
     },
     "execution_count": 192,
     "metadata": {},
     "output_type": "execute_result"
    }
   ],
   "source": [
    "cv_scores, cv_scores.mean() #1_6,200,0.5"
   ]
  },
  {
   "cell_type": "code",
   "execution_count": 184,
   "metadata": {},
   "outputs": [
    {
     "data": {
      "text/plain": [
       "(array([0.96905303, 0.98191939, 0.98930066, 0.98586008, 0.9869188 ,\n",
       "        0.99060001, 0.9939693 , 0.98757212, 0.99190825, 0.99297677]),\n",
       " 0.9870078401640441)"
      ]
     },
     "execution_count": 184,
     "metadata": {},
     "output_type": "execute_result"
    }
   ],
   "source": [
    "cv_scores, cv_scores.mean() #full feats"
   ]
  },
  {
   "cell_type": "code",
   "execution_count": 154,
   "metadata": {},
   "outputs": [
    {
     "data": {
      "text/plain": [
       "(array([0.97244121, 0.98318629, 0.99072124, 0.98758835, 0.98762581,\n",
       "        0.99160042, 0.99454238, 0.98961223, 0.99281046, 0.99352965]),\n",
       " 0.9883658053536163)"
      ]
     },
     "execution_count": 154,
     "metadata": {},
     "output_type": "execute_result"
    }
   ],
   "source": [
    "cv_scores, cv_scores.mean() #sites, domains"
   ]
  },
  {
   "cell_type": "code",
   "execution_count": 161,
   "metadata": {},
   "outputs": [
    {
     "data": {
      "text/plain": [
       "(array([0.97278203, 0.98320774, 0.99081139, 0.98753984, 0.98766544,\n",
       "        0.99162975, 0.99453567, 0.98962383, 0.99279336, 0.99351297]),\n",
       " 0.9884102026561769)"
      ]
     },
     "execution_count": 161,
     "metadata": {},
     "output_type": "execute_result"
    }
   ],
   "source": [
    "cv_scores, cv_scores.mean() #is_summer"
   ]
  },
  {
   "cell_type": "code",
   "execution_count": 133,
   "metadata": {},
   "outputs": [
    {
     "data": {
      "text/plain": [
       "(array([0.97018668, 0.98189204, 0.98937879, 0.98634756, 0.98705788,\n",
       "        0.99074663, 0.99401862, 0.98783771, 0.99200975, 0.99305954]),\n",
       " 0.9872535191090283)"
      ]
     },
     "execution_count": 133,
     "metadata": {},
     "output_type": "execute_result"
    }
   ],
   "source": [
    "cv_scores, cv_scores.mean() #min, sec"
   ]
  },
  {
   "cell_type": "code",
   "execution_count": 129,
   "metadata": {},
   "outputs": [
    {
     "data": {
      "text/plain": [
       "(array([0.970235  , 0.98214258, 0.98952011, 0.98585814, 0.98697805,\n",
       "        0.9906729 , 0.99398538, 0.98772691, 0.99196866, 0.99300294]),\n",
       " 0.9872090661302584)"
      ]
     },
     "execution_count": 129,
     "metadata": {},
     "output_type": "execute_result"
    }
   ],
   "source": [
    "cv_scores, cv_scores.mean() #long_short, min, sec"
   ]
  },
  {
   "cell_type": "code",
   "execution_count": null,
   "metadata": {},
   "outputs": [],
   "source": []
  },
  {
   "cell_type": "code",
   "execution_count": 120,
   "metadata": {},
   "outputs": [
    {
     "data": {
      "text/plain": [
       "(array([0.97277574, 0.98319176, 0.99080751, 0.98754502, 0.98766754,\n",
       "        0.99162847, 0.99453299, 0.98962283, 0.99279181, 0.99351259]),\n",
       " 0.9884076262698758)"
      ]
     },
     "execution_count": 120,
     "metadata": {},
     "output_type": "execute_result"
    }
   ],
   "source": [
    "cv_scores, cv_scores.mean() #is_wed"
   ]
  },
  {
   "cell_type": "code",
   "execution_count": 107,
   "metadata": {},
   "outputs": [
    {
     "data": {
      "text/plain": [
       "(array([0.97264472, 0.98322327, 0.99080557, 0.98752216, 0.98761076,\n",
       "        0.99163293, 0.9945405 , 0.98961783, 0.99279158, 0.99351356]),\n",
       " 0.9883902894300608)"
      ]
     },
     "execution_count": 107,
     "metadata": {},
     "output_type": "execute_result"
    }
   ],
   "source": [
    "cv_scores, cv_scores.mean() # is_weekend sat,sun"
   ]
  },
  {
   "cell_type": "code",
   "execution_count": 85,
   "metadata": {},
   "outputs": [
    {
     "data": {
      "text/plain": [
       "(array([0.97252018, 0.98314538, 0.99080092, 0.98750448, 0.98774717,\n",
       "        0.9916306 , 0.99454157, 0.98961363, 0.99279292, 0.99350561]),\n",
       " 0.9883802454960092)"
      ]
     },
     "execution_count": 85,
     "metadata": {},
     "output_type": "execute_result"
    }
   ],
   "source": [
    "cv_scores, cv_scores.mean() # with yyyymm, yday"
   ]
  },
  {
   "cell_type": "code",
   "execution_count": 73,
   "metadata": {},
   "outputs": [
    {
     "data": {
      "text/plain": [
       "(array([0.97217268, 0.98301847, 0.99071582, 0.98740789, 0.98762562,\n",
       "        0.99157705, 0.99452978, 0.98956863, 0.99274938, 0.99346781]),\n",
       " 0.9882833125429311)"
      ]
     },
     "execution_count": 73,
     "metadata": {},
     "output_type": "execute_result"
    }
   ],
   "source": [
    "# without yyyymm, with yday"
   ]
  },
  {
   "cell_type": "code",
   "execution_count": 39,
   "metadata": {},
   "outputs": [
    {
     "data": {
      "text/plain": [
       "LogisticRegression(C=3, class_weight=None, dual=False, fit_intercept=True,\n",
       "                   intercept_scaling=1, l1_ratio=None, max_iter=100,\n",
       "                   multi_class='warn', n_jobs=None, penalty='l2',\n",
       "                   random_state=17, solver='liblinear', tol=0.0001, verbose=0,\n",
       "                   warm_start=False)"
      ]
     },
     "execution_count": 39,
     "metadata": {},
     "output_type": "execute_result"
    }
   ],
   "source": [
    "logit.fit(Xfull_train, y_train)"
   ]
  },
  {
   "cell_type": "code",
   "execution_count": 40,
   "metadata": {},
   "outputs": [],
   "source": [
    "logit_test_pred = logit.predict_proba(Xfull_test)[:, 1]\n",
    "write_to_submission_file(logit_test_pred, 'subm18_resub.csv') #0.95063"
   ]
  },
  {
   "cell_type": "code",
   "execution_count": 98,
   "metadata": {},
   "outputs": [],
   "source": [
    "logit_test_pred = logit.predict_proba(Xfull_test)[:, 1]\n",
    "write_to_submission_file(logit_test_pred, 'subm17_filtered_bef_1309_C_3_len_scaled.csv') #0.95063"
   ]
  },
  {
   "cell_type": "code",
   "execution_count": 68,
   "metadata": {},
   "outputs": [],
   "source": [
    "logit_test_pred = logit.predict_proba(Xfull_test)[:, 1]\n",
    "write_to_submission_file(logit_test_pred, 'subm16_C_3_len_scaled.csv') #0.95661"
   ]
  },
  {
   "cell_type": "code",
   "execution_count": 51,
   "metadata": {},
   "outputs": [],
   "source": [
    "logit_test_pred = logit.predict_proba(Xfull_test)[:, 1]\n",
    "write_to_submission_file(logit_test_pred, 'subm15_tfidf_yorko.csv') #0.95277"
   ]
  },
  {
   "cell_type": "code",
   "execution_count": 174,
   "metadata": {},
   "outputs": [],
   "source": [
    "logit_test_pred = logit.predict_proba(Xfull_test)[:, 1]\n",
    "write_to_submission_file(logit_test_pred, 'subm14_no_night.csv') #0.95184"
   ]
  },
  {
   "cell_type": "code",
   "execution_count": 167,
   "metadata": {},
   "outputs": [],
   "source": [
    "logit_test_pred = logit.predict_proba(Xfull_test)[:, 1]\n",
    "write_to_submission_file(logit_test_pred, 'subm13_GENERAL.csv') #0.95202"
   ]
  },
  {
   "cell_type": "code",
   "execution_count": 113,
   "metadata": {},
   "outputs": [],
   "source": [
    "logit_test_pred = logit.predict_proba(Xfull_test)[:, 1]\n",
    "write_to_submission_file(logit_test_pred, 'subm12_scaled_seconds.csv') #0.95590"
   ]
  },
  {
   "cell_type": "code",
   "execution_count": 104,
   "metadata": {},
   "outputs": [],
   "source": [
    "logit_test_pred = logit.predict_proba(Xfull_test)[:, 1]\n",
    "write_to_submission_file(logit_test_pred, 'subm11_scaled_seconds_no_hour.csv') #0.95176"
   ]
  },
  {
   "cell_type": "code",
   "execution_count": 91,
   "metadata": {},
   "outputs": [],
   "source": [
    "logit_test_pred = logit.predict_proba(Xfull_test)[:, 1]\n",
    "write_to_submission_file(logit_test_pred, 'subm10_scaled_seconds_len.csv') #0.0.95611"
   ]
  },
  {
   "cell_type": "code",
   "execution_count": 77,
   "metadata": {},
   "outputs": [],
   "source": [
    "logit_test_pred = logit.predict_proba(Xfull_test)[:, 1]\n",
    "write_to_submission_file(logit_test_pred, 'subm9_no_year_month_week_minutes!.csv') #0.95617"
   ]
  },
  {
   "cell_type": "code",
   "execution_count": 66,
   "metadata": {},
   "outputs": [],
   "source": [
    "logit_test_pred = logit.predict_proba(Xfull_test)[:, 1]\n",
    "write_to_submission_file(logit_test_pred, 'subm8_no_year_month_week_seconds.csv') #0.95609"
   ]
  },
  {
   "cell_type": "code",
   "execution_count": 55,
   "metadata": {},
   "outputs": [],
   "source": [
    "logit_test_pred = logit.predict_proba(Xfull_test)[:, 1]\n",
    "write_to_submission_file(logit_test_pred, 'subm7_L1_C08.csv') #0.93954 L1 with C 0.8"
   ]
  },
  {
   "cell_type": "code",
   "execution_count": 273,
   "metadata": {},
   "outputs": [],
   "source": [
    "logit_test_pred = logit.predict_proba(Xfull_test)[:, 1]\n",
    "write_to_submission_file(logit_test_pred, 'subm6_scaled.csv') #0.95461 scaled time"
   ]
  },
  {
   "cell_type": "code",
   "execution_count": 156,
   "metadata": {},
   "outputs": [],
   "source": [
    "logit_test_pred = logit.predict_proba(Xfull_test)[:, 1]\n",
    "write_to_submission_file(logit_test_pred, 'subm3.csv') # 0.95217 с сайтмаи,доменом"
   ]
  },
  {
   "cell_type": "code",
   "execution_count": 75,
   "metadata": {},
   "outputs": [],
   "source": [
    "logit_test_pred = logit.predict_proba(Xfull_test)[:, 1]\n",
    "write_to_submission_file(logit_test_pred, 'subm1.csv') # 0.94712"
   ]
  },
  {
   "cell_type": "code",
   "execution_count": 79,
   "metadata": {},
   "outputs": [],
   "source": [
    "logit.fit(Xfull_train, y_train)\n",
    "logit_test_pred = logit.predict_proba(Xfull_test)[:, 1]\n",
    "write_to_submission_file(logit_test_pred, 'subm2_no_days.csv') #0.94634"
   ]
  },
  {
   "cell_type": "code",
   "execution_count": 27,
   "metadata": {},
   "outputs": [],
   "source": [
    "# feature selection"
   ]
  },
  {
   "cell_type": "code",
   "execution_count": 42,
   "metadata": {},
   "outputs": [
    {
     "data": {
      "text/plain": [
       "<matplotlib.axes._subplots.AxesSubplot at 0x7f5c75d1a400>"
      ]
     },
     "execution_count": 42,
     "metadata": {},
     "output_type": "execute_result"
    },
    {
     "data": {
      "image/png": "[encoded data removed]",
      "text/plain": [
       "<Figure size 720x576 with 2 Axes>"
      ]
     },
     "metadata": {
      "needs_background": "light"
     },
     "output_type": "display_data"
    }
   ],
   "source": [
    "import seaborn as sns\n",
    "\n",
    "f, ax = plt.subplots(figsize=(10, 8))\n",
    "corr = df2.corr()\n",
    "sns.heatmap(corr, mask=np.zeros_like(corr, dtype=np.bool), cmap=sns.diverging_palette(220, 10, as_cmap=True),\n",
    "            square=True, ax=ax)"
   ]
  },
  {
   "cell_type": "code",
   "execution_count": null,
   "metadata": {},
   "outputs": [],
   "source": [
    "# night вообще useless, week сильная корреляция с month, yearday"
   ]
  },
  {
   "cell_type": "code",
   "execution_count": 48,
   "metadata": {},
   "outputs": [],
   "source": [
    "df2.drop(['Week','Month','Year'], axis=1, inplace=True)"
   ]
  },
  {
   "cell_type": "code",
   "execution_count": 176,
   "metadata": {},
   "outputs": [
    {
     "data": {
      "text/plain": [
       "<matplotlib.axes._subplots.AxesSubplot at 0x7f5c93764d30>"
      ]
     },
     "execution_count": 176,
     "metadata": {},
     "output_type": "execute_result"
    },
    {
     "data": {
      "image/png": "[encoded data removed]",
      "text/plain": [
       "<Figure size 720x576 with 2 Axes>"
      ]
     },
     "metadata": {
      "needs_background": "light"
     },
     "output_type": "display_data"
    }
   ],
   "source": [
    "f, ax = plt.subplots(figsize=(10, 8))\n",
    "corr = df2.drop('Night',axis=1).corr()\n",
    "sns.heatmap(corr, mask=np.zeros_like(corr, dtype=np.bool), cmap=sns.diverging_palette(220, 10, as_cmap=True),\n",
    "            square=True, ax=ax)"
   ]
  },
  {
   "cell_type": "code",
   "execution_count": 43,
   "metadata": {},
   "outputs": [
    {
     "ename": "IndexError",
     "evalue": "boolean index did not match indexed array along dimension 0; dimension is 22 but corresponding boolean dimension is 21",
     "output_type": "error",
     "traceback": [
      "\u001b[0;31m---------------------------------------------------------------------------\u001b[0m",
      "\u001b[0;31mIndexError\u001b[0m                                Traceback (most recent call last)",
      "\u001b[0;32m<ipython-input-43-6a1f19cca2e3>\u001b[0m in \u001b[0;36m<module>\u001b[0;34m\u001b[0m\n\u001b[1;32m      5\u001b[0m             \u001b[0;32mif\u001b[0m \u001b[0mcolumns\u001b[0m\u001b[0;34m[\u001b[0m\u001b[0mj\u001b[0m\u001b[0;34m]\u001b[0m\u001b[0;34m:\u001b[0m\u001b[0;34m\u001b[0m\u001b[0;34m\u001b[0m\u001b[0m\n\u001b[1;32m      6\u001b[0m                 \u001b[0mcolumns\u001b[0m\u001b[0;34m[\u001b[0m\u001b[0mj\u001b[0m\u001b[0;34m]\u001b[0m \u001b[0;34m=\u001b[0m \u001b[0;32mFalse\u001b[0m\u001b[0;34m\u001b[0m\u001b[0;34m\u001b[0m\u001b[0m\n\u001b[0;32m----> 7\u001b[0;31m \u001b[0mselected_columns\u001b[0m \u001b[0;34m=\u001b[0m \u001b[0mdf2\u001b[0m\u001b[0;34m.\u001b[0m\u001b[0mcolumns\u001b[0m\u001b[0;34m[\u001b[0m\u001b[0mcolumns\u001b[0m\u001b[0;34m]\u001b[0m\u001b[0;34m\u001b[0m\u001b[0;34m\u001b[0m\u001b[0m\n\u001b[0m\u001b[1;32m      8\u001b[0m \u001b[0mdf2\u001b[0m \u001b[0;34m=\u001b[0m \u001b[0mdf2\u001b[0m\u001b[0;34m[\u001b[0m\u001b[0mselected_columns\u001b[0m\u001b[0;34m]\u001b[0m\u001b[0;34m\u001b[0m\u001b[0;34m\u001b[0m\u001b[0m\n",
      "\u001b[0;32m~/anaconda3/lib/python3.7/site-packages/pandas/core/indexes/base.py\u001b[0m in \u001b[0;36m__getitem__\u001b[0;34m(self, key)\u001b[0m\n\u001b[1;32m   2093\u001b[0m \u001b[0;34m\u001b[0m\u001b[0m\n\u001b[1;32m   2094\u001b[0m         \u001b[0mkey\u001b[0m \u001b[0;34m=\u001b[0m \u001b[0mcom\u001b[0m\u001b[0;34m.\u001b[0m\u001b[0m_values_from_object\u001b[0m\u001b[0;34m(\u001b[0m\u001b[0mkey\u001b[0m\u001b[0;34m)\u001b[0m\u001b[0;34m\u001b[0m\u001b[0;34m\u001b[0m\u001b[0m\n\u001b[0;32m-> 2095\u001b[0;31m         \u001b[0mresult\u001b[0m \u001b[0;34m=\u001b[0m \u001b[0mgetitem\u001b[0m\u001b[0;34m(\u001b[0m\u001b[0mkey\u001b[0m\u001b[0;34m)\u001b[0m\u001b[0;34m\u001b[0m\u001b[0;34m\u001b[0m\u001b[0m\n\u001b[0m\u001b[1;32m   2096\u001b[0m         \u001b[0;32mif\u001b[0m \u001b[0;32mnot\u001b[0m \u001b[0mis_scalar\u001b[0m\u001b[0;34m(\u001b[0m\u001b[0mresult\u001b[0m\u001b[0;34m)\u001b[0m\u001b[0;34m:\u001b[0m\u001b[0;34m\u001b[0m\u001b[0;34m\u001b[0m\u001b[0m\n\u001b[1;32m   2097\u001b[0m             \u001b[0;32mreturn\u001b[0m \u001b[0mpromote\u001b[0m\u001b[0;34m(\u001b[0m\u001b[0mresult\u001b[0m\u001b[0;34m)\u001b[0m\u001b[0;34m\u001b[0m\u001b[0;34m\u001b[0m\u001b[0m\n",
      "\u001b[0;31mIndexError\u001b[0m: boolean index did not match indexed array along dimension 0; dimension is 22 but corresponding boolean dimension is 21"
     ]
    }
   ],
   "source": [
    "columns = np.full((corr.shape[0],), True, dtype=bool)\n",
    "for i in range(corr.shape[0]):\n",
    "    for j in range(i+1, corr.shape[0]):\n",
    "        if corr.iloc[i,j] >= 0.9:\n",
    "            if columns[j]:\n",
    "                columns[j] = False\n",
    "selected_columns = df2.columns[columns]\n",
    "df2 = df2[selected_columns]"
   ]
  },
  {
   "cell_type": "code",
   "execution_count": 52,
   "metadata": {},
   "outputs": [
    {
     "data": {
      "text/html": [
       "<div>\n",
       "<style scoped>\n",
       "    .dataframe tbody tr th:only-of-type {\n",
       "        vertical-align: middle;\n",
       "    }\n",
       "\n",
       "    .dataframe tbody tr th {\n",
       "        vertical-align: top;\n",
       "    }\n",
       "\n",
       "    .dataframe thead th {\n",
       "        text-align: right;\n",
       "    }\n",
       "</style>\n",
       "<table border=\"1\" class=\"dataframe\">\n",
       "  <thead>\n",
       "    <tr style=\"text-align: right;\">\n",
       "      <th></th>\n",
       "      <th>len</th>\n",
       "      <th>minutes</th>\n",
       "      <th>short</th>\n",
       "      <th>long</th>\n",
       "      <th>big_site</th>\n",
       "      <th>typical_site</th>\n",
       "      <th>typical_domain</th>\n",
       "      <th>YearMonth</th>\n",
       "      <th>YearDay</th>\n",
       "      <th>is_weekend</th>\n",
       "      <th>wed</th>\n",
       "      <th>Hour</th>\n",
       "      <th>Day_of_week</th>\n",
       "      <th>Day</th>\n",
       "      <th>Eve</th>\n",
       "      <th>Night</th>\n",
       "      <th>Morning</th>\n",
       "      <th>is_summer</th>\n",
       "    </tr>\n",
       "  </thead>\n",
       "  <tbody>\n",
       "    <tr>\n",
       "      <th>len</th>\n",
       "      <td>1.0</td>\n",
       "      <td>NaN</td>\n",
       "      <td>NaN</td>\n",
       "      <td>NaN</td>\n",
       "      <td>NaN</td>\n",
       "      <td>NaN</td>\n",
       "      <td>NaN</td>\n",
       "      <td>NaN</td>\n",
       "      <td>NaN</td>\n",
       "      <td>NaN</td>\n",
       "      <td>NaN</td>\n",
       "      <td>NaN</td>\n",
       "      <td>NaN</td>\n",
       "      <td>NaN</td>\n",
       "      <td>NaN</td>\n",
       "      <td>NaN</td>\n",
       "      <td>NaN</td>\n",
       "      <td>NaN</td>\n",
       "    </tr>\n",
       "    <tr>\n",
       "      <th>minutes</th>\n",
       "      <td>NaN</td>\n",
       "      <td>1.0</td>\n",
       "      <td>NaN</td>\n",
       "      <td>NaN</td>\n",
       "      <td>NaN</td>\n",
       "      <td>NaN</td>\n",
       "      <td>NaN</td>\n",
       "      <td>NaN</td>\n",
       "      <td>NaN</td>\n",
       "      <td>NaN</td>\n",
       "      <td>NaN</td>\n",
       "      <td>NaN</td>\n",
       "      <td>NaN</td>\n",
       "      <td>NaN</td>\n",
       "      <td>NaN</td>\n",
       "      <td>NaN</td>\n",
       "      <td>NaN</td>\n",
       "      <td>NaN</td>\n",
       "    </tr>\n",
       "    <tr>\n",
       "      <th>short</th>\n",
       "      <td>NaN</td>\n",
       "      <td>NaN</td>\n",
       "      <td>1.0</td>\n",
       "      <td>NaN</td>\n",
       "      <td>NaN</td>\n",
       "      <td>NaN</td>\n",
       "      <td>NaN</td>\n",
       "      <td>NaN</td>\n",
       "      <td>NaN</td>\n",
       "      <td>NaN</td>\n",
       "      <td>NaN</td>\n",
       "      <td>NaN</td>\n",
       "      <td>NaN</td>\n",
       "      <td>NaN</td>\n",
       "      <td>NaN</td>\n",
       "      <td>NaN</td>\n",
       "      <td>NaN</td>\n",
       "      <td>NaN</td>\n",
       "    </tr>\n",
       "    <tr>\n",
       "      <th>long</th>\n",
       "      <td>NaN</td>\n",
       "      <td>NaN</td>\n",
       "      <td>NaN</td>\n",
       "      <td>1.0</td>\n",
       "      <td>NaN</td>\n",
       "      <td>NaN</td>\n",
       "      <td>NaN</td>\n",
       "      <td>NaN</td>\n",
       "      <td>NaN</td>\n",
       "      <td>NaN</td>\n",
       "      <td>NaN</td>\n",
       "      <td>NaN</td>\n",
       "      <td>NaN</td>\n",
       "      <td>NaN</td>\n",
       "      <td>NaN</td>\n",
       "      <td>NaN</td>\n",
       "      <td>NaN</td>\n",
       "      <td>NaN</td>\n",
       "    </tr>\n",
       "    <tr>\n",
       "      <th>big_site</th>\n",
       "      <td>NaN</td>\n",
       "      <td>NaN</td>\n",
       "      <td>NaN</td>\n",
       "      <td>NaN</td>\n",
       "      <td>1.0</td>\n",
       "      <td>NaN</td>\n",
       "      <td>NaN</td>\n",
       "      <td>NaN</td>\n",
       "      <td>NaN</td>\n",
       "      <td>NaN</td>\n",
       "      <td>NaN</td>\n",
       "      <td>NaN</td>\n",
       "      <td>NaN</td>\n",
       "      <td>NaN</td>\n",
       "      <td>NaN</td>\n",
       "      <td>NaN</td>\n",
       "      <td>NaN</td>\n",
       "      <td>NaN</td>\n",
       "    </tr>\n",
       "    <tr>\n",
       "      <th>typical_site</th>\n",
       "      <td>NaN</td>\n",
       "      <td>NaN</td>\n",
       "      <td>NaN</td>\n",
       "      <td>NaN</td>\n",
       "      <td>NaN</td>\n",
       "      <td>1.0</td>\n",
       "      <td>NaN</td>\n",
       "      <td>NaN</td>\n",
       "      <td>NaN</td>\n",
       "      <td>NaN</td>\n",
       "      <td>NaN</td>\n",
       "      <td>NaN</td>\n",
       "      <td>NaN</td>\n",
       "      <td>NaN</td>\n",
       "      <td>NaN</td>\n",
       "      <td>NaN</td>\n",
       "      <td>NaN</td>\n",
       "      <td>NaN</td>\n",
       "    </tr>\n",
       "    <tr>\n",
       "      <th>typical_domain</th>\n",
       "      <td>NaN</td>\n",
       "      <td>NaN</td>\n",
       "      <td>NaN</td>\n",
       "      <td>NaN</td>\n",
       "      <td>NaN</td>\n",
       "      <td>NaN</td>\n",
       "      <td>1.0</td>\n",
       "      <td>NaN</td>\n",
       "      <td>NaN</td>\n",
       "      <td>NaN</td>\n",
       "      <td>NaN</td>\n",
       "      <td>NaN</td>\n",
       "      <td>NaN</td>\n",
       "      <td>NaN</td>\n",
       "      <td>NaN</td>\n",
       "      <td>NaN</td>\n",
       "      <td>NaN</td>\n",
       "      <td>NaN</td>\n",
       "    </tr>\n",
       "    <tr>\n",
       "      <th>YearMonth</th>\n",
       "      <td>NaN</td>\n",
       "      <td>NaN</td>\n",
       "      <td>NaN</td>\n",
       "      <td>NaN</td>\n",
       "      <td>NaN</td>\n",
       "      <td>NaN</td>\n",
       "      <td>NaN</td>\n",
       "      <td>1.0</td>\n",
       "      <td>NaN</td>\n",
       "      <td>NaN</td>\n",
       "      <td>NaN</td>\n",
       "      <td>NaN</td>\n",
       "      <td>NaN</td>\n",
       "      <td>NaN</td>\n",
       "      <td>NaN</td>\n",
       "      <td>NaN</td>\n",
       "      <td>NaN</td>\n",
       "      <td>NaN</td>\n",
       "    </tr>\n",
       "    <tr>\n",
       "      <th>YearDay</th>\n",
       "      <td>NaN</td>\n",
       "      <td>NaN</td>\n",
       "      <td>NaN</td>\n",
       "      <td>NaN</td>\n",
       "      <td>NaN</td>\n",
       "      <td>NaN</td>\n",
       "      <td>NaN</td>\n",
       "      <td>NaN</td>\n",
       "      <td>1.0</td>\n",
       "      <td>NaN</td>\n",
       "      <td>NaN</td>\n",
       "      <td>NaN</td>\n",
       "      <td>NaN</td>\n",
       "      <td>NaN</td>\n",
       "      <td>NaN</td>\n",
       "      <td>NaN</td>\n",
       "      <td>NaN</td>\n",
       "      <td>NaN</td>\n",
       "    </tr>\n",
       "    <tr>\n",
       "      <th>is_weekend</th>\n",
       "      <td>NaN</td>\n",
       "      <td>NaN</td>\n",
       "      <td>NaN</td>\n",
       "      <td>NaN</td>\n",
       "      <td>NaN</td>\n",
       "      <td>NaN</td>\n",
       "      <td>NaN</td>\n",
       "      <td>NaN</td>\n",
       "      <td>NaN</td>\n",
       "      <td>1.0</td>\n",
       "      <td>NaN</td>\n",
       "      <td>NaN</td>\n",
       "      <td>NaN</td>\n",
       "      <td>NaN</td>\n",
       "      <td>NaN</td>\n",
       "      <td>NaN</td>\n",
       "      <td>NaN</td>\n",
       "      <td>NaN</td>\n",
       "    </tr>\n",
       "    <tr>\n",
       "      <th>wed</th>\n",
       "      <td>NaN</td>\n",
       "      <td>NaN</td>\n",
       "      <td>NaN</td>\n",
       "      <td>NaN</td>\n",
       "      <td>NaN</td>\n",
       "      <td>NaN</td>\n",
       "      <td>NaN</td>\n",
       "      <td>NaN</td>\n",
       "      <td>NaN</td>\n",
       "      <td>NaN</td>\n",
       "      <td>1.0</td>\n",
       "      <td>NaN</td>\n",
       "      <td>NaN</td>\n",
       "      <td>NaN</td>\n",
       "      <td>NaN</td>\n",
       "      <td>NaN</td>\n",
       "      <td>NaN</td>\n",
       "      <td>NaN</td>\n",
       "    </tr>\n",
       "    <tr>\n",
       "      <th>Hour</th>\n",
       "      <td>NaN</td>\n",
       "      <td>NaN</td>\n",
       "      <td>NaN</td>\n",
       "      <td>NaN</td>\n",
       "      <td>NaN</td>\n",
       "      <td>NaN</td>\n",
       "      <td>NaN</td>\n",
       "      <td>NaN</td>\n",
       "      <td>NaN</td>\n",
       "      <td>NaN</td>\n",
       "      <td>NaN</td>\n",
       "      <td>1.0</td>\n",
       "      <td>NaN</td>\n",
       "      <td>NaN</td>\n",
       "      <td>NaN</td>\n",
       "      <td>NaN</td>\n",
       "      <td>NaN</td>\n",
       "      <td>NaN</td>\n",
       "    </tr>\n",
       "    <tr>\n",
       "      <th>Day_of_week</th>\n",
       "      <td>NaN</td>\n",
       "      <td>NaN</td>\n",
       "      <td>NaN</td>\n",
       "      <td>NaN</td>\n",
       "      <td>NaN</td>\n",
       "      <td>NaN</td>\n",
       "      <td>NaN</td>\n",
       "      <td>NaN</td>\n",
       "      <td>NaN</td>\n",
       "      <td>NaN</td>\n",
       "      <td>NaN</td>\n",
       "      <td>NaN</td>\n",
       "      <td>1.0</td>\n",
       "      <td>NaN</td>\n",
       "      <td>NaN</td>\n",
       "      <td>NaN</td>\n",
       "      <td>NaN</td>\n",
       "      <td>NaN</td>\n",
       "    </tr>\n",
       "    <tr>\n",
       "      <th>Day</th>\n",
       "      <td>NaN</td>\n",
       "      <td>NaN</td>\n",
       "      <td>NaN</td>\n",
       "      <td>NaN</td>\n",
       "      <td>NaN</td>\n",
       "      <td>NaN</td>\n",
       "      <td>NaN</td>\n",
       "      <td>NaN</td>\n",
       "      <td>NaN</td>\n",
       "      <td>NaN</td>\n",
       "      <td>NaN</td>\n",
       "      <td>NaN</td>\n",
       "      <td>NaN</td>\n",
       "      <td>1.0</td>\n",
       "      <td>NaN</td>\n",
       "      <td>NaN</td>\n",
       "      <td>NaN</td>\n",
       "      <td>NaN</td>\n",
       "    </tr>\n",
       "    <tr>\n",
       "      <th>Eve</th>\n",
       "      <td>NaN</td>\n",
       "      <td>NaN</td>\n",
       "      <td>NaN</td>\n",
       "      <td>NaN</td>\n",
       "      <td>NaN</td>\n",
       "      <td>NaN</td>\n",
       "      <td>NaN</td>\n",
       "      <td>NaN</td>\n",
       "      <td>NaN</td>\n",
       "      <td>NaN</td>\n",
       "      <td>NaN</td>\n",
       "      <td>NaN</td>\n",
       "      <td>NaN</td>\n",
       "      <td>NaN</td>\n",
       "      <td>1.0</td>\n",
       "      <td>NaN</td>\n",
       "      <td>NaN</td>\n",
       "      <td>NaN</td>\n",
       "    </tr>\n",
       "    <tr>\n",
       "      <th>Night</th>\n",
       "      <td>NaN</td>\n",
       "      <td>NaN</td>\n",
       "      <td>NaN</td>\n",
       "      <td>NaN</td>\n",
       "      <td>NaN</td>\n",
       "      <td>NaN</td>\n",
       "      <td>NaN</td>\n",
       "      <td>NaN</td>\n",
       "      <td>NaN</td>\n",
       "      <td>NaN</td>\n",
       "      <td>NaN</td>\n",
       "      <td>NaN</td>\n",
       "      <td>NaN</td>\n",
       "      <td>NaN</td>\n",
       "      <td>NaN</td>\n",
       "      <td>NaN</td>\n",
       "      <td>NaN</td>\n",
       "      <td>NaN</td>\n",
       "    </tr>\n",
       "    <tr>\n",
       "      <th>Morning</th>\n",
       "      <td>NaN</td>\n",
       "      <td>NaN</td>\n",
       "      <td>NaN</td>\n",
       "      <td>NaN</td>\n",
       "      <td>NaN</td>\n",
       "      <td>NaN</td>\n",
       "      <td>NaN</td>\n",
       "      <td>NaN</td>\n",
       "      <td>NaN</td>\n",
       "      <td>NaN</td>\n",
       "      <td>NaN</td>\n",
       "      <td>NaN</td>\n",
       "      <td>NaN</td>\n",
       "      <td>NaN</td>\n",
       "      <td>NaN</td>\n",
       "      <td>NaN</td>\n",
       "      <td>1.0</td>\n",
       "      <td>NaN</td>\n",
       "    </tr>\n",
       "    <tr>\n",
       "      <th>is_summer</th>\n",
       "      <td>NaN</td>\n",
       "      <td>NaN</td>\n",
       "      <td>NaN</td>\n",
       "      <td>NaN</td>\n",
       "      <td>NaN</td>\n",
       "      <td>NaN</td>\n",
       "      <td>NaN</td>\n",
       "      <td>NaN</td>\n",
       "      <td>NaN</td>\n",
       "      <td>NaN</td>\n",
       "      <td>NaN</td>\n",
       "      <td>NaN</td>\n",
       "      <td>NaN</td>\n",
       "      <td>NaN</td>\n",
       "      <td>NaN</td>\n",
       "      <td>NaN</td>\n",
       "      <td>NaN</td>\n",
       "      <td>1.0</td>\n",
       "    </tr>\n",
       "  </tbody>\n",
       "</table>\n",
       "</div>"
      ],
      "text/plain": [
       "                len  minutes  short  long  big_site  typical_site  \\\n",
       "len             1.0      NaN    NaN   NaN       NaN           NaN   \n",
       "minutes         NaN      1.0    NaN   NaN       NaN           NaN   \n",
       "short           NaN      NaN    1.0   NaN       NaN           NaN   \n",
       "long            NaN      NaN    NaN   1.0       NaN           NaN   \n",
       "big_site        NaN      NaN    NaN   NaN       1.0           NaN   \n",
       "typical_site    NaN      NaN    NaN   NaN       NaN           1.0   \n",
       "typical_domain  NaN      NaN    NaN   NaN       NaN           NaN   \n",
       "YearMonth       NaN      NaN    NaN   NaN       NaN           NaN   \n",
       "YearDay         NaN      NaN    NaN   NaN       NaN           NaN   \n",
       "is_weekend      NaN      NaN    NaN   NaN       NaN           NaN   \n",
       "wed             NaN      NaN    NaN   NaN       NaN           NaN   \n",
       "Hour            NaN      NaN    NaN   NaN       NaN           NaN   \n",
       "Day_of_week     NaN      NaN    NaN   NaN       NaN           NaN   \n",
       "Day             NaN      NaN    NaN   NaN       NaN           NaN   \n",
       "Eve             NaN      NaN    NaN   NaN       NaN           NaN   \n",
       "Night           NaN      NaN    NaN   NaN       NaN           NaN   \n",
       "Morning         NaN      NaN    NaN   NaN       NaN           NaN   \n",
       "is_summer       NaN      NaN    NaN   NaN       NaN           NaN   \n",
       "\n",
       "                typical_domain  YearMonth  YearDay  is_weekend  wed  Hour  \\\n",
       "len                        NaN        NaN      NaN         NaN  NaN   NaN   \n",
       "minutes                    NaN        NaN      NaN         NaN  NaN   NaN   \n",
       "short                      NaN        NaN      NaN         NaN  NaN   NaN   \n",
       "long                       NaN        NaN      NaN         NaN  NaN   NaN   \n",
       "big_site                   NaN        NaN      NaN         NaN  NaN   NaN   \n",
       "typical_site               NaN        NaN      NaN         NaN  NaN   NaN   \n",
       "typical_domain             1.0        NaN      NaN         NaN  NaN   NaN   \n",
       "YearMonth                  NaN        1.0      NaN         NaN  NaN   NaN   \n",
       "YearDay                    NaN        NaN      1.0         NaN  NaN   NaN   \n",
       "is_weekend                 NaN        NaN      NaN         1.0  NaN   NaN   \n",
       "wed                        NaN        NaN      NaN         NaN  1.0   NaN   \n",
       "Hour                       NaN        NaN      NaN         NaN  NaN   1.0   \n",
       "Day_of_week                NaN        NaN      NaN         NaN  NaN   NaN   \n",
       "Day                        NaN        NaN      NaN         NaN  NaN   NaN   \n",
       "Eve                        NaN        NaN      NaN         NaN  NaN   NaN   \n",
       "Night                      NaN        NaN      NaN         NaN  NaN   NaN   \n",
       "Morning                    NaN        NaN      NaN         NaN  NaN   NaN   \n",
       "is_summer                  NaN        NaN      NaN         NaN  NaN   NaN   \n",
       "\n",
       "                Day_of_week  Day  Eve  Night  Morning  is_summer  \n",
       "len                     NaN  NaN  NaN    NaN      NaN        NaN  \n",
       "minutes                 NaN  NaN  NaN    NaN      NaN        NaN  \n",
       "short                   NaN  NaN  NaN    NaN      NaN        NaN  \n",
       "long                    NaN  NaN  NaN    NaN      NaN        NaN  \n",
       "big_site                NaN  NaN  NaN    NaN      NaN        NaN  \n",
       "typical_site            NaN  NaN  NaN    NaN      NaN        NaN  \n",
       "typical_domain          NaN  NaN  NaN    NaN      NaN        NaN  \n",
       "YearMonth               NaN  NaN  NaN    NaN      NaN        NaN  \n",
       "YearDay                 NaN  NaN  NaN    NaN      NaN        NaN  \n",
       "is_weekend              NaN  NaN  NaN    NaN      NaN        NaN  \n",
       "wed                     NaN  NaN  NaN    NaN      NaN        NaN  \n",
       "Hour                    NaN  NaN  NaN    NaN      NaN        NaN  \n",
       "Day_of_week             1.0  NaN  NaN    NaN      NaN        NaN  \n",
       "Day                     NaN  1.0  NaN    NaN      NaN        NaN  \n",
       "Eve                     NaN  NaN  1.0    NaN      NaN        NaN  \n",
       "Night                   NaN  NaN  NaN    NaN      NaN        NaN  \n",
       "Morning                 NaN  NaN  NaN    NaN      1.0        NaN  \n",
       "is_summer               NaN  NaN  NaN    NaN      NaN        1.0  "
      ]
     },
     "execution_count": 52,
     "metadata": {},
     "output_type": "execute_result"
    }
   ],
   "source": [
    "corr[corr > 0.9]"
   ]
  },
  {
   "cell_type": "code",
   "execution_count": null,
   "metadata": {},
   "outputs": [],
   "source": [
    "# давно пора было написать\n",
    "\n",
    "def train_and_predict(model, X_train, y_train, X_test, site_feature_names=vectorizer.get_feature_names(), \n",
    "                      new_feature_names=None, cv=time_split, scoring='roc_auc',\n",
    "                      top_n_features_to_show=30, submission_file_name='submission.csv'):\n",
    "    \n",
    "    \n",
    "    cv_scores = cross_val_score(model, X_train, y_train, cv=cv, \n",
    "                            scoring=scoring, n_jobs=4)\n",
    "    print('CV scores', cv_scores)\n",
    "    print('CV mean: {}, CV std: {}'.format(cv_scores.mean(), cv_scores.std()))\n",
    "    model.fit(X_train, y_train)\n",
    "    \n",
    "    if new_feature_names:\n",
    "        all_feature_names = site_feature_names + new_feature_names \n",
    "    else: \n",
    "        all_feature_names = site_feature_names\n",
    "    \n",
    "    display_html(eli5.show_weights(estimator=model, \n",
    "                  feature_names=all_feature_names, top=top_n_features_to_show))\n",
    "    \n",
    "    if new_feature_names:\n",
    "        print('New feature weights:')\n",
    "    \n",
    "        print(pd.DataFrame({'feature': new_feature_names, \n",
    "                        'coef': model.coef_.flatten()[-len(new_feature_names):]}))\n",
    "    \n",
    "    test_pred = model.predict_proba(X_test)[:, 1]\n",
    "    write_to_submission_file(test_pred, submission_file_name) \n",
    "    \n",
    "    return cv_scores"
   ]
  },
  {
   "cell_type": "code",
   "execution_count": null,
   "metadata": {},
   "outputs": [],
   "source": []
  }
 ],
 "metadata": {
  "kernelspec": {
   "display_name": "Python 3",
   "language": "python",
   "name": "python3"
  },
  "language_info": {
   "codemirror_mode": {
    "name": "ipython",
    "version": 3
   },
   "file_extension": ".py",
   "mimetype": "text/x-python",
   "name": "python",
   "nbconvert_exporter": "python",
   "pygments_lexer": "ipython3",
   "version": "3.7.1"
  }
 },
 "nbformat": 4,
 "nbformat_minor": 2
}
