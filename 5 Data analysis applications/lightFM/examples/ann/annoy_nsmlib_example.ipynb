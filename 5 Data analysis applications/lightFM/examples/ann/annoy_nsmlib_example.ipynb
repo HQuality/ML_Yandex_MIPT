{
 "cells": [
  {
   "cell_type": "markdown",
   "metadata": {},
   "source": [
    "# Light FM Approximate Nearest Neighbours (ANN) example\n",
    "\n",
    "In this notebook, we'll be building a hybrid LightFM model on the example movielens dataset. \n",
    "\n",
    "We'll then store the item and user vectors, and build an ANN index over these for fast querying at scale. This technique can produce < 50ms response-times across millions of items.\n",
    "\n",
    "We'll look at two popular ANN libraries, Annoy and NMSlib, and compare their performance.\n",
    "\n",
    "Dependencies:\n",
    "- Annoy - https://github.com/spotify/annoy\n",
    "- NMSLIB - https://github.com/searchivarius/nmslib/tree/master/python_bindings\n",
    "\n",
    "Firstly, let's import the data and build the Light FM model, as per the example in the docs:"
   ]
  },
  {
   "cell_type": "code",
   "execution_count": 1,
   "metadata": {},
   "outputs": [
    {
     "name": "stderr",
     "output_type": "stream",
     "text": [
      "/Users/lester/anaconda2/lib/python2.7/site-packages/lightfm/_lightfm_fast.py:9: UserWarning: LightFM was compiled without OpenMP support. Only a single thread will be used.\n",
      "  warnings.warn('LightFM was compiled without OpenMP support. '\n"
     ]
    }
   ],
   "source": [
    "%matplotlib inline\n",
    "import numpy as np\n",
    "import pandas as pd\n",
    "from sklearn.metrics import pairwise_distances\n",
    "import time\n",
    "from lightfm.datasets import fetch_movielens\n",
    "\n",
    "movielens = fetch_movielens()"
   ]
  },
  {
   "cell_type": "code",
   "execution_count": 2,
   "metadata": {},
   "outputs": [
    {
     "name": "stdout",
     "output_type": "stream",
     "text": [
      "('test', <class 'scipy.sparse.coo.coo_matrix'>, (943, 1682))\n",
      "('item_features', <class 'scipy.sparse.csr.csr_matrix'>, (1682, 1682))\n",
      "('train', <class 'scipy.sparse.coo.coo_matrix'>, (943, 1682))\n",
      "('item_labels', <type 'numpy.ndarray'>, (1682,))\n",
      "('item_feature_labels', <type 'numpy.ndarray'>, (1682,))\n"
     ]
    }
   ],
   "source": [
    "for key, value in movielens.items():\n",
    "    print(key, type(value), value.shape)"
   ]
  },
  {
   "cell_type": "code",
   "execution_count": 3,
   "metadata": {
    "collapsed": true
   },
   "outputs": [],
   "source": [
    "train = movielens['train']\n",
    "test = movielens['test']"
   ]
  },
  {
   "cell_type": "code",
   "execution_count": 4,
   "metadata": {},
   "outputs": [
    {
     "name": "stdout",
     "output_type": "stream",
     "text": [
      "Precision: train 0.73, test 0.10.\n",
      "AUC: train 0.97, test 0.91.\n"
     ]
    }
   ],
   "source": [
    "from lightfm import LightFM\n",
    "from lightfm.evaluation import precision_at_k\n",
    "from lightfm.evaluation import auc_score\n",
    "\n",
    "model = LightFM(learning_rate=0.05, loss='warp', no_components=64, item_alpha=0.001)\n",
    "\n",
    "model.fit_partial(train, item_features=movielens['item_features'], epochs=20 )\n",
    "\n",
    "train_precision = precision_at_k(model, train, k=10).mean()\n",
    "test_precision = precision_at_k(model, test, k=10).mean()\n",
    "\n",
    "train_auc = auc_score(model, train).mean()\n",
    "test_auc = auc_score(model, test).mean()\n",
    "\n",
    "print('Precision: train %.2f, test %.2f.' % (train_precision, test_precision))\n",
    "print('AUC: train %.2f, test %.2f.' % (train_auc, test_auc))"
   ]
  },
  {
   "cell_type": "markdown",
   "metadata": {},
   "source": [
    "We can get the item embeddings by simply multiplying the item features by the models item feature embeddings. Even better, LightFM has a performant built-in function to retrieve these embeddings givin a set of features."
   ]
  },
  {
   "cell_type": "code",
   "execution_count": 5,
   "metadata": {
    "collapsed": true
   },
   "outputs": [],
   "source": [
    "_, item_embeddings = model.get_item_representations(movielens['item_features'])"
   ]
  },
  {
   "cell_type": "markdown",
   "metadata": {},
   "source": [
    "Now let's make an annoy index for item to item querying:"
   ]
  },
  {
   "cell_type": "code",
   "execution_count": 7,
   "metadata": {},
   "outputs": [
    {
     "data": {
      "text/plain": [
       "True"
      ]
     },
     "execution_count": 7,
     "metadata": {},
     "output_type": "execute_result"
    }
   ],
   "source": [
    "from annoy import AnnoyIndex\n",
    "\n",
    "factors = item_embeddings.shape[1] # Length of item vector that will be indexed\n",
    "annoy_idx = AnnoyIndex(factors)  \n",
    "for i in range(item_embeddings.shape[0]):\n",
    "    v = item_embeddings[i]\n",
    "    annoy_idx.add_item(i, v)\n",
    "\n",
    "annoy_idx.build(10) # 10 trees\n",
    "annoy_idx.save('movielens_item_Annoy_idx.ann')"
   ]
  },
  {
   "cell_type": "markdown",
   "metadata": {},
   "source": [
    "And query the index for similar movies:"
   ]
  },
  {
   "cell_type": "code",
   "execution_count": 8,
   "metadata": {
    "collapsed": true
   },
   "outputs": [],
   "source": [
    "def nearest_movies_annoy(movie_id, index, n=10, print_output=True):\n",
    "    nn = index.get_nns_by_item(movie_id, 10)\n",
    "    if print_output:\n",
    "        print('Closest to %s : \\n' % movielens['item_labels'][movie_id])\n",
    "    titles = [movielens['item_labels'][i] for i in nn]\n",
    "    if print_output:\n",
    "        print(\"\\n\".join(titles))"
   ]
  },
  {
   "cell_type": "code",
   "execution_count": 11,
   "metadata": {},
   "outputs": [
    {
     "name": "stdout",
     "output_type": "stream",
     "text": [
      "Closest to Nightmare Before Christmas, The (1993) : \n",
      "\n",
      "Nightmare Before Christmas, The (1993)\n",
      "Beauty and the Beast (1991)\n",
      "Fantasia (1940)\n",
      "Aladdin (1992)\n",
      "Jurassic Park (1993)\n",
      "Sword in the Stone, The (1963)\n",
      "Snow White and the Seven Dwarfs (1937)\n",
      "Lion King, The (1994)\n",
      "Princess Bride, The (1987)\n",
      "Monty Python and the Holy Grail (1974)\n"
     ]
    }
   ],
   "source": [
    "nearest_movies_annoy(90, annoy_idx)"
   ]
  },
  {
   "cell_type": "markdown",
   "metadata": {},
   "source": [
    "Not bad, and it's very quick:"
   ]
  },
  {
   "cell_type": "code",
   "execution_count": 12,
   "metadata": {},
   "outputs": [
    {
     "name": "stdout",
     "output_type": "stream",
     "text": [
      "The slowest run took 5.72 times longer than the fastest. This could mean that an intermediate result is being cached.\n",
      "100000 loops, best of 3: 15.4 µs per loop\n"
     ]
    }
   ],
   "source": [
    "%%timeit\n",
    "nearest_movies_annoy(90, annoy_idx, print_output=False)"
   ]
  },
  {
   "cell_type": "markdown",
   "metadata": {},
   "source": [
    "How about NMSlib?"
   ]
  },
  {
   "cell_type": "code",
   "execution_count": 13,
   "metadata": {
    "collapsed": true
   },
   "outputs": [],
   "source": [
    "import nmslib\n",
    "\n",
    "# initialize a new nmslib index, using a HNSW index on Cosine Similarity\n",
    "nms_idx = nmslib.init(method='hnsw', space='cosinesimil')\n",
    "nms_idx.addDataPointBatch(item_embeddings)\n",
    "nms_idx.createIndex(print_progress=True)"
   ]
  },
  {
   "cell_type": "code",
   "execution_count": 14,
   "metadata": {
    "collapsed": true
   },
   "outputs": [],
   "source": [
    "def nearest_movies_nms(movie_id, index, n=10, print_output=True):\n",
    "    nn = index.knnQuery(item_embeddings[movie_id], k=10)\n",
    "    if print_output == True:\n",
    "        print('Closest to %s : \\n' % movielens['item_labels'][movie_id])\n",
    "    titles = [movielens['item_labels'][i] for i in nn[0]]\n",
    "    if print_output == True:\n",
    "        print(\"\\n\".join(titles))"
   ]
  },
  {
   "cell_type": "code",
   "execution_count": 15,
   "metadata": {},
   "outputs": [
    {
     "name": "stdout",
     "output_type": "stream",
     "text": [
      "Closest to Nightmare Before Christmas, The (1993) : \n",
      "\n",
      "Nightmare Before Christmas, The (1993)\n",
      "Beauty and the Beast (1991)\n",
      "Fantasia (1940)\n",
      "Aladdin (1992)\n",
      "Star Trek: The Wrath of Khan (1982)\n",
      "Heavy Metal (1981)\n",
      "Jurassic Park (1993)\n",
      "Aristocats, The (1970)\n",
      "Blade Runner (1982)\n",
      "Bram Stoker's Dracula (1992)\n"
     ]
    }
   ],
   "source": [
    "nearest_movies_nms(90, nms_idx, n=10)"
   ]
  },
  {
   "cell_type": "code",
   "execution_count": 16,
   "metadata": {},
   "outputs": [
    {
     "name": "stdout",
     "output_type": "stream",
     "text": [
      "The slowest run took 4.93 times longer than the fastest. This could mean that an intermediate result is being cached.\n",
      "10000 loops, best of 3: 26.7 µs per loop\n"
     ]
    }
   ],
   "source": [
    "%%timeit \n",
    "nearest_movies_nms(90, nms_idx, n=10, print_output=False)"
   ]
  },
  {
   "cell_type": "markdown",
   "metadata": {},
   "source": [
    "<p>Again, good and maybe a little better, and also very fast. Now we'll do an example showing how we can do user recommendations using a neat trick outlined by the Xbox recomendations team: https://www.microsoft.com/en-us/research/wp-content/uploads/2016/02/XboxInnerProduct.pdf . Thanks to Ben Fredrickson https://github.com/benfred/ for bringing this one to light.</p>\n",
    "\n",
    "<p>Basically we add a nomalizing factor to each item vector - making their distances equal with each other. Then when we query with a user vector, we add a 0 to the end, and the result is proportional to the inner producct of the user and item vectors. This is a sneaky way to do an aproximate maximum inner product search."
   ]
  },
  {
   "cell_type": "code",
   "execution_count": 17,
   "metadata": {
    "collapsed": true
   },
   "outputs": [],
   "source": [
    "norms = np.linalg.norm(item_embeddings, axis=1)\n",
    "max_norm = norms.max()\n",
    "extra_dimension = np.sqrt(max_norm ** 2 - norms ** 2)\n",
    "norm_data = np.append(item_embeddings, extra_dimension.reshape(norms.shape[0], 1), axis=1)\n",
    "\n",
    "#First an Annoy index:\n",
    "\n",
    "user_factors = norm_data.shape[1]\n",
    "annoy_member_idx = AnnoyIndex(user_factors)  # Length of item vector that will be indexed\n",
    "\n",
    "for i in range(norm_data.shape[0]):\n",
    "    v = norm_data[i]\n",
    "    annoy_member_idx.add_item(i, v)\n",
    "    \n",
    "annoy_member_idx.build(10)\n",
    "\n",
    "# Now an NMS index\n",
    "\n",
    "nms_member_idx = nmslib.init(method='hnsw', space='cosinesimil')\n",
    "nms_member_idx.addDataPointBatch(norm_data)\n",
    "nms_member_idx.createIndex(print_progress=True)"
   ]
  },
  {
   "cell_type": "code",
   "execution_count": 18,
   "metadata": {
    "collapsed": true
   },
   "outputs": [],
   "source": [
    "# Define our user vectors\n",
    "\n",
    "_, user_embeddings = model.get_user_representations()"
   ]
  },
  {
   "cell_type": "markdown",
   "metadata": {},
   "source": [
    "#### Now we can query as per the standard LightFM example"
   ]
  },
  {
   "cell_type": "code",
   "execution_count": 21,
   "metadata": {
    "collapsed": true
   },
   "outputs": [],
   "source": [
    "def sample_recommendation(user_ids, model, data, n_items=10, print_output=True):\n",
    "    n_users, n_items = data['train'].shape\n",
    "\n",
    "    for user_id in user_ids:\n",
    "        known_positives = data['item_labels'][data['train'].tocsr()[user_id].indices]\n",
    "        top_items = [data['item_labels'][i] for i in annoy_member_idx.get_nns_by_vector(np.append(user_embeddings[user_id], 0), 50)]\n",
    "        if print_output == True:\n",
    "            print(\"User %s\" % user_id)\n",
    "            print(\"     Known positives:\")\n",
    "\n",
    "            for x in known_positives[:3]:\n",
    "                print(\"        %s\" % x)\n",
    "\n",
    "            print(\"     Recommended:\")\n",
    "\n",
    "            for x in top_items[:3]:\n",
    "                print(\"        %s\" % x)"
   ]
  },
  {
   "cell_type": "code",
   "execution_count": 22,
   "metadata": {},
   "outputs": [
    {
     "name": "stdout",
     "output_type": "stream",
     "text": [
      "User 3\n",
      "     Known positives:\n",
      "        Seven (Se7en) (1995)\n",
      "        Indiana Jones and the Last Crusade (1989)\n",
      "        Contact (1997)\n",
      "     Recommended:\n",
      "        Cop Land (1997)\n",
      "        Air Force One (1997)\n",
      "        Contact (1997)\n",
      "User 25\n",
      "     Known positives:\n",
      "        Toy Story (1995)\n",
      "        Twelve Monkeys (1995)\n",
      "        Dead Man Walking (1995)\n",
      "     Recommended:\n",
      "        Men in Black (1997)\n",
      "        Toy Story (1995)\n",
      "        Rock, The (1996)\n",
      "User 450\n",
      "     Known positives:\n",
      "        Kolya (1996)\n",
      "        Devil's Own, The (1997)\n",
      "        Contact (1997)\n",
      "     Recommended:\n",
      "        Hoodlum (1997)\n",
      "        Excess Baggage (1997)\n",
      "        G.I. Jane (1997)\n"
     ]
    }
   ],
   "source": [
    "sample_recommendation([3,25,450], model, movielens, print_output=True)"
   ]
  },
  {
   "cell_type": "markdown",
   "metadata": {},
   "source": [
    "#### Compare this to the original, non-ANN version here:"
   ]
  },
  {
   "cell_type": "code",
   "execution_count": 23,
   "metadata": {
    "collapsed": true
   },
   "outputs": [],
   "source": [
    "def sample_recommendation_original(model, data, user_ids, print_output=True):\n",
    "\n",
    "    n_users, n_items = data['train'].shape\n",
    "\n",
    "    for user_id in user_ids:\n",
    "        known_positives = data['item_labels'][data['train'].tocsr()[user_id].indices]\n",
    "        scores = model.predict(user_id, np.arange(n_items))\n",
    "        top_items = data['item_labels'][np.argsort(-scores)]\n",
    "        if print_output == True:\n",
    "            print(\"User %s\" % user_id)\n",
    "            print(\"     Known positives:\")\n",
    "\n",
    "            for x in known_positives[:3]:\n",
    "                print(\"        %s\" % x)\n",
    "\n",
    "            print(\"     Recommended:\")\n",
    "\n",
    "            for x in top_items[:3]:\n",
    "                print(\"        %s\" % x)"
   ]
  },
  {
   "cell_type": "code",
   "execution_count": 24,
   "metadata": {},
   "outputs": [
    {
     "name": "stdout",
     "output_type": "stream",
     "text": [
      "User 3\n",
      "     Known positives:\n",
      "        Seven (Se7en) (1995)\n",
      "        Indiana Jones and the Last Crusade (1989)\n",
      "        Contact (1997)\n",
      "     Recommended:\n",
      "        Contact (1997)\n",
      "        Air Force One (1997)\n",
      "        Cop Land (1997)\n",
      "User 25\n",
      "     Known positives:\n",
      "        Toy Story (1995)\n",
      "        Twelve Monkeys (1995)\n",
      "        Dead Man Walking (1995)\n",
      "     Recommended:\n",
      "        Men in Black (1997)\n",
      "        Toy Story (1995)\n",
      "        Rock, The (1996)\n",
      "User 450\n",
      "     Known positives:\n",
      "        Kolya (1996)\n",
      "        Devil's Own, The (1997)\n",
      "        Contact (1997)\n",
      "     Recommended:\n",
      "        Hoodlum (1997)\n",
      "        G.I. Jane (1997)\n",
      "        Cop Land (1997)\n"
     ]
    }
   ],
   "source": [
    "sample_recommendation_original(model, movielens, [3, 25, 450])"
   ]
  },
  {
   "cell_type": "markdown",
   "metadata": {},
   "source": [
    "So pretty similar!\n",
    "\n",
    "## But how fast are they, and do they scale?\n",
    "\n",
    "Here are the two functions compared on a single prediction:"
   ]
  },
  {
   "cell_type": "code",
   "execution_count": 25,
   "metadata": {},
   "outputs": [
    {
     "name": "stdout",
     "output_type": "stream",
     "text": [
      "100 loops, best of 3: 4.56 ms per loop\n"
     ]
    }
   ],
   "source": [
    "%%timeit\n",
    "sample_recommendation_original(model, movielens, [3, 25, 450], print_output=False)"
   ]
  },
  {
   "cell_type": "code",
   "execution_count": 26,
   "metadata": {},
   "outputs": [
    {
     "name": "stdout",
     "output_type": "stream",
     "text": [
      "100 loops, best of 3: 2.88 ms per loop\n"
     ]
    }
   ],
   "source": [
    "%%timeit\n",
    "sample_recommendation([3,25,450], model, movielens, print_output=False)"
   ]
  },
  {
   "cell_type": "markdown",
   "metadata": {},
   "source": [
    "So this is a bit faster, but at these volumes it probably doesn't justify the extra effort. Where these libraries provide value is against very large numbers of vectors. So let's see how the ANN libraries stack-up versus the Scikit-Learn pairwise distance function, which can also be used for (exact) nearest neighbour searches:"
   ]
  },
  {
   "cell_type": "code",
   "execution_count": 27,
   "metadata": {},
   "outputs": [
    {
     "data": {
      "text/plain": [
       "[Text(0,0.5,u'Time (ms)'), Text(0.5,0,u'Numer of vectors')]"
      ]
     },
     "execution_count": 27,
     "metadata": {},
     "output_type": "execute_result"
    },
    {
     "data": {
      "image/png": "[encoded data removed]",
      "text/plain": [
       "<matplotlib.figure.Figure at 0x1a095c5a50>"
      ]
     },
     "metadata": {},
     "output_type": "display_data"
    }
   ],
   "source": [
    "def time_nearest_neighbours_methods(item_embeddings):\n",
    "    \n",
    "    # Pairwise distances nearest neighbours\n",
    "    start = time.time()\n",
    "    distances = pairwise_distances(item_embeddings[0].reshape(1, -1), Y=item_embeddings)\n",
    "    top_items = distances.argsort()[:10]\n",
    "    end = time.time()\n",
    "    pairwise_elapsed = end - start\n",
    "    \n",
    "    #NMS lib\n",
    "    nms_idx = nmslib.init(method='hnsw', space='cosinesimil')\n",
    "    nms_idx.addDataPointBatch(item_embeddings)\n",
    "    nms_idx.createIndex(print_progress=False)\n",
    "    start = time.time()\n",
    "    nms_idx.knnQuery(item_embeddings[0])[0]\n",
    "    end = time.time()\n",
    "    nms_elapsed = end - start\n",
    "    \n",
    "    #Annoy\n",
    "    annoy_idx = AnnoyIndex(item_embeddings.shape[1])\n",
    "    for i in range(item_embeddings.shape[0]):\n",
    "        v = item_embeddings[i]\n",
    "        annoy_idx.add_item(i, v)\n",
    "    annoy_idx.build(10) # 10 trees\n",
    "    \n",
    "    start = time.time()\n",
    "    annoy_idx.get_nns_by_vector(item_embeddings[0], 10)\n",
    "    end = time.time()    \n",
    "    annoy_elapsed = end - start\n",
    "   \n",
    "    return {'pairwise_elapsed': pairwise_elapsed, 'nms_elapsed': nms_elapsed, 'annoy_elapsed' : annoy_elapsed}\n",
    "\n",
    "pairwise_timings = []\n",
    "nms_timings = []\n",
    "annoy_timings = []\n",
    "\n",
    "for i in range (1, 100, 10):\n",
    "    loop_item_embeddings = np.repeat(item_embeddings, i, axis=0)\n",
    "    results = time_nearest_neighbours_methods(loop_item_embeddings)\n",
    "    pairwise_timings.append(results['pairwise_elapsed'])\n",
    "    nms_timings.append(results['nms_elapsed'])\n",
    "    annoy_timings.append(results['annoy_elapsed'])\n",
    "    \n",
    "timings_df = pd.DataFrame({'Pairwise_dist':pairwise_timings, \\\n",
    "                           'NMS': nms_timings, \\\n",
    "                           'Annoy': annoy_timings}, \\\n",
    "                          index=np.arange(10)*item_embeddings.shape[0])\n",
    "\n",
    "import matplotlib.pyplot as plt\n",
    "fig, axes = plt.subplots(nrows=1, ncols=2)\n",
    "ax = timings_df.plot(figsize=(14,4), title='Time to compute nearest neighbours vs. number of vectors', ax=axes[0])\n",
    "ax.set(xlabel='Numer of vectors', ylabel='Time (ms)')\n",
    "ax2 = timings_df.loc[:, 'Annoy':'NMS'].plot(figsize=(14,4), title='Time to compute nearest neighbours vs. number of vectors', ax=axes[1])\n",
    "ax2.set(xlabel='Numer of vectors', ylabel='Time (ms)')"
   ]
  },
  {
   "cell_type": "markdown",
   "metadata": {},
   "source": [
    "As you can see, both NMSLib and Annoy are a lot faster than the pairwise distance method with a larger numbers of vectors. In fact at these volumes, we can't really see any response-time increase at all as we add more vectors.\n",
    "\n",
    "## So how does using an ANN library affect quality?\n",
    "\n",
    "To get an idea, let's use our Annoy and NMS indexes to calculate predictions, and then evaluate their 'precision at K' versus the built-in predict method from LightFM."
   ]
  },
  {
   "cell_type": "code",
   "execution_count": 30,
   "metadata": {},
   "outputs": [
    {
     "data": {
      "image/png": "[encoded data removed]",
      "text/plain": [
       "<matplotlib.figure.Figure at 0x1a0a666f90>"
      ]
     },
     "metadata": {},
     "output_type": "display_data"
    }
   ],
   "source": [
    "lightfm_pak = precision_at_k(model, test, k=10).mean()\n",
    "\n",
    "def annoy_precision_at_k(user_ids, k=10):\n",
    "    test_csr = test.tocsr()\n",
    "    paks = []\n",
    "    for user_id in user_ids:\n",
    "        test_interactions = test_csr[user_id].indices\n",
    "        if len(test_interactions) > 0:\n",
    "            recommendations = annoy_member_idx.get_nns_by_vector(np.append(user_embeddings[user_id], 0), k)\n",
    "            hits = len(set(test_interactions).intersection(recommendations))\n",
    "            pak = hits / (len(test_interactions) * 1.0)\n",
    "            paks.append(pak)\n",
    "    return np.array(paks).mean()\n",
    "\n",
    "annoy_pak = annoy_precision_at_k(np.arange(test.shape[0]))\n",
    "\n",
    "def nms_precision_at_k(user_ids, k=10):\n",
    "    test_csr = test.tocsr()\n",
    "    paks = []\n",
    "    for user_id in user_ids:\n",
    "        test_interactions = test_csr[user_id].indices\n",
    "        if len(test_interactions) > 0:\n",
    "            recommendations = nms_member_idx.knnQuery(np.append(user_embeddings[user_id], 0), k=10)[0]\n",
    "            hits = len(set(test_interactions).intersection(recommendations))\n",
    "            pak = hits / (len(test_interactions) * 1.0)\n",
    "            paks.append(pak)\n",
    "    return np.array(paks).mean()\n",
    "\n",
    "nms_pak = nms_precision_at_k(np.arange(test.shape[0]))\n",
    "\n",
    "plt.bar(['LightFm', 'Annoy', 'NMSLib'], [lightfm_pak, annoy_pak, nms_pak])\n",
    "plt.title('Precision at K=10, ANN vs. exact')\n",
    "plt.ylabel('Precision at k=10')\n",
    "plt.show()"
   ]
  },
  {
   "cell_type": "markdown",
   "metadata": {},
   "source": [
    "## So, should you use one of these libraries?\n",
    "\n",
    "On a smaller dataset, it's not worth the hassle and loss of accuracy for a small increase in speed. However, if you need to respond in < 100ms, then your vector set can only grow so large before you'll need to start thinking about one of these libraries. \n",
    "\n",
    "Annoy has the advantage of saving to a memory map, and so playing well with multiple processes in a production environment\n",
    "\n",
    "NMSlib outperforms Annoy in terms of accuracy, but I also found that constructing indexes over a large dataset was slower. This becomes a problem if you have to rebuild your index frequently because of fast moving product catalogues etc. "
   ]
  }
 ],
 "metadata": {
  "kernelspec": {
   "display_name": "Python 3",
   "language": "python",
   "name": "python3"
  },
  "language_info": {
   "codemirror_mode": {
    "name": "ipython",
    "version": 3
   },
   "file_extension": ".py",
   "mimetype": "text/x-python",
   "name": "python",
   "nbconvert_exporter": "python",
   "pygments_lexer": "ipython3",
   "version": "3.6.0"
  }
 },
 "nbformat": 4,
 "nbformat_minor": 1
}
