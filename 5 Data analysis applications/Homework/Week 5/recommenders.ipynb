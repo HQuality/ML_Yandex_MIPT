{
 "cells": [
  {
   "cell_type": "code",
   "execution_count": 1,
   "metadata": {
    "collapsed": true
   },
   "outputs": [],
   "source": [
    "from collections import Counter, OrderedDict\n",
    "import numpy as np"
   ]
  },
  {
   "cell_type": "code",
   "execution_count": 8,
   "metadata": {},
   "outputs": [],
   "source": [
    "with open(\"coursera_sessions_train.txt\") as f:\n",
    "    raw_train = f.readlines()"
   ]
  },
  {
   "cell_type": "code",
   "execution_count": 10,
   "metadata": {},
   "outputs": [],
   "source": [
    "for i in range(len(raw_train)):\n",
    "    raw_train[i]=raw_train[i].strip()"
   ]
  },
  {
   "cell_type": "code",
   "execution_count": 104,
   "metadata": {},
   "outputs": [],
   "source": [
    "raw_train_views = [s.split(';')[0] for s in raw_train]\n",
    "raw_train_buys = [s.split(';')[1].strip() for s in raw_train]"
   ]
  },
  {
   "cell_type": "code",
   "execution_count": 105,
   "metadata": {
    "collapsed": true
   },
   "outputs": [],
   "source": [
    "train_views = [line.split(',') for line in raw_train_views]"
   ]
  },
  {
   "cell_type": "code",
   "execution_count": 106,
   "metadata": {
    "collapsed": true
   },
   "outputs": [],
   "source": [
    "train_buys = [line.split(',') for line in raw_train_buys]"
   ]
  },
  {
   "cell_type": "code",
   "execution_count": 113,
   "metadata": {
    "collapsed": true
   },
   "outputs": [],
   "source": [
    "with open(\"coursera_sessions_test.txt\") as f:\n",
    "    raw_test = f.readlines()\n",
    "for i in range(len(raw_test)):\n",
    "    raw_test[i]=raw_test[i].strip()\n",
    "raw_test_views = [s.split(';')[0] for s in raw_test]\n",
    "raw_test_buys = [s.split(';')[1].strip() for s in raw_test]\n",
    "test_views = [line.split(',') for line in raw_test_views]\n",
    "test_buys = [line.split(',') for line in raw_test_buys]"
   ]
  },
  {
   "cell_type": "code",
   "execution_count": 30,
   "metadata": {},
   "outputs": [],
   "source": [
    "# flatten all lists:\n",
    "train_views_flatten = []\n",
    "for session in train_views:\n",
    "    for val in session:\n",
    "        train_views_flatten.append(val)\n",
    "        \n",
    "train_buys_flatten = []\n",
    "for session in train_buys:\n",
    "    for val in session:\n",
    "        if val!='':\n",
    "            train_buys_flatten.append(val)"
   ]
  },
  {
   "cell_type": "code",
   "execution_count": 31,
   "metadata": {},
   "outputs": [
    {
     "name": "stdout",
     "output_type": "stream",
     "text": [
      "['67', '60', '63', '86', '199', '303', '352', '519', '603', '604']\n"
     ]
    }
   ],
   "source": [
    "print train_buys_flatten[:10]"
   ]
  },
  {
   "cell_type": "code",
   "execution_count": 42,
   "metadata": {
    "collapsed": true
   },
   "outputs": [],
   "source": [
    "class OrderedCounter(Counter, OrderedDict):\n",
    "    'Counter that remembers the order elements are first encountered'\n",
    "\n",
    "    def __repr__(self):\n",
    "        return '%s(%r)' % (self.__class__.__name__, OrderedDict(self))\n",
    "\n",
    "    def __reduce__(self):\n",
    "        return self.__class__, (OrderedDict(self),)"
   ]
  },
  {
   "cell_type": "code",
   "execution_count": 43,
   "metadata": {},
   "outputs": [],
   "source": [
    "views_cnt = OrderedCounter(train_views_flatten)\n",
    "buys_cnt=OrderedCounter(train_buys_flatten)"
   ]
  },
  {
   "cell_type": "code",
   "execution_count": 124,
   "metadata": {},
   "outputs": [
    {
     "data": {
      "text/plain": [
       "5"
      ]
     },
     "execution_count": 124,
     "metadata": {},
     "output_type": "execute_result"
    }
   ],
   "source": [
    "buys_cnt['170']"
   ]
  },
  {
   "cell_type": "code",
   "execution_count": 54,
   "metadata": {},
   "outputs": [
    {
     "data": {
      "text/plain": [
       "6"
      ]
     },
     "execution_count": 54,
     "metadata": {},
     "output_type": "execute_result"
    }
   ],
   "source": [
    "# getting index of the key\n",
    "views_cnt.keys().index('9')"
   ]
  },
  {
   "cell_type": "code",
   "execution_count": 125,
   "metadata": {},
   "outputs": [
    {
     "name": "stdout",
     "output_type": "stream",
     "text": [
      "4479\n"
     ]
    }
   ],
   "source": [
    "# this param is needed for future sorting trick\n",
    "MAX = len(buys_cnt.keys())\n",
    "print MAX"
   ]
  },
  {
   "cell_type": "code",
   "execution_count": 84,
   "metadata": {
    "collapsed": true
   },
   "outputs": [],
   "source": [
    "def recommend_by_popularity(items):\n",
    "    #remove duplicates\n",
    "    items = list(set(items))\n",
    "    scores = []\n",
    "    orders = []\n",
    "    for item in items: \n",
    "        if not views_cnt.has_key(item):\n",
    "            scores.append(0)\n",
    "            orders.append(0)    \n",
    "        else:\n",
    "            scores.append(views_cnt[item])\n",
    "            orders.append(abs(views_cnt.keys().index(item)-MAX))\n",
    "    #print items\n",
    "    #print scores\n",
    "    #print orders*/\n",
    "    res = [i for (s,o,i) in sorted(zip(scores,orders,items), key=lambda pair: pair[:2], reverse=True)]\n",
    "    #print res\n",
    "    return res"
   ]
  },
  {
   "cell_type": "code",
   "execution_count": 85,
   "metadata": {},
   "outputs": [
    {
     "data": {
      "text/plain": [
       "['12', '9', '10', '11']"
      ]
     },
     "execution_count": 85,
     "metadata": {},
     "output_type": "execute_result"
    }
   ],
   "source": [
    "recommend_by_popularity(train_views[1])"
   ]
  },
  {
   "cell_type": "code",
   "execution_count": 126,
   "metadata": {},
   "outputs": [],
   "source": [
    "def recommend_by_buying(items):\n",
    "    #remove duplicates\n",
    "    items = list(set(items))\n",
    "    scores = []\n",
    "    orders = []\n",
    "    for item in items: \n",
    "        if not buys_cnt.has_key(item):\n",
    "            scores.append(0)\n",
    "        else:\n",
    "            scores.append(buys_cnt[item])\n",
    "        if not buys_cnt.has_key(item):\n",
    "            orders.append(0)\n",
    "        else:\n",
    "            orders.append(abs(buys_cnt.keys().index(item)-MAX))\n",
    "    #print items\n",
    "    #print scores\n",
    "    #print orders\n",
    "    res = [i for (s,o,i) in sorted(zip(scores,orders,items), key=lambda pair: pair[:2], reverse=True)]\n",
    "    #print res\n",
    "    return res"
   ]
  },
  {
   "cell_type": "code",
   "execution_count": 127,
   "metadata": {},
   "outputs": [
    {
     "data": {
      "text/plain": [
       "['5', '1', '0', '3', '2', '4']"
      ]
     },
     "execution_count": 127,
     "metadata": {},
     "output_type": "execute_result"
    }
   ],
   "source": [
    "recommend_by_buying(train_views[0])"
   ]
  },
  {
   "cell_type": "code",
   "execution_count": 100,
   "metadata": {},
   "outputs": [],
   "source": [
    "def precision_and_recall(recommendations, buys):\n",
    "    top1=recommendations[0]\n",
    "    top5=recommendations[:5]\n",
    "    buys_cnt = len(buys)\n",
    "    precision1=0.\n",
    "    precision5=0.\n",
    "    \n",
    "    if top1 in buys:\n",
    "        precision1=1.\n",
    "    top5buys=0.\n",
    "    for item in top5:\n",
    "        if item in buys:\n",
    "            top5buys+=1\n",
    "    precision5=top5buys/5\n",
    "    \n",
    "    recall1 = precision1/buys_cnt\n",
    "    recall5 = top5buys/buys_cnt\n",
    "    return precision1, precision5, recall1, recall5"
   ]
  },
  {
   "cell_type": "code",
   "execution_count": 101,
   "metadata": {},
   "outputs": [
    {
     "name": "stdout",
     "output_type": "stream",
     "text": [
      "['59', '60', '61', '62', '60', '63', '64', '65', '66', '61', '67', '68', '67'] ['67', '60', '63']\n"
     ]
    },
    {
     "data": {
      "text/plain": [
       "(1.0, 0.4, 0.3333333333333333, 0.6666666666666666)"
      ]
     },
     "execution_count": 101,
     "metadata": {},
     "output_type": "execute_result"
    }
   ],
   "source": [
    "print train_views[7],train_buys[7]\n",
    "precision_and_recall(recommend_by_popularity(train_views[7]),train_buys[7])"
   ]
  },
  {
   "cell_type": "code",
   "execution_count": 110,
   "metadata": {},
   "outputs": [
    {
     "ename": "TypeError",
     "evalue": "not all arguments converted during string formatting",
     "output_type": "error",
     "traceback": [
      "\u001b[1;31m---------------------------------------------------------------------------\u001b[0m",
      "\u001b[1;31mTypeError\u001b[0m                                 Traceback (most recent call last)",
      "\u001b[1;32m<ipython-input-110-6af387e2ea50>\u001b[0m in \u001b[0;36m<module>\u001b[1;34m()\u001b[0m\n\u001b[0;32m     14\u001b[0m     \u001b[0mall_r5\u001b[0m\u001b[1;33m.\u001b[0m\u001b[0mappend\u001b[0m\u001b[1;33m(\u001b[0m\u001b[0mrec5\u001b[0m\u001b[1;33m)\u001b[0m\u001b[1;33m\u001b[0m\u001b[0m\n\u001b[0;32m     15\u001b[0m \u001b[1;33m\u001b[0m\u001b[0m\n\u001b[1;32m---> 16\u001b[1;33m \u001b[0ms\u001b[0m \u001b[1;33m=\u001b[0m \u001b[1;34m\".2f .2f .2f .2f\"\u001b[0m \u001b[1;33m%\u001b[0m \u001b[1;33m(\u001b[0m\u001b[0mnp\u001b[0m\u001b[1;33m.\u001b[0m\u001b[0mmean\u001b[0m\u001b[1;33m(\u001b[0m\u001b[0mall_r1\u001b[0m\u001b[1;33m)\u001b[0m\u001b[1;33m,\u001b[0m \u001b[0mnp\u001b[0m\u001b[1;33m.\u001b[0m\u001b[0mmean\u001b[0m\u001b[1;33m(\u001b[0m\u001b[0mall_p1\u001b[0m\u001b[1;33m)\u001b[0m\u001b[1;33m,\u001b[0m \u001b[0mnp\u001b[0m\u001b[1;33m.\u001b[0m\u001b[0mmean\u001b[0m\u001b[1;33m(\u001b[0m\u001b[0mall_r5\u001b[0m\u001b[1;33m)\u001b[0m\u001b[1;33m,\u001b[0m \u001b[0mnp\u001b[0m\u001b[1;33m.\u001b[0m\u001b[0mmean\u001b[0m\u001b[1;33m(\u001b[0m\u001b[0mall_p5\u001b[0m\u001b[1;33m)\u001b[0m\u001b[1;33m)\u001b[0m\u001b[1;33m\u001b[0m\u001b[0m\n\u001b[0m\u001b[0;32m     17\u001b[0m \u001b[1;32mprint\u001b[0m \u001b[0ms\u001b[0m\u001b[1;33m\u001b[0m\u001b[0m\n\u001b[0;32m     18\u001b[0m \u001b[1;32mwith\u001b[0m \u001b[0mopen\u001b[0m\u001b[1;33m(\u001b[0m\u001b[1;34m\"w4_popularity_train.txt\"\u001b[0m\u001b[1;33m,\u001b[0m\u001b[1;34m'w'\u001b[0m\u001b[1;33m)\u001b[0m \u001b[1;32mas\u001b[0m \u001b[0mf\u001b[0m\u001b[1;33m:\u001b[0m\u001b[1;33m\u001b[0m\u001b[0m\n",
      "\u001b[1;31mTypeError\u001b[0m: not all arguments converted during string formatting"
     ]
    }
   ],
   "source": [
    "all_p1=[]\n",
    "all_p5=[]\n",
    "all_r1=[]\n",
    "all_r5=[]\n",
    "for i in range(len(train_views)):\n",
    "    views = train_views[i]\n",
    "    buys = train_buys[i]\n",
    "    if len(buys)==1 and buys[0]=='':\n",
    "        continue\n",
    "    pr1, pr5, rec1, rec5 = precision_and_recall(recommend_by_popularity(views), buys)\n",
    "    all_p1.append(pr1)\n",
    "    all_p5.append(pr5)\n",
    "    all_r1.append(rec1)\n",
    "    all_r5.append(rec5)"
   ]
  },
  {
   "cell_type": "code",
   "execution_count": 111,
   "metadata": {},
   "outputs": [
    {
     "name": "stdout",
     "output_type": "stream",
     "text": [
      "0.44 0.51 0.82 0.21\n"
     ]
    }
   ],
   "source": [
    "s = \"%.2f %.2f %.2f %.2f\" % (np.mean(all_r1), np.mean(all_p1), np.mean(all_r5), np.mean(all_p5))\n",
    "print s\n",
    "with open(\"w4_popularity_train.txt\",'w') as f:\n",
    "    f.write(s)"
   ]
  },
  {
   "cell_type": "code",
   "execution_count": 128,
   "metadata": {},
   "outputs": [
    {
     "name": "stdout",
     "output_type": "stream",
     "text": [
      "0.68 0.79 0.93 0.25\n"
     ]
    }
   ],
   "source": [
    "all_p1=[]\n",
    "all_p5=[]\n",
    "all_r1=[]\n",
    "all_r5=[]\n",
    "for i in range(len(train_views)):\n",
    "    views = train_views[i]\n",
    "    buys = train_buys[i]\n",
    "    if len(buys)==1 and buys[0]=='':\n",
    "        continue\n",
    "    pr1, pr5, rec1, rec5 = precision_and_recall(recommend_by_buying(views), buys)\n",
    "    all_p1.append(pr1)\n",
    "    all_p5.append(pr5)\n",
    "    all_r1.append(rec1)\n",
    "    all_r5.append(rec5)\n",
    "    \n",
    "s = \"%.2f %.2f %.2f %.2f\" % (np.mean(all_r1), np.mean(all_p1), np.mean(all_r5), np.mean(all_p5))\n",
    "print s\n",
    "with open(\"w4_buying_train.txt\",'w') as f:\n",
    "    f.write(s)"
   ]
  },
  {
   "cell_type": "code",
   "execution_count": 114,
   "metadata": {},
   "outputs": [
    {
     "name": "stdout",
     "output_type": "stream",
     "text": [
      "0.41 0.48 0.80 0.20\n"
     ]
    }
   ],
   "source": [
    "all_p1=[]\n",
    "all_p5=[]\n",
    "all_r1=[]\n",
    "all_r5=[]\n",
    "for i in range(len(test_views)):\n",
    "    views = test_views[i]\n",
    "    buys = test_buys[i]\n",
    "    if len(buys)==1 and buys[0]=='':\n",
    "        continue\n",
    "    pr1, pr5, rec1, rec5 = precision_and_recall(recommend_by_popularity(views), buys)\n",
    "    all_p1.append(pr1)\n",
    "    all_p5.append(pr5)\n",
    "    all_r1.append(rec1)\n",
    "    all_r5.append(rec5)\n",
    "    \n",
    "s = \"%.2f %.2f %.2f %.2f\" % (np.mean(all_r1), np.mean(all_p1), np.mean(all_r5), np.mean(all_p5))\n",
    "print s\n",
    "with open(\"w4_popularity_test.txt\",'w') as f:\n",
    "    f.write(s)"
   ]
  },
  {
   "cell_type": "code",
   "execution_count": 129,
   "metadata": {},
   "outputs": [
    {
     "name": "stdout",
     "output_type": "stream",
     "text": [
      "0.41 0.48 0.79 0.20\n"
     ]
    }
   ],
   "source": [
    "all_p1=[]\n",
    "all_p5=[]\n",
    "all_r1=[]\n",
    "all_r5=[]\n",
    "for i in range(len(test_views)):\n",
    "    views = test_views[i]\n",
    "    buys = test_buys[i]\n",
    "    if len(buys)==1 and buys[0]=='':\n",
    "        continue\n",
    "    pr1, pr5, rec1, rec5 = precision_and_recall(recommend_by_buying(views), buys)\n",
    "    all_p1.append(pr1)\n",
    "    all_p5.append(pr5)\n",
    "    all_r1.append(rec1)\n",
    "    all_r5.append(rec5)\n",
    "    \n",
    "s = \"%.2f %.2f %.2f %.2f\" % (np.mean(all_r1), np.mean(all_p1), np.mean(all_r5), np.mean(all_p5))\n",
    "print s\n",
    "with open(\"w4_buying_test.txt\",'w') as f:\n",
    "    f.write(s)"
   ]
  },
  {
   "cell_type": "code",
   "execution_count": null,
   "metadata": {
    "collapsed": true
   },
   "outputs": [],
   "source": []
  }
 ],
 "metadata": {
  "kernelspec": {
   "display_name": "Python 3",
   "language": "python",
   "name": "python3"
  },
  "language_info": {
   "codemirror_mode": {
    "name": "ipython",
    "version": 3
   },
   "file_extension": ".py",
   "mimetype": "text/x-python",
   "name": "python",
   "nbconvert_exporter": "python",
   "pygments_lexer": "ipython3",
   "version": "3.7.1"
  }
 },
 "nbformat": 4,
 "nbformat_minor": 1
}
